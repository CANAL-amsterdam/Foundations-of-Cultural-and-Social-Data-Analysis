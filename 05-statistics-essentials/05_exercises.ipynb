{
  "cells": [
    {
      "cell_type": "markdown",
      "metadata": {
        "id": "view-in-github",
        "colab_type": "text"
      },
      "source": [
        "<a href=\"https://colab.research.google.com/github/CANAL-amsterdam/Foundations-of-Cultural-and-Social-Data-Analysis/blob/main/05-statistics-essentials/05_exercises.ipynb\" target=\"_parent\"><img src=\"https://colab.research.google.com/assets/colab-badge.svg\" alt=\"Open In Colab\"/></a>"
      ]
    },
    {
      "cell_type": "code",
      "execution_count": null,
      "id": "4b3f8c19",
      "metadata": {
        "id": "4b3f8c19"
      },
      "outputs": [],
      "source": [
        "!pip install \"numpy<2,>=1.13\" \"pandas~=1.1\" \"matplotlib<4,>=2.1\" \"scipy<2,>=0.18\" \"scikit-learn>=0.19\" \"mpl-axes-aligner<2,>=1.1\""
      ]
    },
    {
      "cell_type": "code",
      "source": [
        "!git clone https://github.com/CANAL-amsterdam/Foundations-of-Cultural-and-Social-Data-Analysis\n",
        "%cd Foundations-of-Cultural-and-Social-Data-Analysis/05-statistics-essentials\n",
        "!ls\n"
      ],
      "metadata": {
        "id": "AwB6xWRaaUHy"
      },
      "id": "AwB6xWRaaUHy",
      "execution_count": null,
      "outputs": []
    },
    {
      "cell_type": "markdown",
      "id": "9cb8317c",
      "metadata": {
        "id": "9cb8317c"
      },
      "source": [
        "## Exercises\n",
        "\n",
        "The <span class=\"index\">Tate galleries</span> consist of four art museums in the United Kingdom. The museums --\n",
        "Tate Britain, Tate Modern in London, Tate Liverpool, and Tate St. Ives in Cornwall --\n",
        "house the United Kingdom's national collection of British art, as well as an international\n",
        "collection of modern and contemporary art. Tate has made available metadata for\n",
        "approximately 70,000 of its artworks.  In the following set of exercises, we will explore\n",
        "and describe this dataset using some of this chapter's summary statistics.\n",
        "\n",
        "A CSV file of these metadata is stored in the `data` folder, `tate.csv`, in compressed\n",
        "form `tate.csv.gz`. We decompress and load it with the following lines of code:"
      ]
    },
    {
      "cell_type": "code",
      "execution_count": null,
      "id": "6625c821",
      "metadata": {
        "id": "6625c821"
      },
      "outputs": [],
      "source": [
        "import pandas as pd\n",
        "\n",
        "tate = pd.read_csv(\"data/tate.csv.gz\")\n",
        "# remove objects for which no suitable year information is given:\n",
        "tate = tate[tate['year'].notnull()]\n",
        "tate = tate[tate['year'].str.isdigit()]\n",
        "tate['year'] = tate['year'].astype('int')"
      ]
    },
    {
      "cell_type": "markdown",
      "id": "13ae628a",
      "metadata": {
        "id": "13ae628a"
      },
      "source": [
        "### Easy\n",
        "1. The dataset provides information about the dimensions of most artworks in the\n",
        "   collection (expressed in millimeters). Compute the mean and median width (column `width`), height (column\n",
        "   `height`), and total size (i.e., the length times the height) of the artworks. Is the\n",
        "   median a better guess than the mean for this sample of artworks?\n",
        "2. Draw histograms for the width, height, and size of the artworks. Why would it make sense\n",
        "   to take the logarithm of the data before plotting?\n",
        "3. Compute the *range* of the width and height in the collection. Do you think the range\n",
        "   is an appropriate measure of dispersion for these data? Explain why you think it is or\n",
        "   isn't.\n",
        "\n",
        "### Moderate\n",
        "1. With the advent of postmodernism, the sizes of the artworks became more varied and\n",
        "   extreme. Make a scatter plot of the artworks' size (Y axis) over time (X axis). Add a\n",
        "   line to the scatter plot representing the mean size per year. What do you observe?\n",
        "   (Hint: use the column `year`, convert the data to a logarithmic scale for better\n",
        "   visibility, and reduce the opacity (e.g., `alpha=0.1`) of the dots in the scatter\n",
        "   plot.)\n",
        "2. To obtain a better understanding of the changes in size over time, create two box plots\n",
        "   which summarize the distributions of the artwork sizes from before and\n",
        "   after 1950. Explain the different components of the box plots. How do the two box plots\n",
        "   relate to the scatter plot in the previous exercise?\n",
        "3. In this exercise, we will create an alternative visualization of the changes in shapes\n",
        "   of the artworks. The following code block implements the function `create_rectangle()`,\n",
        "   with which we can draw rectangles given a specified width and height [^credits].\n",
        "\n",
        "   ```python\n",
        "   import matplotlib\n",
        "   \n",
        "   def create_rectangle(width, height):\n",
        "       return matplotlib.patches.Rectangle(\n",
        "           (-(width / 2), -(height / 2)), width, height,\n",
        "           fill=False, alpha=0.1)\n",
        "    \n",
        "   fig, ax = plt.subplots(figsize=(6, 6))\n",
        "   row = tate.sample(n=1).iloc[0]  # sample an artwork for plotting\n",
        "   ax.add_patch(create_rectangle(row['width'], row['height']))\n",
        "   ax.set(xlim=(-4000, 4000), ylim=(-4000, 4000))\n",
        "   ```\n",
        "\n",
        "   Sample 2,000 artworks from before 1950, and 2,000 artworks created after 1950. Use the\n",
        "   code from above to plot the shapes of the artworks in each period in two separate\n",
        "   subplots. Explain the results.\n",
        "\n",
        "### Challenging\n",
        "\n",
        "1. The `artist` column provides the name of the artist of each artwork in the\n",
        "   collection. Certain artists occur more frequently than others, and in this exercise, we\n",
        "   will investigate the diversity of the Tate collection in terms of its artists. First,\n",
        "   compute the entropy of the artist frequencies in the entire collection. Then, compute\n",
        "   and compare the entropy for artworks from before and after 1950. Describe and interpret\n",
        "   your results.\n",
        "2. For most of the artworks in the collection, the metadata provides information about\n",
        "   what subjects are depicted. This information is stored in the column `subject`. Works\n",
        "   of art can be assigned to one or more categories, such as \"nature\", \"literature and\n",
        "   fiction\", and \"work and occupations\". In this exercise we investigate the associations\n",
        "   and dependence between some of the categories. First calculate the mutual information\n",
        "   between the categories \"emotions\" and \"concepts and ideas\". What does the relatively\n",
        "   high mutual information score mean for these concepts? Next, compute the mutual\n",
        "   information between \"nature\" and \"abstraction\". How should we interpret the information\n",
        "   score between these categories? (Hint: to compute the mutual information between\n",
        "   categories, it might be useful to first convert the data into a document-term matrix.)\n",
        "3. In the blog post, [The Dimensions of\n",
        "   Art](https://web.archive.org/web/20190708205952/https://ifweassume.blogspot.com/2013/11/the-dimensions-of-art.html),\n",
        "   that gave us the inspiration for these exercises, James Davenport makes three\n",
        "   interesting claims about the dimensions of the artworks in the Tate Collections. We\n",
        "   quote the author in full:\n",
        "   > 1. *On the whole, people prefer to make 4x3 artwork*: This may largely be driven by\n",
        "   >    stock canvas sizes available from art suppliers.\n",
        "   > 2. *There are more tall pieces than wide pieces*: I find this fascinating, and\n",
        "   >    speculate it may be due to portraits and paintings.\n",
        "   > 3. *People are using the Golden Ratio*: Despite any obvious basis for its use, there\n",
        "   >    are clumps for both wide and tall pieces at the so-called \"Golden Ratio\",\n",
        "   >    approximately 1:1.681 [...].\n",
        "   \n",
        "   Can you add quantitative support for these claims? Do you agree with James Davenport on\n",
        "   all statements?\n",
        "\n",
        "[^credits]: The idea for this exercise was taken from a blog post, [\n",
        "The Dimensions of Art](https://web.archive.org/web/20190708205952/https://ifweassume.blogspot.com/2013/11/the-dimensions-of-art.html), by James Davenport."
      ]
    }
  ],
  "metadata": {
    "jupytext": {
      "cell_metadata_filter": "-all",
      "formats": "md:myst",
      "text_representation": {
        "extension": ".md",
        "format_name": "myst",
        "format_version": 0.13,
        "jupytext_version": "1.10.3"
      }
    },
    "kernelspec": {
      "display_name": "Python 3 (ipykernel)",
      "language": "python",
      "name": "python3"
    },
    "language_info": {
      "codemirror_mode": {
        "name": "ipython",
        "version": 3
      },
      "file_extension": ".py",
      "mimetype": "text/x-python",
      "name": "python",
      "nbconvert_exporter": "python",
      "pygments_lexer": "ipython3",
      "version": "3.9.19"
    },
    "source_map": [
      16,
      21,
      26,
      31,
      147,
      160,
      175,
      181,
      188,
      203,
      209,
      214,
      219,
      232,
      239,
      258,
      260,
      285,
      287,
      295,
      297,
      315,
      320,
      340,
      343,
      347,
      349,
      368,
      374,
      377,
      384,
      388,
      396,
      402,
      412,
      421,
      431,
      437,
      442,
      445,
      467,
      475,
      486,
      499,
      520,
      522,
      528,
      531,
      536,
      538,
      551,
      560,
      565,
      574,
      585,
      677,
      687,
      694,
      696,
      729,
      740,
      746,
      753,
      757,
      765,
      779,
      787,
      795,
      807,
      829,
      831,
      873,
      876,
      885,
      889,
      911,
      914,
      919,
      923,
      957,
      972,
      1032,
      1038
    ],
    "colab": {
      "provenance": [],
      "include_colab_link": true
    }
  },
  "nbformat": 4,
  "nbformat_minor": 5
}