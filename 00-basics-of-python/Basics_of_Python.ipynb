{
  "cells": [
    {
      "cell_type": "markdown",
      "metadata": {
        "id": "view-in-github",
        "colab_type": "text"
      },
      "source": [
        "<a href=\"https://colab.research.google.com/github/CANAL-amsterdam/Foundations-of-Cultural-and-Social-Data-Analysis/blob/main/00-basics-of-python/Basics_of_Python.ipynb\" target=\"_parent\"><img src=\"https://colab.research.google.com/assets/colab-badge.svg\" alt=\"Open In Colab\"/></a>"
      ]
    },
    {
      "cell_type": "markdown",
      "metadata": {
        "id": "NsYGbsf6EAKI"
      },
      "source": [
        "# Python crash course\n",
        "\n",
        "If you already did this before, feel free to skim through it for a refresher and do the exercises (including those at the end).\n",
        "\n",
        "*This notebook can also be used as a Python syntax reference throughout the course.*\n",
        "\n",
        "A Jupyter notebook is an interactive way to run Python code. In a notebook there are three types of cells:\n",
        "- code\n",
        "- markdown\n",
        "- raw\n",
        "\n",
        "We will use `code` cells for Python code, and `markdown` cells for instructions.\n",
        "\n",
        "You can execute code cells and the code in them by selecting the cell and pressing `shift + enter`"
      ]
    },
    {
      "cell_type": "markdown",
      "metadata": {
        "id": "DV4HExTmEAKK"
      },
      "source": [
        "### The Zen of Python\n",
        "\n",
        "The 20 principles that influences the design of Python.\n",
        "\n",
        "Written in the 1999, they have been included as the 20th entry of the Python Enhancement Proposals (a.k.a. [PEP 20](https://www.python.org/dev/peps/pep-0020/))."
      ]
    },
    {
      "cell_type": "code",
      "execution_count": null,
      "metadata": {
        "id": "cKYyggLpEAKK"
      },
      "outputs": [],
      "source": [
        "# eastern egg\n",
        "import this # import is used to pull code from somewhere else (e.g., the Python standard library)\n",
        "# this, by the way, is a comment: a piece of text which will not be executed as code"
      ]
    },
    {
      "cell_type": "markdown",
      "metadata": {
        "id": "972YdyFSEAKK"
      },
      "source": [
        "*In December 1989, Van Rossum had been looking for a \"'hobby' programming project that would keep [him] occupied during the week around Christmas\" as his office was closed when he decided to write an interpreter for a \"new scripting language [he] had been thinking about lately: a descendant of ABC that would appeal to Unix/C hackers\". He attributes choosing the name \"Python\" to \"being in a slightly irreverent mood (and a big fan of Monty Python's Flying Circus)\".* https://en.wikipedia.org/wiki/Guido_van_Rossum"
      ]
    },
    {
      "cell_type": "markdown",
      "metadata": {
        "id": "yNg73C0eEAKL"
      },
      "source": [
        "## Getting Started\n",
        "\n",
        "The simplest way is to type commands directly in the **Interactive** IPython shell:"
      ]
    },
    {
      "cell_type": "code",
      "execution_count": null,
      "metadata": {
        "id": "fCkVynkfEAKL"
      },
      "outputs": [],
      "source": [
        "print(\"Hello World!\")"
      ]
    },
    {
      "cell_type": "code",
      "execution_count": null,
      "metadata": {
        "id": "ef8EQrx0EAKM"
      },
      "outputs": [],
      "source": [
        "# check where you are at\n",
        "!pwd"
      ]
    },
    {
      "cell_type": "code",
      "execution_count": null,
      "metadata": {
        "id": "jjCLy7I9EAKM"
      },
      "outputs": [],
      "source": [
        "# check the contents of current working directory\n",
        "! ls"
      ]
    },
    {
      "cell_type": "code",
      "execution_count": null,
      "metadata": {
        "id": "9JWrNInyEAKN"
      },
      "outputs": [],
      "source": [
        "# to move in the folder hierarchy use `%cd` followed by the folder name\n"
      ]
    },
    {
      "cell_type": "markdown",
      "metadata": {
        "id": "M-pMDlvzEAKN"
      },
      "source": [
        "## Variables\n",
        "\n",
        "Variables are reserved **memory locations** used by a computer program.\n",
        "\n",
        "Each variable is associated with an **identifier** (i.e. a name). Python restricts the naming possibilities of a variable:\n",
        "\n",
        "- identifier characters may be letters, digits or underscores...\n",
        "\n",
        "- ... but the first character cannot be a number\n",
        "\n",
        "- Python keywords cannot be used as identifiers"
      ]
    },
    {
      "cell_type": "code",
      "execution_count": null,
      "metadata": {
        "id": "ER5xkYvFEAKN"
      },
      "outputs": [],
      "source": [
        "a = 10 # the number/integer 10 is stored in the variable a"
      ]
    },
    {
      "cell_type": "code",
      "execution_count": null,
      "metadata": {
        "id": "nQn_3oO-EAKO"
      },
      "outputs": [],
      "source": [
        "print(a)"
      ]
    },
    {
      "cell_type": "code",
      "execution_count": null,
      "metadata": {
        "id": "caw6AJzBEAKO"
      },
      "outputs": [],
      "source": [
        "a = \"Hello\" # the string \"hello\" is stored in the variable a\n",
        "print(a)"
      ]
    },
    {
      "cell_type": "code",
      "execution_count": null,
      "metadata": {
        "id": "GUav84tPEAKO"
      },
      "outputs": [],
      "source": [
        "# list of Python keywords\n",
        "import keyword\n",
        "print(keyword.kwlist)"
      ]
    },
    {
      "cell_type": "code",
      "execution_count": null,
      "metadata": {
        "id": "WkxoqnAiEAKO"
      },
      "outputs": [],
      "source": [
        "# Nope.\n",
        "None = 10"
      ]
    },
    {
      "cell_type": "markdown",
      "metadata": {
        "id": "P0S8ToOyEAKP"
      },
      "source": [
        "Variables are created when you first assign a value to them.\n",
        "\n",
        "The symbol `=` is used to assign values to variables."
      ]
    },
    {
      "cell_type": "code",
      "execution_count": null,
      "metadata": {
        "id": "N7hGKmy-EAKP"
      },
      "outputs": [],
      "source": [
        "# let's associate the value 55 to the variable named \"a_number\"\n",
        "a_number = 55"
      ]
    },
    {
      "cell_type": "code",
      "execution_count": null,
      "metadata": {
        "id": "jnJypNwqEAKP"
      },
      "outputs": [],
      "source": [
        "# the type of value of the variable can be inspected with the function type()\n",
        "type(a_number)"
      ]
    },
    {
      "cell_type": "markdown",
      "metadata": {
        "id": "4ZeakB5fEAKP"
      },
      "source": [
        "##### Variable types can change during the execution of a command"
      ]
    },
    {
      "cell_type": "code",
      "execution_count": null,
      "metadata": {
        "id": "TwO5EzleEAKP"
      },
      "outputs": [],
      "source": [
        "# Let's convert our numerical variable into a digit (i.e. into text)\n",
        "a_number = str(a_number)\n",
        "a_number\n",
        "type(a_number)"
      ]
    },
    {
      "cell_type": "markdown",
      "metadata": {
        "collapsed": true,
        "jupyter": {
          "outputs_hidden": true
        },
        "id": "KMGhWeNgEAKP"
      },
      "source": [
        "## Built-in data types\n",
        "\n",
        "Python natively supports the following basic types:\n",
        "\n",
        "- **Boolean**: *bool*\n",
        "\n",
        "- **None**: *NoneType*\n",
        "\n",
        "- **Numerical**: *int*, *float*, *long*, *complex*\n",
        "\n",
        "- **Sequence**: *string*, *list*, *tuple*\n",
        "\n",
        "- **Set**: *set*, *frozenset*\n",
        "\n",
        "- **Dictionaries**\n"
      ]
    },
    {
      "cell_type": "markdown",
      "metadata": {
        "id": "F-voDEU3EAKQ"
      },
      "source": [
        "#### Mutable vs. Immutable objects\n",
        "\n",
        "Python data types can be organized by distinguishing those types whose objects can change after their creation (**Mutable**) and those that do not admit such possibility (**Immutable**).\n",
        "\n",
        "| Immutables|   Mutables|\n",
        "|:---------:|:---------:|\n",
        "|  Numerical|          -|\n",
        "|     String|          -|\n",
        "|      Tuple|       List|\n",
        "|  Frozenset|        Set|\n",
        "|          -| Dictionary|"
      ]
    },
    {
      "cell_type": "markdown",
      "metadata": {
        "id": "sTNM8RtxEAKQ"
      },
      "source": [
        "### NoneType\n",
        "\n",
        "It has one sole value: `None`. It is used to represent the absence of a value, which is not the same as it being 0.\n"
      ]
    },
    {
      "cell_type": "markdown",
      "metadata": {
        "id": "0B7p763OEAKQ"
      },
      "source": [
        "### bool\n",
        "\n",
        "Boolean logical values, can be `True` or `False`.\n",
        "\n",
        "To be used to represent the truth or falsity of some condition."
      ]
    },
    {
      "cell_type": "markdown",
      "metadata": {
        "id": "bUQ18KVQEAKQ"
      },
      "source": [
        "#### Boolean Operators\n",
        "\n",
        "- **and**: conjunction\n",
        "- **or**: inclusive disjunction\n",
        "- **not**: negation"
      ]
    },
    {
      "cell_type": "code",
      "execution_count": null,
      "metadata": {
        "id": "ZunF7NtgEAKQ"
      },
      "outputs": [],
      "source": [
        "True and False or True"
      ]
    },
    {
      "cell_type": "markdown",
      "metadata": {
        "id": "uWC9XcOQEAKQ"
      },
      "source": [
        "### Numerical Types\n",
        "\n",
        "- **int**: integers, e.g. `92`\n",
        "- **long**: long integers of non-limited length, e.g. `15L`\n",
        "- **float**: floating-point numbers, e.g. `8.75638`\n",
        "- **complex**: complex numbers, e.g. `1.23+4.56j`\n",
        "\n",
        "N.B.: We will mostly work with Integers and Floats.\n"
      ]
    },
    {
      "cell_type": "markdown",
      "metadata": {
        "id": "eEsODD1KEAKQ"
      },
      "source": [
        "#### Using Python as a Calculator\n",
        "\n",
        "The simplest way to perform calculations with Python is by using the interactive shell as a fancy calculator.\n",
        "\n",
        "Some of the operations supported by all the numeric types are:"
      ]
    },
    {
      "cell_type": "code",
      "execution_count": null,
      "metadata": {
        "id": "_YSMEiFoEAKR"
      },
      "outputs": [],
      "source": [
        "# addition\n",
        "3 + 5"
      ]
    },
    {
      "cell_type": "code",
      "execution_count": null,
      "metadata": {
        "id": "tyRwb464EAKR"
      },
      "outputs": [],
      "source": [
        "# difference\n",
        "9 - 5"
      ]
    },
    {
      "cell_type": "code",
      "execution_count": null,
      "metadata": {
        "id": "eHQEKQZUEAKR"
      },
      "outputs": [],
      "source": [
        "# product\n",
        "9 * 50"
      ]
    },
    {
      "cell_type": "code",
      "execution_count": null,
      "metadata": {
        "id": "ukSqtUdTEAKR"
      },
      "outputs": [],
      "source": [
        "# quotient\n",
        "9 / 2"
      ]
    },
    {
      "cell_type": "code",
      "execution_count": null,
      "metadata": {
        "id": "ELA3jMSJEAKV"
      },
      "outputs": [],
      "source": [
        "# Floor division, rounds off the lowest round number after division\n",
        "9 // 2"
      ]
    },
    {
      "cell_type": "code",
      "execution_count": null,
      "metadata": {
        "id": "ihnhwn67EAKV"
      },
      "outputs": [],
      "source": [
        "# the remainder of the floored quotient\n",
        "9 % 2"
      ]
    },
    {
      "cell_type": "code",
      "execution_count": null,
      "metadata": {
        "id": "aS7QPYLmEAKV"
      },
      "outputs": [],
      "source": [
        "# x to the power of y\n",
        "3 ** 2"
      ]
    },
    {
      "cell_type": "code",
      "execution_count": null,
      "metadata": {
        "id": "G2Cw_xiqEAKW"
      },
      "outputs": [],
      "source": [
        "# Round a number to a given precision in decimal digits (default 0 digits)\n",
        "round(1.765432, 3)"
      ]
    },
    {
      "cell_type": "markdown",
      "metadata": {
        "id": "sDoERbVNEAKW"
      },
      "source": [
        "---"
      ]
    },
    {
      "cell_type": "markdown",
      "metadata": {
        "id": "dZQb4NK6EAKW"
      },
      "source": [
        "### Quiz\n",
        "\n",
        "Calculate the number of seconds we're going to spend in this classroom together."
      ]
    },
    {
      "cell_type": "code",
      "execution_count": null,
      "metadata": {
        "id": "zwAFke4-EAKW"
      },
      "outputs": [],
      "source": [
        "# your code here"
      ]
    },
    {
      "cell_type": "markdown",
      "metadata": {
        "id": "V0a31erkEAKW"
      },
      "source": [
        "---"
      ]
    },
    {
      "cell_type": "markdown",
      "metadata": {
        "id": "0v3sU0DVEAKW"
      },
      "source": [
        "#### (Optional)\n",
        "\n",
        "While the previous operators produce new variables, the following perform the operation **in-place**.\n",
        "\n",
        "That is, the variable itself is changed in the result of the process."
      ]
    },
    {
      "cell_type": "code",
      "execution_count": null,
      "metadata": {
        "id": "FQ8tGpgaEAKW"
      },
      "outputs": [],
      "source": [
        "# our variable\n",
        "a_number = 8"
      ]
    },
    {
      "cell_type": "code",
      "execution_count": null,
      "metadata": {
        "id": "1NigJ7gvEAKX"
      },
      "outputs": [],
      "source": [
        "# IN PLACE addition\n",
        "a_number += 3\n",
        "a_number"
      ]
    },
    {
      "cell_type": "code",
      "execution_count": null,
      "metadata": {
        "id": "VlzP9sNWEAKX"
      },
      "outputs": [],
      "source": [
        "# IN PLACE subtraction\n",
        "a_number -= 3\n",
        "a_number"
      ]
    },
    {
      "cell_type": "code",
      "execution_count": null,
      "metadata": {
        "id": "PyLS-LBBEAKX"
      },
      "outputs": [],
      "source": [
        "# IN PLACE multiplication\n",
        "a_number *= 3\n",
        "a_number"
      ]
    },
    {
      "cell_type": "code",
      "execution_count": null,
      "metadata": {
        "id": "mqsGFwo-EAKX"
      },
      "outputs": [],
      "source": [
        "# IN PLACE division\n",
        "a_number /= 3\n",
        "a_number"
      ]
    },
    {
      "cell_type": "code",
      "execution_count": null,
      "metadata": {
        "id": "n6D8SWkJEAKX"
      },
      "outputs": [],
      "source": [
        "# IN PLACE modulus\n",
        "a_number %= 3\n",
        "a_number"
      ]
    },
    {
      "cell_type": "markdown",
      "metadata": {
        "id": "mw0kIlkqEAKX"
      },
      "source": [
        "### Relational Operators\n",
        "\n",
        "Comparisons are supported by all objects. The main comparison operators are:\n",
        "\n",
        "|   Operator|                Semantics|\n",
        "|:---------:|:-----------------------:|\n",
        "|         ==|                    equal|\n",
        "|         !=|                not equal|\n",
        "|          <|                less-than|\n",
        "|         <=|    less-than or equal to|\n",
        "|          >|             greater-than|\n",
        "|         >=| greater-then or equal to|\n",
        "|         is| object identity|\n",
        "|         is not| negated object identity|\n",
        "\n",
        "Relational operators are used to **test conditions**, and the output is a boolean value"
      ]
    },
    {
      "cell_type": "code",
      "execution_count": null,
      "metadata": {
        "id": "KYCDFdh0EAKY"
      },
      "outputs": [],
      "source": [
        "# is 7 bigger than 9?\n",
        "7 > 9"
      ]
    },
    {
      "cell_type": "markdown",
      "metadata": {
        "id": "ri9yhnQYEAKY"
      },
      "source": [
        "---"
      ]
    },
    {
      "cell_type": "markdown",
      "metadata": {
        "id": "hM2ygzvBEAKY"
      },
      "source": [
        "## Sequences\n",
        "\n",
        "We will focus on three types of sequences: **strings**, **lists** and **tuples** (see the [documentation](https://docs.python.org/2/library/stdtypes.html#sequence-types-str-unicode-list-tuple-bytearray-buffer-xrange) for the full list).\n",
        "\n",
        "Most sequence types support the following operations (where `s` and `t` are sequences, `n`, `i` and `j` integers):\n",
        "\n",
        "|   Operation|                Result|\n",
        "|:----------:|:-----------------------:|\n",
        "|      x in s|  True if an item of s is equal to x|\n",
        "|  x not in s|  False if an item of s is equal to x|\n",
        "|       s + t| Concatenation of s and t|\n",
        "|       s * n|   add s to itself n times (negative n are treated as 0)|\n",
        "|        s[i]|\tith item of s, origin 0|\n",
        "|      s[i:j]|   slice of s from i to j|\n",
        "|    s[i:j:k]| slice of s from i to j with step k|\n",
        "|      len(s)| length of s|\n",
        "|      min(s)| smallest item of s|\n",
        "|      max(s)| largest item of s|\n",
        "|  s.index(x)| index of the first occurrence of x in s |\n",
        "|  s.count(x)| total number of occurrences of x in s|"
      ]
    },
    {
      "cell_type": "markdown",
      "metadata": {
        "id": "mkfp604IEAKY"
      },
      "source": [
        "### Lists\n",
        "\n",
        "\n",
        "Lists are **ordered** **mutable** sequences of **heterogeneous** elements.\n",
        "\n",
        "In the Python language, lists are defined by square brackets `[]` and their elements are separated by commas."
      ]
    },
    {
      "cell_type": "code",
      "execution_count": null,
      "metadata": {
        "id": "1P4seLg-EAKY"
      },
      "outputs": [],
      "source": [
        "# lists can contain different types of objects (even another list like [1,2,3])\n",
        "demo_list = [\"text\", 23, 92, \"another_text\", [1,2,3]]\n",
        "print(demo_list)"
      ]
    },
    {
      "cell_type": "code",
      "execution_count": null,
      "metadata": {
        "id": "SoJryWBPEAKY"
      },
      "outputs": [],
      "source": [
        "# len() returns the length of the list\n",
        "len(demo_list)"
      ]
    },
    {
      "cell_type": "code",
      "execution_count": null,
      "metadata": {
        "id": "UNBX-IasEAKY"
      },
      "outputs": [],
      "source": [
        "# membership verification (return a boolean value)\n",
        "23 in demo_list"
      ]
    },
    {
      "cell_type": "code",
      "execution_count": null,
      "metadata": {
        "id": "kd05rSeBEAKY"
      },
      "outputs": [],
      "source": [
        "# concatenation\n",
        "new_demo_list = demo_list + demo_list\n",
        "new_demo_list"
      ]
    },
    {
      "cell_type": "code",
      "execution_count": null,
      "metadata": {
        "id": "fNxQDH-NEAKZ"
      },
      "outputs": [],
      "source": [
        "# repetition\n",
        "new_demo_list = demo_list * 3\n",
        "new_demo_list"
      ]
    },
    {
      "cell_type": "markdown",
      "metadata": {
        "id": "5CQeszl7EAKZ"
      },
      "source": [
        "#### Lists are ordered"
      ]
    },
    {
      "cell_type": "code",
      "execution_count": null,
      "metadata": {
        "id": "u1TMmvA8EAKZ"
      },
      "outputs": [],
      "source": [
        "# lists are ordered, elements can be recalled by using their index (remember that the index of the first element is 0)\n",
        "demo_list[0]"
      ]
    },
    {
      "cell_type": "code",
      "execution_count": null,
      "metadata": {
        "id": "1ZiS2PqzEAKZ"
      },
      "outputs": [],
      "source": [
        "# the index \"-1\" is associated with the last element\n",
        "demo_list[-1]"
      ]
    },
    {
      "cell_type": "code",
      "execution_count": null,
      "metadata": {
        "id": "CzjCT01-EAKZ"
      },
      "outputs": [],
      "source": [
        "# check the position of the element \"23\"\n",
        "demo_list.index(23)"
      ]
    },
    {
      "cell_type": "markdown",
      "metadata": {
        "id": "D7oa0ymQEAKZ"
      },
      "source": [
        "#### Slicing\n",
        "\n",
        "\n",
        "Slicing is a **computationally fast** way to extract a portion of a sequence in order to create a new sequence.\n",
        "\n",
        "Slicing Notation works in the following way:\n",
        "\n",
        "\n",
        "```python\n",
        "sequence[start:stop:step]\n",
        "```"
      ]
    },
    {
      "cell_type": "markdown",
      "metadata": {
        "id": "giRPc2SNEAKa"
      },
      "source": [
        "##### Slicing rules\n",
        "\n",
        "- The slice of the sequence `s` from `start` to `stop` is defined as the sequence of items with index `k` such that `start` <= `k` < `stop`.\n",
        "\n",
        "\n",
        "- If `start` or `stop` is greater than len(`s`), use len(`s`).\n",
        "\n",
        "\n",
        "- If `start` is omitted or `None`, use 0.\n",
        "\n",
        "\n",
        "- If `stop` is omitted or `None`, use len(`s`).\n",
        "\n",
        "\n",
        "- If `start` or `stop` is negative, the index is relative to the end of sequence."
      ]
    },
    {
      "cell_type": "code",
      "execution_count": null,
      "metadata": {
        "id": "0ixWc5CXEAKa"
      },
      "outputs": [],
      "source": [
        "print(demo_list)"
      ]
    },
    {
      "cell_type": "code",
      "execution_count": null,
      "metadata": {
        "id": "qVJJi29REAKa"
      },
      "outputs": [],
      "source": [
        "# slicing with positive indices\n",
        "demo_list[1:3]"
      ]
    },
    {
      "cell_type": "code",
      "execution_count": null,
      "metadata": {
        "id": "8k1BgFYmEAKa"
      },
      "outputs": [],
      "source": [
        "# slicing works with negative indices as well\n",
        "demo_list[-3:-1]"
      ]
    },
    {
      "cell_type": "code",
      "execution_count": null,
      "metadata": {
        "id": "OoB-DWwkEAKa"
      },
      "outputs": [],
      "source": [
        "# slicing works with a mixture of positive and negative indices\n",
        "demo_list[1:-2]"
      ]
    },
    {
      "cell_type": "code",
      "execution_count": null,
      "metadata": {
        "id": "v22dSrwyEAKa"
      },
      "outputs": [],
      "source": [
        "# if an index is omitted, Python reaches the first or the last element of the list\n",
        "demo_list[2:]"
      ]
    },
    {
      "cell_type": "code",
      "execution_count": null,
      "metadata": {
        "id": "6OrzvElGEAKa"
      },
      "outputs": [],
      "source": [
        "# the same as above, with the first index omitted\n",
        "demo_list[:3]"
      ]
    },
    {
      "cell_type": "code",
      "execution_count": null,
      "metadata": {
        "id": "q4pv_RUwEAKb"
      },
      "outputs": [],
      "source": [
        "# slicing with steps\n",
        "demo_list[1::2]"
      ]
    },
    {
      "cell_type": "markdown",
      "metadata": {
        "id": "LC7_c8rFEAKb"
      },
      "source": [
        "---"
      ]
    },
    {
      "cell_type": "markdown",
      "metadata": {
        "id": "bO-SpukLEAKb"
      },
      "source": [
        "### Quiz\n",
        "\n",
        "The following code creates a list whose length is a-priori unknown. Extract:\n",
        "\n",
        "- the last element of the list by using a positive index\n",
        "\n",
        "\n",
        "- the first element of the list by using a negative index"
      ]
    },
    {
      "cell_type": "code",
      "execution_count": null,
      "metadata": {
        "id": "n4-VAWk3EAKb"
      },
      "outputs": [],
      "source": [
        "import random\n",
        "\n",
        "random_length_list = [random.randint(0, 100) for _ in range(10)] # select a random number between 0 and 98 for ten times\n",
        "\n",
        "print(random_length_list)"
      ]
    },
    {
      "cell_type": "code",
      "execution_count": null,
      "metadata": {
        "id": "2RjhfLq0EAKb"
      },
      "outputs": [],
      "source": [
        "# your code here"
      ]
    },
    {
      "cell_type": "markdown",
      "metadata": {
        "id": "JxcqPQwFEAKb"
      },
      "source": [
        "---"
      ]
    },
    {
      "cell_type": "markdown",
      "metadata": {
        "id": "Vr31tCdXEAKc"
      },
      "source": [
        "#### Lists are mutable\n",
        "\n",
        "A list is like a basket where you can put different items, such as apples, oranges, and bananas. You can add more items, remove them, or change them whenever you want. For example, you might have a list like this: `[apple, orange, banana]`. Lists are flexible because you can modify them as needed.\n",
        "\n",
        "Lists methods allows you to manipulate the elements stored in the list quickly and effectively."
      ]
    },
    {
      "cell_type": "code",
      "execution_count": null,
      "metadata": {
        "id": "ymuIOznGEAKc"
      },
      "outputs": [],
      "source": [
        "# the method .append() allows you to add an element at the end of the list\n",
        "# Equivalent to `demo_list[len(demo_list):] = [\"appended\"]`\n",
        "demo_list.append(\"appended\")\n",
        "print(demo_list)"
      ]
    },
    {
      "cell_type": "code",
      "execution_count": null,
      "metadata": {
        "id": "4z9t12aYEAKc"
      },
      "outputs": [],
      "source": [
        "# the method .extend() allows you to add all the elements of a second list\n",
        "demo_list.extend([\"elements\",\"of\",\"another\",\"list\"])\n",
        "print(demo_list)"
      ]
    },
    {
      "cell_type": "code",
      "execution_count": null,
      "metadata": {
        "id": "bo2DEaqkEAKc"
      },
      "outputs": [],
      "source": [
        "# the method .remove() allows you to remove a given elements from a list\n",
        "demo_list.remove(\"appended\")\n",
        "print(demo_list)"
      ]
    },
    {
      "cell_type": "markdown",
      "metadata": {
        "id": "y1WV_HCTEAKd"
      },
      "source": [
        "**Bonus question: What happens if the list contained duplicates of the removed element?**"
      ]
    },
    {
      "cell_type": "code",
      "execution_count": null,
      "metadata": {
        "id": "KDQOIMbhEAKd"
      },
      "outputs": [],
      "source": [
        "# the method .reverse() reverses a list IN PLACE (i.e. the original list is modified)\n",
        "demo_list.reverse()\n",
        "print(demo_list)"
      ]
    },
    {
      "cell_type": "code",
      "execution_count": null,
      "metadata": {
        "id": "XRz35KhcEAKd"
      },
      "outputs": [],
      "source": [
        "# slicing can be used also to replace elements in a list\n",
        "demo_list[1:3] = [\"new_text\", 7, 38]\n",
        "print(demo_list)"
      ]
    },
    {
      "cell_type": "code",
      "execution_count": null,
      "metadata": {
        "id": "PQWche-kEAKd"
      },
      "outputs": [],
      "source": [
        "# slicing can be used to delete elements\n",
        "demo_list[4:6] = []\n",
        "print(demo_list)"
      ]
    },
    {
      "cell_type": "code",
      "execution_count": null,
      "metadata": {
        "id": "hE6Bq7ddEAKd"
      },
      "outputs": [],
      "source": [
        "# the method .sort() order a list (NOTE: the list elements must be of the same type)\n",
        "homogeneous_list = [1,56,33,8,220,9]\n",
        "homogeneous_list.sort()\n",
        "homogeneous_list"
      ]
    },
    {
      "cell_type": "code",
      "execution_count": null,
      "metadata": {
        "id": "U9LByeLVEAKd"
      },
      "outputs": [],
      "source": [
        "# lists of strings can be sorted as well\n",
        "homogeneous_list = [\"canary\", \"hippo\", \"kangaroo\", \"narwhal\", \"elephant\", \"raccoon\", \"yak\", \"ant\"]\n",
        "homogeneous_list.sort()\n",
        "homogeneous_list"
      ]
    },
    {
      "cell_type": "markdown",
      "metadata": {
        "id": "wBw-J3vvEAKd"
      },
      "source": [
        "---"
      ]
    },
    {
      "cell_type": "markdown",
      "metadata": {
        "id": "Nnt6qhndEAKe"
      },
      "source": [
        "### Quiz\n",
        "\n",
        "Explain the sorting of the following list:"
      ]
    },
    {
      "cell_type": "code",
      "execution_count": null,
      "metadata": {
        "id": "x59jwZRNEAKe"
      },
      "outputs": [],
      "source": [
        "homogeneous_list =[\"1\", \"56\", \"33\", \"8\", \"220\", \"9\"]\n",
        "homogeneous_list.sort()\n",
        "homogeneous_list"
      ]
    },
    {
      "cell_type": "markdown",
      "metadata": {
        "id": "n_O9xKSFEAKe"
      },
      "source": [
        "---"
      ]
    },
    {
      "cell_type": "markdown",
      "metadata": {
        "collapsed": true,
        "jupyter": {
          "outputs_hidden": true
        },
        "id": "mu8NUgjqEAKe"
      },
      "source": [
        "#### Lists of numbers\n",
        "\n",
        "Lists of numbers can be manipulated by additional functions, among which **max()**, **min()** and **sum**"
      ]
    },
    {
      "cell_type": "code",
      "execution_count": null,
      "metadata": {
        "id": "C6W0ySesEAKe"
      },
      "outputs": [],
      "source": [
        "some_numbers = [4, 8, 2, 6, 2, 9]\n",
        "print(max(some_numbers))\n",
        "print(min(some_numbers))\n",
        "print(sum(some_numbers))"
      ]
    },
    {
      "cell_type": "markdown",
      "metadata": {
        "id": "PYmNxhZoEAKe"
      },
      "source": [
        "---"
      ]
    },
    {
      "cell_type": "markdown",
      "metadata": {
        "collapsed": true,
        "jupyter": {
          "outputs_hidden": true
        },
        "id": "Lr9gt2KtEAKe"
      },
      "source": [
        "### Quiz\n",
        "\n",
        "Compute the average of `some_numbers`:"
      ]
    },
    {
      "cell_type": "code",
      "execution_count": null,
      "metadata": {
        "id": "lIpJ1Hd7EAKf"
      },
      "outputs": [],
      "source": [
        "# your code here"
      ]
    },
    {
      "cell_type": "markdown",
      "metadata": {
        "collapsed": true,
        "jupyter": {
          "outputs_hidden": true
        },
        "id": "0BBBxLqbEAKf"
      },
      "source": [
        "---"
      ]
    },
    {
      "cell_type": "markdown",
      "metadata": {
        "id": "jFkNtFyrEAKf"
      },
      "source": [
        "### (Optional) Tuples\n",
        "\n",
        "\n",
        "\n",
        "Tuples are the **immutable** counterpart of the lists.\n",
        "\n",
        "They are defined by round brackets `()` and they mainly differ from the list in that they do not accept those methods that tries to manipulate its elements.\n",
        "\n",
        "A tuple is also like a basket, but it's more like a set collection of items that are bundled together. Once you put items in a tuple, you can't change them. It's like tying up a bundle of objects with a ribbon so they stay together. For example, you might have a tuple like this: (apple, orange, banana). Tuples are more rigid but can be useful when you want to keep a specific set of items together without changing them.\n",
        "\n",
        "Think of a tuple as a fixed collection of items, while a list is a more flexible container where you can add, remove, or modify items as needed.\n"
      ]
    },
    {
      "cell_type": "code",
      "execution_count": null,
      "metadata": {
        "id": "w35vL9YkEAKf"
      },
      "outputs": [],
      "source": [
        "# tuples can contain different types of objects (even another list like [1,2,3])\n",
        "demo_tuple = (\"text\", 23, 92, \"another_text\", [1,2,3])\n",
        "print(demo_tuple)"
      ]
    },
    {
      "cell_type": "code",
      "execution_count": null,
      "metadata": {
        "id": "CvRLkLh-EAKf"
      },
      "outputs": [],
      "source": [
        "# elements can be accessed on the basis of their index...\n",
        "demo_tuple[1:3]"
      ]
    },
    {
      "cell_type": "code",
      "execution_count": null,
      "metadata": {
        "id": "1ZYV-OxWEAKg"
      },
      "outputs": [],
      "source": [
        "# ...but they cannot be replaces\n",
        "try:\n",
        "    demo_tuple[1] = 2\n",
        "except TypeError as e:\n",
        "    print(e)"
      ]
    },
    {
      "cell_type": "markdown",
      "metadata": {
        "id": "2i45NIArEAKg"
      },
      "source": [
        "### Strings\n",
        "\n",
        "Strings are **immutable**, sequences of characters.\n",
        "\n",
        "In the Python language, strings are defined by single `'` or double quotes `\"`."
      ]
    },
    {
      "cell_type": "code",
      "execution_count": null,
      "metadata": {
        "id": "VclFA0blEAKh"
      },
      "outputs": [],
      "source": [
        "demo_string = \"Does Cersei have any friends?\"\n",
        "print(demo_string)"
      ]
    },
    {
      "cell_type": "code",
      "execution_count": null,
      "metadata": {
        "id": "qXaTM46yEAKh"
      },
      "outputs": [],
      "source": [
        "# using single or double quotes is indifferent\n",
        "demo_string_single = 'Does Cersei have any friends?'\n",
        "demo_string == demo_string_single"
      ]
    },
    {
      "cell_type": "code",
      "execution_count": null,
      "metadata": {
        "id": "el58KIlwEAKh"
      },
      "outputs": [],
      "source": [
        "# Remember: Digits =/= numbers! (frequent source of debugging frustration)\n",
        "print (type(\"1979\") == type(1979))\n",
        "print ('\"1979\" type is: ' + str(type(\"1979\")))\n",
        "print ('1979 type is:' + str(type(1979)))"
      ]
    },
    {
      "cell_type": "markdown",
      "metadata": {
        "id": "OwwEEZXOEAKh"
      },
      "source": [
        "By being immutable sequences, strings accept all the sequences methods, but they not support item assignment:"
      ]
    },
    {
      "cell_type": "code",
      "execution_count": null,
      "metadata": {
        "id": "peJ0drRkEAKh"
      },
      "outputs": [],
      "source": [
        "# you can check the length (in charachters, whitespaces count!!!) of a string\n",
        "len(demo_string)"
      ]
    },
    {
      "cell_type": "code",
      "execution_count": null,
      "metadata": {
        "id": "hr3lftblEAKi"
      },
      "outputs": [],
      "source": [
        "# strings can be looked for in other strings\n",
        "\"Cersei\" in demo_string"
      ]
    },
    {
      "cell_type": "code",
      "execution_count": null,
      "metadata": {
        "id": "Y6a2hXdkEAKi"
      },
      "outputs": [],
      "source": [
        "# how many 'a's do we have in our string?\n",
        "demo_string.count(\"a\")"
      ]
    },
    {
      "cell_type": "code",
      "execution_count": null,
      "metadata": {
        "id": "diE_vnMPEAKi"
      },
      "outputs": [],
      "source": [
        "# concatenation is possible\n",
        "demo_string += \"\\nNoway!\"\n",
        "demo_string"
      ]
    },
    {
      "cell_type": "markdown",
      "metadata": {
        "id": "Hu0XilYwEAKi"
      },
      "source": [
        "The escape sequence `\\n` indicates the end of the line.\n",
        "\n",
        "Python escape sequences are introduced by the escape character `\\`, whose goal is to signal the interpreter that the following character has an \"unusual\" interpretation. Here is a partial list:\n",
        "\n",
        "| Escape Sequence|         Meaning|\n",
        "|:--------------:|:---------------:|\n",
        "|              \\\\\\\\|  backslash|\n",
        "|              \\\\'|  single quote|\n",
        "|              \\\\b|  backspace|\n",
        "|              \\\\n|  new line|\n",
        "|              \\\\t|  horizontal tab|\n"
      ]
    },
    {
      "cell_type": "code",
      "execution_count": null,
      "metadata": {
        "id": "6eGsGAciEAKi"
      },
      "outputs": [],
      "source": [
        "# nicely print our string!\n",
        "print(demo_string)"
      ]
    },
    {
      "cell_type": "code",
      "execution_count": null,
      "metadata": {
        "scrolled": true,
        "id": "l8XHUBwBEAKi"
      },
      "outputs": [],
      "source": [
        "# what does a backspace do?\n",
        "print(demo_string  +\"\\b\")"
      ]
    },
    {
      "cell_type": "code",
      "execution_count": null,
      "metadata": {
        "id": "DxssBSe9EAKi"
      },
      "outputs": [],
      "source": [
        "# the escape character may be useful when you need single quotes inside a single quote-marked string...\n",
        "'can any of you pronounce \\'s-Hertogenbosch?'"
      ]
    },
    {
      "cell_type": "code",
      "execution_count": null,
      "metadata": {
        "id": "0pbWJsnlEAKi"
      },
      "outputs": [],
      "source": [
        "# but I prefer this solution (when possible)\n",
        "\"can any of you pronounce 's-Hertogenbosch?\""
      ]
    },
    {
      "cell_type": "markdown",
      "metadata": {
        "id": "K-2aULoJEAKj"
      },
      "source": [
        "Strings that span multiple lines can be written in a readable form by using the sequence `\"\"\"` as a delimiter"
      ]
    },
    {
      "cell_type": "code",
      "execution_count": null,
      "metadata": {
        "id": "DBmO-SpNEAKj"
      },
      "outputs": [],
      "source": [
        "print(\"\"\"Unsealed, on a porch a letter sat\n",
        "Then you said, \"I wanna leave it again\"\n",
        "Once I saw her on a beach of weathered sand\n",
        "And on the sand I wanna leave her again\"\"\")"
      ]
    },
    {
      "cell_type": "markdown",
      "metadata": {
        "id": "gGB1mR1xEAKj"
      },
      "source": [
        "**Question:**"
      ]
    },
    {
      "cell_type": "code",
      "execution_count": null,
      "metadata": {
        "id": "bRVg9NEoEAKj"
      },
      "outputs": [],
      "source": [
        "# where do all those '\\n's come from???\n",
        "\"\"\"\"On a weekend I wanna wish it all away, yeah\n",
        "And they called and I said that I'll go\n",
        "And I said that I'll call out again\n",
        "And the reason I ought ta leave her calm, I know\n",
        "I said, \"I don't know whether I'm the boxer or the bag\"\"\"\"\""
      ]
    },
    {
      "cell_type": "code",
      "execution_count": null,
      "metadata": {
        "id": "RbJjVtP2EAKj"
      },
      "outputs": [],
      "source": [
        "# string slicing\n",
        "\"Monty Python\"[-12:-7]"
      ]
    },
    {
      "cell_type": "code",
      "execution_count": null,
      "metadata": {
        "id": "eY66E1eAEAKj"
      },
      "outputs": [],
      "source": [
        "# ...but single characters cannot be replaced\n",
        "try:\n",
        "    demo_string[5:11] = \"Melisandre\"\n",
        "except TypeError as e:\n",
        "    print(e)"
      ]
    },
    {
      "cell_type": "markdown",
      "metadata": {
        "id": "AGveyauBEAKk"
      },
      "source": [
        "##### (Optional) String Methods\n",
        "\n",
        "Strings have a buch of dedicated methods (see the [documentation](https://docs.python.org/2/library/stdtypes.html#string-methods) for a complete list), that allows them to be both inspected or manipulated (they are not modified, rather a **new object** is returned). The following are those I use the most:"
      ]
    },
    {
      "cell_type": "code",
      "execution_count": null,
      "metadata": {
        "id": "y6vDIBqEEAKk"
      },
      "outputs": [],
      "source": [
        "# is the string composed SOLELY of 1. digits 2. alphabetic characters 3. both?\n",
        "print('100'.isdigit())\n",
        "print('cat'.isalpha())\n",
        "print('my cat is 100'.isalnum())"
      ]
    },
    {
      "cell_type": "code",
      "execution_count": null,
      "metadata": {
        "id": "cr7gneANEAKk"
      },
      "outputs": [],
      "source": [
        "print(demo_string)"
      ]
    },
    {
      "cell_type": "code",
      "execution_count": null,
      "metadata": {
        "id": "93UGQvJfEAKk"
      },
      "outputs": [],
      "source": [
        "# does the string starts or ends with a given sequence of characters?\n",
        "print(demo_string.startswith(\"d\"))  # it is case sensitive !!!\n",
        "print(demo_string.endswith(\"Noway!\"))"
      ]
    },
    {
      "cell_type": "code",
      "execution_count": null,
      "metadata": {
        "id": "VcPAMb5iEAKk"
      },
      "outputs": [],
      "source": [
        "# change case to all the characters of a string\n",
        "print(demo_string_single.upper())\n",
        "print(demo_string_single.lower())"
      ]
    },
    {
      "cell_type": "code",
      "execution_count": null,
      "metadata": {
        "id": "ij2axSjOEAKk"
      },
      "outputs": [],
      "source": [
        "# remove a given character (default is any whitespace) from the beginning and the end of a string\n",
        "print (\"Twice minus: - before and after -\".strip(\"-\"))\n",
        "print (\"  \\t  Too much space?\".strip())"
      ]
    },
    {
      "cell_type": "code",
      "execution_count": null,
      "metadata": {
        "id": "QAU7ZeB-EAKl"
      },
      "outputs": [],
      "source": [
        "# replace a given sequence of characters with another\n",
        "print(demo_string.replace(\"Cersei\", \"Melisandre\"))"
      ]
    },
    {
      "cell_type": "markdown",
      "metadata": {
        "id": "ZzK_fd0UEAKl"
      },
      "source": [
        "A string can be transformed into a list of string by splitting it on a given character"
      ]
    },
    {
      "cell_type": "code",
      "execution_count": null,
      "metadata": {
        "id": "dmE5gd36EAKl"
      },
      "outputs": [],
      "source": [
        "# a whitespace\n",
        "demo_string_single.split(\" \")"
      ]
    },
    {
      "cell_type": "code",
      "execution_count": null,
      "metadata": {
        "id": "pyq8R5TcEAKl"
      },
      "outputs": [],
      "source": [
        "# the default character is any white line (that's convenient)\n",
        "demo_string.split()"
      ]
    },
    {
      "cell_type": "code",
      "execution_count": null,
      "metadata": {
        "id": "qN7AwsWSEAKl"
      },
      "outputs": [],
      "source": [
        "# the maximun number of slits can be specified\n",
        "demo_string_single.split(\" \", 2)"
      ]
    },
    {
      "cell_type": "markdown",
      "metadata": {
        "id": "O81sZt6aEAKl"
      },
      "source": [
        "The inverse operation is possible, a list of strings can be joined by a single character"
      ]
    },
    {
      "cell_type": "code",
      "execution_count": null,
      "metadata": {
        "id": "E3-2K7lvEAKl"
      },
      "outputs": [],
      "source": [
        "# a whitespace\n",
        "\" \".join([\"One\",\"Two\",\"Three\"])"
      ]
    },
    {
      "cell_type": "code",
      "execution_count": null,
      "metadata": {
        "id": "T4zQjIvJEAKm"
      },
      "outputs": [],
      "source": [
        "# an hyphen\n",
        "\"-\".join([\"One\",\"Two\",\"Three\"])"
      ]
    },
    {
      "cell_type": "code",
      "execution_count": null,
      "metadata": {
        "id": "57gOucdlEAKm"
      },
      "outputs": [],
      "source": [
        "# no characters at all\n",
        "\"\".join([\"Super\", \"cali\", \"fragilistic\", \"expiali\", \"docious\"] )"
      ]
    },
    {
      "cell_type": "code",
      "execution_count": null,
      "metadata": {
        "id": "x30gcgB2EAKm"
      },
      "outputs": [],
      "source": [
        "# BEWARE: non string elements in the original list are not admitted\n",
        "try:\n",
        "    \" \".join([\"Today\", \"I\", \"am\", 45])\n",
        "except TypeError as e:\n",
        "    print(e)"
      ]
    },
    {
      "cell_type": "markdown",
      "metadata": {
        "id": "xgPC9yV2EAKm"
      },
      "source": [
        "---"
      ]
    },
    {
      "cell_type": "markdown",
      "metadata": {
        "id": "UQjG3laFEAKm"
      },
      "source": [
        "### Quiz\n",
        "\n",
        "Italian nobles tends to have an awful lot of names.\n",
        "\n",
        "For instance, \"Vittorio Emanuele di Savoia\" has the 12 names listed in `full_name`.\n",
        "\n",
        "Can you find a pythonic way to eliminate the less used names from this string?"
      ]
    },
    {
      "cell_type": "code",
      "execution_count": null,
      "metadata": {
        "id": "euvq1ljdEAKn"
      },
      "outputs": [],
      "source": [
        "full_name = \"Vittorio Emanuele Alberto Carlo Teodoro Umberto Bonifacio Amedeo Damiano Bernardino Gennaro Maria di Savoia\""
      ]
    },
    {
      "cell_type": "code",
      "execution_count": null,
      "metadata": {
        "id": "3M9nFrzWEAKn"
      },
      "outputs": [],
      "source": [
        "# your code here"
      ]
    },
    {
      "cell_type": "markdown",
      "metadata": {
        "id": "FRTVnqWHEAKn"
      },
      "source": [
        "---"
      ]
    },
    {
      "cell_type": "markdown",
      "metadata": {
        "id": "GCNgu3ugEAKn"
      },
      "source": [
        "### (Optional) Sets\n",
        "\n",
        "Sets are collections of **unordered** of **distinct** objects.\n",
        "\n",
        "They are commonly used to test membership, to remove duplicates or to compute mathematical operations such as intersection, union, difference, and symmetric difference. Being unordered collections, they do not support indexing, slicing and any other sequence-like behavior.\n",
        "\n",
        "In Python, sets can be create beither by using the syntax  `set([])` or by using curly braces `{}`."
      ]
    },
    {
      "cell_type": "code",
      "execution_count": null,
      "metadata": {
        "id": "T2ep64hmEAKn"
      },
      "outputs": [],
      "source": [
        "# when you creates a set, repetitions are removed\n",
        "demo_set = set([1,2,1,2,1,2,3,5,6,4,2,3,5,2])\n",
        "another_demo_set = {1,6,6,3,9}\n",
        "print(demo_set)\n",
        "print(another_demo_set)"
      ]
    },
    {
      "cell_type": "code",
      "execution_count": null,
      "metadata": {
        "id": "9fnvWWwQEAKn"
      },
      "outputs": [],
      "source": [
        "# elements may we added with the function add()\n",
        "demo_set.add(7)\n",
        "demo_set"
      ]
    },
    {
      "cell_type": "code",
      "execution_count": null,
      "metadata": {
        "id": "6GwzyPLYEAKn"
      },
      "outputs": [],
      "source": [
        "# elements may we removed with the function remove()\n",
        "demo_set.remove(2)\n",
        "demo_set"
      ]
    },
    {
      "cell_type": "code",
      "execution_count": null,
      "metadata": {
        "id": "xXG4fSzdEAKn"
      },
      "outputs": [],
      "source": [
        "# length of a set\n",
        "len(demo_set)"
      ]
    },
    {
      "cell_type": "code",
      "execution_count": null,
      "metadata": {
        "id": "8tWLYw5KEAKo"
      },
      "outputs": [],
      "source": [
        "# membership test\n",
        "5 in demo_set"
      ]
    },
    {
      "cell_type": "code",
      "execution_count": null,
      "metadata": {
        "id": "N9AydzYbEAKo"
      },
      "outputs": [],
      "source": [
        "# the union of the two sets\n",
        "demo_set.union(another_demo_set)"
      ]
    },
    {
      "cell_type": "code",
      "execution_count": null,
      "metadata": {
        "id": "6IqN0x2SEAKo"
      },
      "outputs": [],
      "source": [
        "# intersection of the two sets\n",
        "demo_set.intersection(another_demo_set)"
      ]
    },
    {
      "cell_type": "code",
      "execution_count": null,
      "metadata": {
        "id": "82MTGOjUEAKo"
      },
      "outputs": [],
      "source": [
        "# elements that are in the demo_set but not in another_demo_set\n",
        "demo_set.difference(another_demo_set)"
      ]
    },
    {
      "cell_type": "code",
      "execution_count": null,
      "metadata": {
        "id": "ZcUHM9QKEAKo"
      },
      "outputs": [],
      "source": [
        "# every elements of another_demo_set are in demo_set?\n",
        "print(demo_set.issuperset(another_demo_set))\n",
        "print(another_demo_set.issubset(demo_set))"
      ]
    },
    {
      "cell_type": "markdown",
      "metadata": {
        "id": "RhQNAT0zEAKo"
      },
      "source": [
        "---"
      ]
    },
    {
      "cell_type": "markdown",
      "metadata": {
        "id": "e4Fdy__KEAKo"
      },
      "source": [
        "### Quiz\n",
        "\n",
        "The following list contains 100 random extractions (with replacement) of numbers between 1 and 15.\n",
        "\n",
        "Find the number that has never been extracted"
      ]
    },
    {
      "cell_type": "code",
      "execution_count": null,
      "metadata": {
        "id": "gzE50K46EAKo"
      },
      "outputs": [],
      "source": [
        "random_numbers = [1, 2, 1, 1, 9, 13, 15, 5, 9, 8, 12, 14, 3, 2, 8, 10, 3, 12, 15, 13, 5, 3, 7, 5, 2, 13, 12, 8, 10, 5, 15, 8, 2, 8, 5, 12, 9, 2, 3, 5, 1, 4, 5, 9, 13, 2, 12, 5, 10, 8, 1, 15, 15, 6, 12, 3, 1, 3, 7, 14, 15, 10, 15, 7, 10, 12, 1, 2, 13, 7, 9, 6, 6, 7, 4, 12, 10, 8, 8, 3, 8, 4, 6, 14, 10, 5, 2, 3, 15, 4, 9, 3, 7, 7, 2, 4, 4, 1, 7, 15]"
      ]
    },
    {
      "cell_type": "code",
      "execution_count": null,
      "metadata": {
        "id": "nY99NJsEEAKo"
      },
      "outputs": [],
      "source": [
        "# your code here"
      ]
    },
    {
      "cell_type": "markdown",
      "metadata": {
        "id": "4u0djJOJEAKp"
      },
      "source": [
        "---"
      ]
    },
    {
      "cell_type": "markdown",
      "metadata": {
        "id": "s1XbvmSoEAKp"
      },
      "source": [
        "### Dictionaries\n",
        "\n",
        "Dictionaries are **associative arrays** mapping **immutable** types (string, numbers, tuples...) to arbitrary objects of any kind (variables, functions, modules...). Intuitively, they can be thought as collections of objects that we can recall by means of a unique key.\n",
        "\n",
        "To visualize a Python dictionary you can think of a telephone book, in which people names are the unique keys that you use to retrieve difference kinds of information (phone numbers, street address, mail address...). The same telephone number, street address or other information can be present in the entries of more people, but a label cannot be associated with more than one entry.\n",
        "\n",
        "In Python, dictionaries are defined by curly brackets `{}`, in which key-value pairs are separated by commas and joint by colons."
      ]
    },
    {
      "cell_type": "code",
      "execution_count": null,
      "metadata": {
        "id": "zg0C7RFhEAKp"
      },
      "outputs": [],
      "source": [
        "# a English-Dutch dictionary of colors\n",
        "demo_dictionary = {\"black\" : \"zwart\",\n",
        "                  \"white\" : \"wit\",\n",
        "                  \"red\" : \"rood\",\n",
        "                  \"yellow\" : \"geel\"}\n",
        "print(demo_dictionary)"
      ]
    },
    {
      "cell_type": "code",
      "execution_count": null,
      "metadata": {
        "id": "1P0ebnsgEAKp"
      },
      "outputs": [],
      "source": [
        "# values can be recalled by their keys\n",
        "demo_dictionary[\"white\"]"
      ]
    },
    {
      "cell_type": "code",
      "execution_count": null,
      "metadata": {
        "id": "k7udWRhWEAKp"
      },
      "outputs": [],
      "source": [
        "# we can change a value associated with a key\n",
        "demo_dictionary[\"white\"] = \"wit\"\n",
        "print(demo_dictionary)"
      ]
    },
    {
      "cell_type": "code",
      "execution_count": null,
      "metadata": {
        "id": "W8stGIuoEAKp"
      },
      "outputs": [],
      "source": [
        "# if the key is missing a new key : value pair is added\n",
        "demo_dictionary[\"blue\"] = \"blauw\"\n",
        "print(demo_dictionary)"
      ]
    },
    {
      "cell_type": "code",
      "execution_count": null,
      "metadata": {
        "id": "qGYJPEiLEAKq"
      },
      "outputs": [],
      "source": [
        "# key:values can be deleted with the command \"del()\"\n",
        "del(demo_dictionary[\"blue\"])\n",
        "print(demo_dictionary)"
      ]
    },
    {
      "cell_type": "code",
      "execution_count": null,
      "metadata": {
        "id": "TnITOemhEAKr"
      },
      "outputs": [],
      "source": [
        "# check if a dictionary has a given key\n",
        "\"blue\" in demo_dictionary"
      ]
    },
    {
      "cell_type": "code",
      "execution_count": null,
      "metadata": {
        "id": "Fv-2ZeNLEAKr"
      },
      "outputs": [],
      "source": [
        "# count the number of entries in a dictionary\n",
        "len(demo_dictionary)"
      ]
    },
    {
      "cell_type": "markdown",
      "metadata": {
        "id": "VbOmgDP9EAKr"
      },
      "source": [
        "#### Iterating over a Dictionary"
      ]
    },
    {
      "cell_type": "code",
      "execution_count": null,
      "metadata": {
        "id": "SkBR8cNHEAKr"
      },
      "outputs": [],
      "source": [
        "# iterate over dictionary keys:\n",
        "print(list(demo_dictionary))\n",
        "print(list(demo_dictionary.keys()))"
      ]
    },
    {
      "cell_type": "code",
      "execution_count": null,
      "metadata": {
        "id": "XIym4OccEAKr"
      },
      "outputs": [],
      "source": [
        "# iterate over dictionary values:\n",
        "print(list(demo_dictionary.values()))"
      ]
    },
    {
      "cell_type": "code",
      "execution_count": null,
      "metadata": {
        "id": "pS0-cbKFEAKr"
      },
      "outputs": [],
      "source": [
        "# iterate over dictionary key-value pairs:\n",
        "print(list(demo_dictionary.items()))"
      ]
    },
    {
      "cell_type": "markdown",
      "metadata": {
        "id": "nsXHA1nAEAKr"
      },
      "source": [
        "---"
      ]
    },
    {
      "cell_type": "markdown",
      "metadata": {
        "id": "rpfJjmnJEAKr"
      },
      "source": [
        "### Quiz\n",
        "\n",
        "How many characters the longest Dutch color name in our dictionary has?"
      ]
    },
    {
      "cell_type": "code",
      "execution_count": null,
      "metadata": {
        "id": "jFpvBgFpEAKr"
      },
      "outputs": [],
      "source": [
        "# your code here"
      ]
    },
    {
      "cell_type": "markdown",
      "metadata": {
        "id": "NCefIfyIEAKr"
      },
      "source": [
        "---"
      ]
    },
    {
      "cell_type": "markdown",
      "metadata": {
        "id": "6pRKh9c3EAKr"
      },
      "source": [
        "###  (Optional) Type casting\n",
        "\n",
        "Sometimes, we may need to change the type of a variable.\n",
        "\n",
        "For instance, we may want to change a list into a set in order to delete all its repeated elements. A quick way to do so is to transform the list in a set.\n",
        "\n",
        "Other example may involve the `join()` operator and the `print()` functions, that do not accept numbers. Conversion functions can be used to quickly switch numbers to strings.\n",
        "\n",
        "Note that not all types of variables can be switched to other types. In what follows we report some common conversion."
      ]
    },
    {
      "cell_type": "code",
      "execution_count": null,
      "metadata": {
        "id": "EuCzP7zoEAKr"
      },
      "outputs": [],
      "source": [
        "# from number to string\n",
        "str(3.123424235454)"
      ]
    },
    {
      "cell_type": "code",
      "execution_count": null,
      "metadata": {
        "id": "CmEXmcSOEAKr"
      },
      "outputs": [],
      "source": [
        "# sometimes you want to round the number\n",
        "str(round(3.123424235454, 2))"
      ]
    },
    {
      "cell_type": "code",
      "execution_count": null,
      "metadata": {
        "id": "fI5nzDvvEAKr"
      },
      "outputs": [],
      "source": [
        "# from string to integer\n",
        "int(\"3\")"
      ]
    },
    {
      "cell_type": "code",
      "execution_count": null,
      "metadata": {
        "id": "8t7yi5rwEAKs"
      },
      "outputs": [],
      "source": [
        "# from string to floating numer\n",
        "float(\"3\")"
      ]
    },
    {
      "cell_type": "code",
      "execution_count": null,
      "metadata": {
        "id": "4zEvknMyEAKs"
      },
      "outputs": [],
      "source": [
        "# from list to tuple (list cannot be used as dictionary keys, tuples can)\n",
        "tuple([demo_list])"
      ]
    },
    {
      "cell_type": "code",
      "execution_count": null,
      "metadata": {
        "id": "QeEyGNZiEAKs"
      },
      "outputs": [],
      "source": [
        "# from list to set\n",
        "set([1,2,3,1,2,3,3])"
      ]
    },
    {
      "cell_type": "code",
      "execution_count": null,
      "metadata": {
        "id": "hXh5PGngEAKs"
      },
      "outputs": [],
      "source": [
        "# from string to list\n",
        "print(list(\"this is a sentence\"))"
      ]
    },
    {
      "cell_type": "markdown",
      "metadata": {
        "id": "uD2k1NCjEAKs"
      },
      "source": [
        "---"
      ]
    },
    {
      "cell_type": "markdown",
      "metadata": {
        "id": "NDZ3B_czEAKs"
      },
      "source": [
        "### Quiz\n",
        "\n",
        "How many different characters did Jonathan Coe use in the tiles of his books?"
      ]
    },
    {
      "cell_type": "code",
      "execution_count": null,
      "metadata": {
        "id": "6X3qmYBFEAKs"
      },
      "outputs": [],
      "source": [
        "coe_bibliography = [\"The Accidental Woman\", \"A Touch of Love\", \"The Dwarves of Death\", \"What a Carve Up! or The Winshaw Legacy Viking\", \"The House of Sleep\", \"The Rotters' Club\", \"The Closed Circle\", \"The Rain Before It Falls\", \"The Terrible Privacy of Maxwell Sim\", \"Expo 58\", \"Number 11\"]"
      ]
    },
    {
      "cell_type": "code",
      "execution_count": null,
      "metadata": {
        "id": "xR_pmzx5EAKt"
      },
      "outputs": [],
      "source": [
        "# your code here"
      ]
    },
    {
      "cell_type": "markdown",
      "metadata": {
        "id": "B-SKE-m1EAKt"
      },
      "source": [
        "---"
      ]
    },
    {
      "cell_type": "markdown",
      "metadata": {
        "id": "dy9IUN9XEAKt"
      },
      "source": [
        "## Python Syntax"
      ]
    },
    {
      "cell_type": "markdown",
      "metadata": {
        "id": "erLcIgyqEAKt"
      },
      "source": [
        "### The Significant Whitespace\n",
        "\n",
        "Most program languages use characters (e.g. `{...}`) or keyworks (e.g. `begin ... end`) to delimitate blocks of codes."
      ]
    },
    {
      "cell_type": "markdown",
      "metadata": {
        "id": "KBBXHc1iEAKt"
      },
      "source": [
        "#### When writing Python code, you rely on INDENTATION to structure your programs.\n",
        "\n",
        "All programming languages allow you to indent (and you should!), but in Python you **have to.**\n",
        "\n",
        "Otherwise, you'll receive and IndentationError and your code won't work"
      ]
    },
    {
      "cell_type": "markdown",
      "metadata": {
        "id": "h5tTO1RnEAKt"
      },
      "source": [
        "#### How Indentation Works\n",
        "\n",
        "- All statements with the same distance from the left border belong of the same block of code.\n",
        "\n",
        "\n",
        "- Sub-blocks are more indented, while the block ends at the line less indented.\n",
        "\n",
        "\n",
        "- You should use **4 spaces** per indentation level.\n",
        "\n",
        "\n",
        "- When a statement is too long it's good practice to avoid lines of code longer than 80 characters), it can be split with `\"\\\"`\n",
        "\n",
        "\n",
        "- **Never mix** spaces and tabs in a single source file\n"
      ]
    },
    {
      "cell_type": "markdown",
      "metadata": {
        "id": "LrgUmutrEAKt"
      },
      "source": [
        "> #### Recommended Reading\n",
        ">\n",
        "> [PEP 8 - Style Guide for Python Code](https://www.python.org/dev/peps/pep-0008/)"
      ]
    },
    {
      "cell_type": "markdown",
      "metadata": {
        "id": "TO66BzqDEAKu"
      },
      "source": [
        "##### The code is way more readable:\n",
        "\n",
        "\n",
        "```python\n",
        "# raw_input() reads from standard input (e.g. keyboard)\n",
        "n_string = raw_input('enter a number, please')\n",
        "\n",
        "if not n_string.isdigit():\n",
        "    print(\"this isn't a number...\")\n",
        "else:\n",
        "    n = int(n_string)\n",
        "    if n == 0:\n",
        "        print(\"zero? why zero?\")\n",
        "    elif n % 2 == 0:\n",
        "        print(\"even\")\n",
        "    else:\n",
        "        print(\"odd\")\n",
        "```"
      ]
    },
    {
      "cell_type": "markdown",
      "metadata": {
        "id": "Npi5LSPmEAKu"
      },
      "source": [
        "### Conditional Statements\n",
        "\n",
        "A lot of programming has to do with executing a block of code only if a certain condition is verified.\n",
        "\n",
        "In Python, the `if-then-else` construct has the form:\n",
        "\n",
        "```python\n",
        "if condition1:\n",
        "    statements\n",
        "elif condition2:\n",
        "    statements\n",
        "elif condition3:\n",
        "    statements\n",
        "else:\n",
        "    statements\n",
        "```\n",
        "\n",
        "Note that the `elif` and `else` clauses are optional. A conditional statement can contain a single `if` block, and nothing else."
      ]
    },
    {
      "cell_type": "code",
      "execution_count": null,
      "metadata": {
        "id": "sjv67F0VEAKu"
      },
      "outputs": [],
      "source": [
        "import random\n",
        "n = random.randrange(0,99)  # random number between 0 and 99\n",
        "if n == 0:\n",
        "    print(\"zero? why zero?\")\n",
        "elif n % 2 == 0:\n",
        "    print(\"even\")\n",
        "else:\n",
        "    print(\"odd\")"
      ]
    },
    {
      "cell_type": "markdown",
      "metadata": {
        "id": "a18gFSayEAKu"
      },
      "source": [
        "## Flow control\n",
        "\n",
        "### For Loops\n",
        "\n",
        "Programming is of little use if we cannot repeat an instruction for an intended number of times.\n",
        "\n",
        "The `for` statement allows us to define **iterations** (i.e.taking items from an iterable) by following this template:\n",
        "\n",
        "```python\n",
        "for variable in sequence:\n",
        "\tstatement\n",
        "else:\n",
        "\tstatement\n",
        "```\n",
        "\n",
        "The code in the optional `else` clause is executed if and only if the loop terminates successfully (i.e. without a **`break`**)"
      ]
    },
    {
      "cell_type": "code",
      "execution_count": null,
      "metadata": {
        "scrolled": true,
        "id": "u8uscIVUEAKu"
      },
      "outputs": [],
      "source": [
        "# let's iterate over our demo_list\n",
        "for el in demo_list:\n",
        "    print(el)"
      ]
    },
    {
      "cell_type": "markdown",
      "metadata": {
        "collapsed": true,
        "jupyter": {
          "outputs_hidden": true
        },
        "id": "1Eyqst-sEAKu"
      },
      "source": [
        "#### The enumerate function\n",
        "\n",
        "The `enumerate()` is problably the most used among the functions that supports the iteration of an iterable. This funtion return the current item plus **its index** in the iteration process."
      ]
    },
    {
      "cell_type": "code",
      "execution_count": null,
      "metadata": {
        "id": "1JwLJMX3EAKu"
      },
      "outputs": [],
      "source": [
        "# use enumerate in the iteration over our demo_list\n",
        "for i, el in enumerate(demo_list):\n",
        "    print (i, \"-->\", el)"
      ]
    },
    {
      "cell_type": "markdown",
      "metadata": {
        "id": "pIvrirvQEAKu"
      },
      "source": [
        "#### The range construct\n",
        "\n",
        "The  `range()` construct can be used to control the iteration. It generate lists of numbers on the basis of the following three arguments:\n",
        "\n",
        "- `start` : the first integer of the list\n",
        "(default is 0)\n",
        "- `stop` : one larger the last integer of the list (list stop at n - 1)\n",
        "- `step`: the increment of the list (default is 1)"
      ]
    },
    {
      "cell_type": "code",
      "execution_count": null,
      "metadata": {
        "id": "G-kqfFirEAKv"
      },
      "outputs": [],
      "source": [
        "# let's play with range\n",
        "print(range(0,10))\n",
        "print(range(10))\n",
        "print(range(1,10,2))"
      ]
    },
    {
      "cell_type": "code",
      "execution_count": null,
      "metadata": {
        "id": "XMpmzAV8EAKv"
      },
      "outputs": [],
      "source": [
        "# let's use range in a for loop\n",
        "for el in range(1, 10, 2):\n",
        "    print(el)"
      ]
    },
    {
      "cell_type": "markdown",
      "metadata": {
        "id": "faRMpjA2EAKv"
      },
      "source": [
        "### (Optional) While Loops\n",
        "\n",
        "The `while` statement allows us to control a loop on the basis of a condition.\n",
        "\n",
        "A `while` loop runs as long as a condition is verified.\n",
        "\n",
        "It has the following general form:\n",
        "\n",
        "```python\n",
        "while condition:\n",
        "\tstatement\n",
        "else:\n",
        "\tstatement\n",
        "```\n",
        "\n",
        "the code in the optional `else` clause is execute if and only if the loops terminates successfully (i.e., without a **`break`**)"
      ]
    },
    {
      "cell_type": "code",
      "execution_count": null,
      "metadata": {
        "id": "M0EKLRt5EAKv"
      },
      "outputs": [],
      "source": [
        "n = 1\n",
        "while n % 2 != 0:\n",
        "    n = random.randrange(0,99)\n",
        "    print(n)"
      ]
    },
    {
      "cell_type": "markdown",
      "metadata": {
        "id": "B6DEAWR7EAKv"
      },
      "source": [
        "### (Optional) Break and Continue\n",
        "\n",
        "`break` and `continue` are two statements that allow for a more flexible control of a loop. Intuitively:\n",
        "\n",
        "- `continue` is used to pass to the next iteration of the loop\n",
        "- `break` is used to interrupt the loop abruptly"
      ]
    },
    {
      "cell_type": "code",
      "execution_count": null,
      "metadata": {
        "id": "JHC6tr8kEAKv"
      },
      "outputs": [],
      "source": [
        "# when we encounter 7 we skip to the next step\n",
        "for el in range(1, 10, 2):\n",
        "    if el == 7:\n",
        "        continue\n",
        "    print(el)"
      ]
    },
    {
      "cell_type": "code",
      "execution_count": null,
      "metadata": {
        "id": "CNBtvTlAEAKv"
      },
      "outputs": [],
      "source": [
        "# when we encounter 7 we stop our loop\n",
        "for el in range(1, 10, 2):\n",
        "    if el == 7:\n",
        "        break\n",
        "    print(el)"
      ]
    },
    {
      "cell_type": "markdown",
      "metadata": {
        "id": "uM0HcTXBEAKw"
      },
      "source": [
        "`break` influence the execution of the loop in yet another way: when a loop terminates due to a `break` statement, the code embedded in the option `else` clause is skipped."
      ]
    },
    {
      "cell_type": "code",
      "execution_count": null,
      "metadata": {
        "id": "LVfP5TBhEAKw"
      },
      "outputs": [],
      "source": [
        "# the continue statement does not influence the execution of the else block\n",
        "for el in range(1, 10, 2):\n",
        "    if el == 7:\n",
        "        print (\"(let's ignore the \" + str(el) + \")\")\n",
        "        continue\n",
        "    print(el)\n",
        "else:\n",
        "    print (\">>> the iteration ended with the number \" + str(el))"
      ]
    },
    {
      "cell_type": "code",
      "execution_count": null,
      "metadata": {
        "id": "6qlWwZrWEAKw"
      },
      "outputs": [],
      "source": [
        "# what if we replace continue with break\n",
        "for el in range(1, 10, 2):\n",
        "    if el == 7:\n",
        "        print (\"(we encountered the number \" + str(el) + \", let's break the loop)\")\n",
        "        break\n",
        "    print(el)\n",
        "else:\n",
        "    print (\">>> the iteration ended with the number \" + str(el))"
      ]
    },
    {
      "cell_type": "markdown",
      "metadata": {
        "id": "WQ0312E1EAKw"
      },
      "source": [
        "### (Optional) The Pass Statement\n",
        "\n",
        "Given the importance of indentation for Python, sometimes we may need a placeholder that allows us to write down a condition for an `if-then-else` construct or for a `while` loop without writing any statement (maybe just a comment). This is the case in which the `pass` statement comes in handy.\n",
        "\n",
        "In what follows, **nothing happens**:\n",
        "\n",
        "```python\n",
        "if condition1:\n",
        "    pass\n",
        "else:\n",
        "    pass\n",
        "```\n"
      ]
    },
    {
      "cell_type": "markdown",
      "metadata": {
        "id": "J9-w1VGPEAKw"
      },
      "source": [
        "### (Optional) List Comprehensions\n",
        "\n",
        "A list comprehension is a syntactic construct that allows us to create lists by applying a function on another list, in just **one line** of code.\n",
        "\n",
        "Even if the reverse isn't always true, list comprehensions can always be (inefficiently) expressed as loops. We will exploit this family resemblance for introducing this construct."
      ]
    },
    {
      "cell_type": "markdown",
      "metadata": {
        "id": "bj-Wun77EAKw"
      },
      "source": [
        "In what follows, we start with a list of numbers and we want to square all of its elements and save our final values in a new list."
      ]
    },
    {
      "cell_type": "code",
      "execution_count": null,
      "metadata": {
        "id": "TSEuQ2apEAKw"
      },
      "outputs": [],
      "source": [
        "# our source list\n",
        "source_list = [1,2,3,4,5,6,7,8,9]"
      ]
    },
    {
      "cell_type": "code",
      "execution_count": null,
      "metadata": {
        "id": "aMonXfZGEAKx"
      },
      "outputs": [],
      "source": [
        "# we can solve this problem with a for loop...\n",
        "final_list = []\n",
        "for el in source_list:\n",
        "    final_list.append(el ** 2)\n",
        "print(final_list)"
      ]
    },
    {
      "cell_type": "code",
      "execution_count": null,
      "metadata": {
        "id": "DeUf-TB2EAKx"
      },
      "outputs": [],
      "source": [
        "# ... or by using list comprehension\n",
        "final_list = [el ** 2 for el in source_list]\n",
        "print(final_list)"
      ]
    },
    {
      "cell_type": "markdown",
      "metadata": {
        "id": "jIZhvoBqEAKx"
      },
      "source": [
        "**Conditional statements may be implemented**\n",
        "\n",
        "In what follows we want to ignore all the odd numbers"
      ]
    },
    {
      "cell_type": "code",
      "execution_count": null,
      "metadata": {
        "id": "KAZBjULVEAKx"
      },
      "outputs": [],
      "source": [
        "# we can solve this problem with a for loop...\n",
        "final_list = []\n",
        "for el in source_list:\n",
        "    if el % 2 == 0:\n",
        "        final_list.append(el ** 2)\n",
        "print(final_list)"
      ]
    },
    {
      "cell_type": "code",
      "execution_count": null,
      "metadata": {
        "id": "je-SRhKsEAKx"
      },
      "outputs": [],
      "source": [
        "# ... or by using list comprehension\n",
        "final_list = [el ** 2 for el in source_list if el % 2 == 0]\n",
        "print(final_list)"
      ]
    },
    {
      "cell_type": "markdown",
      "metadata": {
        "id": "4rcWzfYfEAKx"
      },
      "source": [
        "**If you want to implement an else clause the syntax changes slightly**\n",
        "\n",
        "In what follows we want to leave the odd numbers unchanged"
      ]
    },
    {
      "cell_type": "code",
      "execution_count": null,
      "metadata": {
        "id": "UWnPocstEAKx"
      },
      "outputs": [],
      "source": [
        "# we can solve this problem with a for loop...\n",
        "final_list = []\n",
        "for el in source_list:\n",
        "    if el % 2 == 0:\n",
        "        final_list.append(el ** 2)\n",
        "    else:\n",
        "        final_list.append(el)\n",
        "print(final_list)"
      ]
    },
    {
      "cell_type": "code",
      "execution_count": null,
      "metadata": {
        "id": "TgzjHoM7EAKx"
      },
      "outputs": [],
      "source": [
        "# ... or by using list comprehension\n",
        "final_list = [el ** 2 if el % 2 == 0 else el for el in source_list]\n",
        "print(final_list)"
      ]
    },
    {
      "cell_type": "markdown",
      "metadata": {
        "id": "KD-uJcyIEAKy"
      },
      "source": [
        "---"
      ]
    },
    {
      "cell_type": "markdown",
      "metadata": {
        "id": "QW1u2yqpEAKy"
      },
      "source": [
        "### Quiz\n",
        "\n",
        "The list `random_numbers` contains 20 randomly generated integers.\n",
        "\n",
        "Create a new list containing only the positive numbers from the list"
      ]
    },
    {
      "cell_type": "code",
      "execution_count": null,
      "metadata": {
        "id": "uPO-cbUNEAKy"
      },
      "outputs": [],
      "source": [
        "random_numbers = [81, -36, 15, -96, 14, 51, 70, 40, -15, -64, -25, 82, -88, 7, -13, -30, 12, 32, 96, -55]"
      ]
    },
    {
      "cell_type": "code",
      "execution_count": null,
      "metadata": {
        "id": "sAQCwyRbEAKy"
      },
      "outputs": [],
      "source": [
        "# your code here"
      ]
    },
    {
      "cell_type": "markdown",
      "metadata": {
        "id": "qQkw0jAHEAKy"
      },
      "source": [
        "---"
      ]
    },
    {
      "cell_type": "markdown",
      "metadata": {
        "id": "y9RCMlfiEAKy"
      },
      "source": [
        "**Here's something you might find useful:**\n",
        "\n",
        "[Python Cheat Sheet](https://www.cheatography.com/davechild/cheat-sheets/python/)\n",
        "\n",
        "Collects much of the syntax we used today."
      ]
    },
    {
      "cell_type": "markdown",
      "metadata": {
        "id": "s61V5f7xEAKy"
      },
      "source": [
        "---"
      ]
    },
    {
      "cell_type": "markdown",
      "metadata": {
        "id": "3vqPWZbJEAKy"
      },
      "source": [
        "### Exercise 1.\n",
        "\n",
        "The code in the next cell creates a variable called `zen_text`, and assigns it a nicely formatted version of the textual elements of the Zen of Python.\n",
        "\n",
        "**Count the number of non-empty lines** of this manifesto."
      ]
    },
    {
      "cell_type": "code",
      "execution_count": null,
      "metadata": {
        "id": "4wDSLiQHEAKy"
      },
      "outputs": [],
      "source": [
        "import this\n",
        "zen_text = ''.join(this.d.get(el, el) for el in this.s)"
      ]
    },
    {
      "cell_type": "code",
      "execution_count": null,
      "metadata": {
        "id": "0b9TKeEqEAKz"
      },
      "outputs": [],
      "source": [
        "zen_text"
      ]
    },
    {
      "cell_type": "code",
      "execution_count": null,
      "metadata": {
        "id": "p6n1UDI0EAKz"
      },
      "outputs": [],
      "source": [
        "?zen_text.split"
      ]
    },
    {
      "cell_type": "code",
      "execution_count": null,
      "metadata": {
        "id": "ECSVdyw9EAKz"
      },
      "outputs": [],
      "source": [
        "# your code here\n",
        "\n",
        "n_non_empty = 0\n",
        "for line in zen_text.split('\\n'):\n",
        "    line_len = len(line)\n",
        "    if line_len > 0:\n",
        "        n_non_empty += 1\n",
        "print(\"Number of non-empty lines:\",n_non_empty)"
      ]
    },
    {
      "cell_type": "markdown",
      "metadata": {
        "id": "SEIDe7wOEAKz"
      },
      "source": [
        "### Exercise 2.\n",
        "\n",
        "The dictionary in the following cell reports, for each Scrubs character, a nested dictionary containing the name of the actor, the age of the character and its credentials.\n",
        "\n",
        "Write code to answer the following questions:\n",
        "\n",
        "- what are the **names of the actors** of the cast?\n",
        "\n",
        "\n",
        "- what is the **average age** of the characters?\n",
        "\n",
        "\n",
        "- how **many M.D.s** are there in the main cast?"
      ]
    },
    {
      "cell_type": "code",
      "execution_count": null,
      "metadata": {
        "id": "dQ8f1rz-EAKz"
      },
      "outputs": [],
      "source": [
        "scrubs_main = {'Bob Kelso': {'actor': 'Ken Jenkins', 'age': 70, 'credentials': 'M.D.'},\n",
        "               'Carla Espinosa-Turk': {'actor': 'Judy Reyes', 'age': 36, 'credentials': 'RN'},\n",
        "               'Christopher Turk': {'actor': 'Donald Faison', 'age': 31, 'credentials': 'M.D.'},\n",
        "               'Elliot Reid': {'actor': 'Sarah Chalke', 'age': 29, 'credentials': 'M.D.'},\n",
        "               'J.D.': {'actor': 'Zach Braff', 'age': 31, 'credentials': 'M.D.'},\n",
        "               'Janitor': {'actor': 'Neil Flynn', 'age': 40, 'credentials': None},\n",
        "               'Perry Cox': {'actor': 'John C. McGinley', 'age': 45, 'credentials': 'M.D.'}}"
      ]
    },
    {
      "cell_type": "code",
      "execution_count": null,
      "metadata": {
        "id": "5riCifMwEAKz"
      },
      "outputs": [],
      "source": [
        "# your code here"
      ]
    },
    {
      "cell_type": "markdown",
      "metadata": {
        "id": "DdAtwjcOEAKz"
      },
      "source": [
        "---"
      ]
    }
  ],
  "metadata": {
    "kernelspec": {
      "display_name": "Python 3 (ipykernel)",
      "language": "python",
      "name": "python3"
    },
    "language_info": {
      "codemirror_mode": {
        "name": "ipython",
        "version": 3
      },
      "file_extension": ".py",
      "mimetype": "text/x-python",
      "name": "python",
      "nbconvert_exporter": "python",
      "pygments_lexer": "ipython3",
      "version": "3.11.7"
    },
    "toc": {
      "base_numbering": 1,
      "nav_menu": {},
      "number_sections": true,
      "sideBar": true,
      "skip_h1_title": false,
      "title_cell": "Table of Contents",
      "title_sidebar": "Contents",
      "toc_cell": false,
      "toc_position": {},
      "toc_section_display": true,
      "toc_window_display": true
    },
    "colab": {
      "provenance": [],
      "include_colab_link": true
    }
  },
  "nbformat": 4,
  "nbformat_minor": 0
}