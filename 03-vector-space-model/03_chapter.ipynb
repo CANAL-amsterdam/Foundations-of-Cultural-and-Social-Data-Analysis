{
 "cells": [
  {
   "cell_type": "code",
   "execution_count": 1,
   "id": "8a87ae1b",
   "metadata": {
    "tags": [
     "remove-cell"
    ]
   },
   "outputs": [],
   "source": [
    "import matplotlib.pyplot as plt"
   ]
  },
  {
   "cell_type": "markdown",
   "id": "0cb47ba6",
   "metadata": {},
   "source": [
    "(chp-vector-space-model)=\n",
    "# Exploring Texts using the Vector Space Model\n",
    "\n",
    "(sec-vector-space-model-introduction)=\n",
    "## Introduction\n",
    "\n",
    "Reasoning about space is easy and straightforward in the real world: we all have intuitive\n",
    "estimates as to how far two places are apart in everyday life and we are used to planning\n",
    "our traveling routes accordingly. We know how to look up the location of places on digital\n",
    "maps online or even in an old-fashioned atlas. We understand how a place's coordinates, in\n",
    "terms of longitude and latitude, can capture that spot's exact location on earth. We grasp\n",
    "how such data can readily be used to retrieve nearby locations, i.e., the concept of a\n",
    "\"neighborhood\". Even for entirely fictional universes, such as Middle Earth, research has\n",
    "demonstrated that readers build up similar ideas about the spatial structures that are\n",
    "encoded in literary narratives (cf. {cite:t}`louwerseEA2012,louwerse_sterling:2012`). In this chapter, we explore to which extent this sort of spatial reasoning can be applied to textual data: is it possible to think of texts as mere points in a space, that have exact coordinates that allow us to calculate how far two texts are separated from one another? Is it feasible to plot entire corpora onto abstract maps and inspect their internal structure?\n",
    "\n",
    "In order to study texts in a spatial fashion, we need a representation that is able to model the individual characteristics of texts using a \"coordinate system\"---just like places in the real world also have a unique set of coordinates that describe their properties across different dimensions (e.g., longitude, latitude, but also altitude). To this end, we will introduce the <span class=\"index\">*vector space model*</span>, a simple, yet powerful representation strategy that helps us to encode textual documents into the concrete numbers (or \"coordinates\") that are necessary for further processing. The text-as-maps metaphor will help the reader understand why <span class=\"index\">geometry</span>, the mathematical study of (points in) space, is so central to computational text analysis nowadays (as it is in this chapter). Just as with the locations on real maps, geometry offers us established methodologies to explore relations, similarities, and differences between texts. Interestingly, these methods typically require relatively few assumptions about what textual properties might precisely be salient in a given document.\n",
    "\n",
    "Why would such a spatial perspective on (textual) data in fact be desirable? To illustrate the potential of this approach, this chapter will work with a simple, but real-world example throughout, namely a corpus of French-language drama of the Classical Age and the Enlightenment Age (seventeenth--eighteenth century), that has been quantitatively explored by {cite:t}`schoech:2017` in a paper that will function as our baseline in this chapter. We will focus on plays drawn from three well-studied subgenres: \"Tragédie\", \"Comédie\", and \"Tragi-comédie\". Readers, even those not familiar at all with this specific literature, will have very clear expectations as to which texts will be represented in these genres, because of these generic genre labels. The same readers, however, may lack grounds to explain this similarity formally and express their natural intuition in more concrete terms. We will explore how the vector space model can help us understand the differences between these subgenres from a quantitative, geometric point of view. What sort of lexical differences, if any, become apparent when we plot these different genres as spatial data? Does the subgenre of \"Tragi-comédies\" display a lexical mix of both \"Comédies\" and \"Tragédies\" markers or is it relatively closer to one of these constituent genres?\n",
    "\n",
    "The first section of this chapter (section {ref}`sec-vector-space-model-vector-space-model`) elaborates on several low-level preprocessing steps that can be taken when preparing a real-life corpus for numerical processing. It also discusses the ins-and-outs of converting a corpus into a bag-of-words representation, while critically reflecting on the numerous design choices that we have in implementing such a model in actual code. In section {ref}`sec-vector-space-model-mapping-genre`, then, these new insights are combined, as well as those from chapter {ref}`chp-getting-data`, in a focused case study about the dramatic texts introduced above. To efficiently represent and work with texts represented as vectors, this chapter uses Python's main numerical library \"<span class=\"index\">NumPy</span>\" (section {ref}`sec-vector-space-model-numpy-intro`), which is at the heart of many of Python's data analysis libraries {cite:p}`walt2011numpy`. For readers not yet thoroughly familiar with this package, we offer an introductory overview at the end of this chapter, which can safely be skipped by more proficient coders. Finally, this chapter introduces the notion of a \"nearest neighbor\" (section {ref}`sec-vector-space-model-nearest-neighbors`) and explains how this is useful for studying the collection of French drama texts.\n",
    "\n",
    "(sec-vector-space-model-vector-space-model)=\n",
    "## From Texts to Vectors\n",
    "\n",
    "As the name suggests, a <span class=\"index\">bag-of-words</span> representation models a\n",
    "text in terms of the individual words it contains, or, put differently, at the lexical\n",
    "level. This representation discards any information available in the sequence in which\n",
    "words appear. In the bag-of-words model, word sequences such as \"the boy ate the fish\",\n",
    "\"the fish ate the boy\", and \"the ate fish boy the\" are all equivalent. While linguists\n",
    "agree that syntax is a vital part of human languages, representing texts as bags of words\n",
    "heedlessly ignores this information: it models texts by simply counting how often each\n",
    "unique word occurs in them, regardless of their order or position in the original document\n",
    "(see chp. 6 in {cite:t}`jurafskyinpressspeech`, and {cite:t}`sebastiani:2002`). While disgarding this information seems, at first glance, limiting in the extreme, representing texts in terms of their word frequencies has proven its usefulness over decades of use in information retrieval and quantitative text analysis.\n",
    "\n",
    "When using the <span class=\"index\">vector space model</span>, a <span\n",
    "class=\"index\">corpus</span>---a collection of documents, each represented as a bag of\n",
    "words---is typically represented as a matrix, in which each row represents a document from\n",
    "the collection, each column represents a word from the collection's <span\n",
    "class=\"index\">vocabulary</span>, and each cell represents the frequency with which a\n",
    "particular word occurs in a document. In this tabular setting, each row is interpretable\n",
    "as a <span class=\"index\">*vector*</span> in a vector space. A matrix arranged in this way\n",
    "is often called a *document-term matrix*---or *term-document matrix* when rows are\n",
    "associated with words and documents are associated with columns. An example of a <span class=\"index\">document-term matrix</span> is shown in {numref}`tbl-document-term-matrix`.\n",
    "\n",
    "```{table} Example of a vector space representation with four documents (rows) and a vocabulary of four words (columns). For each document the table lists how often each vocabulary item occurs.\n",
    ":name: tbl-document-term-matrix\n",
    "\n",
    "|       | _roi_ | _ange_ | _sang_ | _perdu_ |\n",
    "|-------|-------|--------|--------|---------|\n",
    "| $d_1$ |     1 |      2 |     16 |      21 |\n",
    "| $d_2$ |     2 |      2 |     18 |      19 |\n",
    "| $d_3$ |    35 |     41 |      0 |       2 |\n",
    "| $d_4$ |    39 |     55 |      1 |       0 |\n",
    "```\n",
    "\n",
    "In this table, each document $d_i$ is represented as a vector, which, essentially, is a list of numbers---word frequencies in our present case. A <span class=\"index\">vector space</span> is nothing more than a collection of numerical vectors, which may, for instance, be added together and multiplied by a number. Documents represented in this manner may be compared in terms of their *coordinates* (or *components*). For example, by comparing the four documents on the basis of the second coordinate, we observe that the first two documents ($d_1$ and $d_2$) have similar counts, which might be an indication that these two documents are somehow more similar. To obtain a more accurate and complete picture of document similarity, we would like to be able to compare documents more holistically, using *all* their components. In our example, each document represents a point in a four-dimensional vector space. We might hypothesize that similar documents use similar words, and hence reside close to each other in this space. To illustrate this, we demonstrate how to visualize the documents in space using the first and third components."
   ]
  },
  {
   "cell_type": "code",
   "execution_count": 2,
   "id": "6a15c89f",
   "metadata": {
    "tags": [
     "remove-cell"
    ]
   },
   "outputs": [
    {
     "data": {
      "image/png": "[encoded data removed]",
      "text/plain": [
       "<Figure size 640x480 with 1 Axes>"
      ]
     },
     "metadata": {},
     "output_type": "display_data"
    }
   ],
   "source": [
    "import numpy as np\n",
    "import matplotlib.pyplot as plt\n",
    "\n",
    "document_term_matrix = np.array([[1, 16], [2, 18], [35, 0], [39, 1]])\n",
    "labels = '$d_1$', '$d_2$', '$d_3$', '$d_4$'\n",
    "fig, ax = plt.subplots()\n",
    "plt.quiver([0, 0, 0, 0], [0, 0, 0, 0],\n",
    "           document_term_matrix[:, 0], document_term_matrix[:, 1],\n",
    "           color=[\"C0\", \"C1\", \"C2\", \"C3\"], angles='xy', scale_units='xy', scale=1)\n",
    "for i, label in enumerate(labels):\n",
    "    plt.annotate(label, xy=document_term_matrix[i], fontsize=15)\n",
    "plt.ylim(-1, 20); plt.xlim(-1, 44)\n",
    "plt.xlabel(\"Dimension 1\")\n",
    "plt.ylabel(\"Dimension 3\");\n",
    "\n",
    "plt.show()"
   ]
  },
  {
   "cell_type": "markdown",
   "id": "aa1eb7c3",
   "metadata": {},
   "source": [
    "```{glue:figure} doc_in_space\n",
    "---\n",
    "name: fig-vector-space-model-documents-in-space\n",
    "---\n",
    "\n",
    "Demonstration of four documents (represented as vectors) residing in a two-dimensional space.\n",
    "```\n",
    "\n",
    "The plot in {numref}`fig-vector-space-model-documents-in-space` makes visually clear that documents $d_1$ and $d_2$ occupy neighboring positions in space, both far away from the other two documents. As the number of dimensions increases (collections of real-world documents typically have vocabularies with tens of thousands of unique words), it will become unfeasible to visually analyze the similarity between documents. To quantify the distance (or similarity) between two documents in high-dimensional space, we can employ <span class=\"index\">distance function</span>s or metrics, which express the distance between two vectors as a non-negative number. The implementation and application of such <span class=\"index\">distance metric</span>s will be discussed in section {ref}`sec-vector-space-model-distance-metrics`.\n",
    "\n",
    "```{figure} images/bow.png\n",
    "---\n",
    "name: fig-vector-space-steps\n",
    "---\n",
    "\n",
    "Extracting a document-term matrix from a collection of texts.\n",
    "```\n",
    "\n",
    "Having a basic theoretical understanding of the vector space model, we move on to the practical part of implementing a procedure to construct a <span class=\"index\">document-term matrix</span> from plain text. In essence, this involves three consecutive steps. In the first step, we determine the <span class=\"index\">vocabulary</span> of the collection, optionally filtering the vocabulary using information about how often each unique word (type) occurs in the corpus. The second step is to count how often each element of the vocabulary occurs in each individual document. The third and final step takes the bags of words from the second step and builds a document-term matrix. The right-most table in {numref}`fig-vector-space-steps` above represents the document-term matrix resulting from this procedure. The next section will illustrate how this works in practice.\n",
    "\n",
    "(sec-vector-space-model-text-processing)=\n",
    "### Text preprocessing\n",
    "\n",
    "A common way to represent text documents is to use strings (associated with Python's `str` type). Consider the following code block, which represents the ten mini-documents from the figure above as a list of strings."
   ]
  },
  {
   "cell_type": "code",
   "execution_count": 3,
   "id": "c1356ee7",
   "metadata": {},
   "outputs": [],
   "source": [
    "corpus = [\"D'où me vient ce désordre, Aufide, et que veut dire\",\n",
    "          \"Madame, il était temps qu'il vous vînt du secours:\",\n",
    "          \"Ah! Monsieur, c'est donc vous?\",\n",
    "          \"Ami, j'ai beau rêver, toute ma rêverie\",\n",
    "          \"Ne me parle plus tant de joie et d'hyménée;\",\n",
    "          \"Il est vrai, Cléobule, et je veux l'avouer,\",\n",
    "          \"Laisse-moi mon chagrin, tout injuste qu'il est;\",\n",
    "          \"Ton frère, je l'avoue, a beaucoup de mérite;\",\n",
    "          \"J'en demeure d'accord, chacun a sa méthode;\",\n",
    "          'Pour prix de votre amour que vous peignez extrême,']"
   ]
  },
  {
   "cell_type": "markdown",
   "id": "539c2de9",
   "metadata": {},
   "source": [
    "In order to construct a <span class=\"index\">bag-of-words</span> representation of each \"text\" in this corpus, we must first process the strings into distinct words. This process is called \"<span class=\"index\">tokenization</span>\" or \"<span class=\"index\">word segmentation</span>\". A naive tokenizer might split documents along (contiguous) whitespace. In Python, such a tokenizer can be implemented straightforwardly by using the string method `split()`. As demonstrated in the following code block, this method employs a tokenization strategy in which tokens are separated by one or more instances of whitespace (e.g., spaces, tabs, newlines):"
   ]
  },
  {
   "cell_type": "code",
   "execution_count": 4,
   "id": "498f0d10",
   "metadata": {},
   "outputs": [
    {
     "name": "stdout",
     "output_type": "stream",
     "text": [
      "['Ah!', 'Monsieur,', \"c'est\", 'donc', 'vous?']\n"
     ]
    }
   ],
   "source": [
    "document = corpus[2]\n",
    "print(document.split())"
   ]
  },
  {
   "cell_type": "markdown",
   "id": "52f0cdf5",
   "metadata": {},
   "source": [
    "The tokenization strategy used often has far-reaching consequences for the composition of the final document-term matrix. If, for example, we decide not to lowercase the words, _Il_ ('he') is considered to be different from *il*, whereas we would normally consider them to be instances of the same word *type*. An equally important question is whether we should incorporate or ignore punctuation marks. And what about contracted word forms? Should _qu'il_ be restored to _que_ and *il*?\n",
    "\n",
    "Such choices may appear simple, but they may have a strong influence on the final text representation, and, subsequently, on the analysis based on this representation. Unfortunately, it is difficult to provide a recommendation here apart from advising that <span class=\"index\">tokenization</span> procedures be carefully documented. To illustrate the complexity, consider the problem of modeling thematic differences between texts. For this problem, certain linguistic markers such as punctuation might not be relevant. However, the same linguistic markers might be of a crucial importance to another problem. In authorship attribution, for example, it has been demonstrated that punctuation is one of the strongest predictors of authorial identity {cite:p}`grieve2007`. We already spoke about lowercasing texts, which is another common <span class=\"index\">preprocessing</span> step. Here as well, we should be aware that it has certain consequences for the final text representation. For instance, it complicates identifying proper nouns or the beginnings of sentences at a later stage in an analysis. Sometimes reducing the information recorded in a text representation is motivated by necessity: researchers may only have a fixed budget of computational resources available to analyze a corpus.\n",
    "\n",
    "The best recommendation here is to follow established strategies and exhaustively document the preprocessing steps taken. Distributing the code used in preprocessing is an excellent idea. Many applications employ off-the-shelf tokenizers to preprocess texts. In the example below, we apply a tokenizer optimized for French as provided by the *Natural Language ToolKit* (<span class=\"index\">NLTK</span>) {cite:p}`birdEA2009`, and segment each document in `corpus` into a list of word tokens:"
   ]
  },
  {
   "cell_type": "code",
   "execution_count": 5,
   "id": "b6a4a781",
   "metadata": {},
   "outputs": [
    {
     "name": "stdout",
     "output_type": "stream",
     "text": [
      "['Ami', ',', \"j'ai\", 'beau', 'rêver', ',', 'toute', 'ma', 'rêverie']\n"
     ]
    }
   ],
   "source": [
    "import nltk\n",
    "import nltk.tokenize\n",
    "\n",
    "# download the most recent punkt package\n",
    "nltk.download('punkt', quiet=True)\n",
    "\n",
    "document = corpus[3]\n",
    "print(nltk.tokenize.word_tokenize(document, language='french'))"
   ]
  },
  {
   "cell_type": "markdown",
   "id": "10794577",
   "metadata": {},
   "source": [
    "It can be observed that this tokenizer correctly splits off sentence-final punctuation such as full stops, but retains contracted forms, such as *j'ai*. Be aware that the clitic form *j* is not restored to *je*. Such an example illustrates how tokenizers may come with a certain set of assumptions, which should be made explicit through, for instance, properly referring to the exact tokenizer applied in the analysis.\n",
    "\n",
    "Given the current word segmentation, removing (repetitions of) isolated punctuation marks can be accomplished by filtering non-punctuation tokens. To this end, we implement a simple utility function called <span class=\"index\">`is_punct()`</span>, which checks whether a given input string is either a single punctuation marker or a sequence thereof:"
   ]
  },
  {
   "cell_type": "code",
   "execution_count": 6,
   "id": "83612168",
   "metadata": {},
   "outputs": [],
   "source": [
    "import re\n",
    "\n",
    "\n",
    "PUNCT_RE = re.compile(r'[^\\w\\s]+$')\n",
    "\n",
    "\n",
    "def is_punct(string):\n",
    "    \"\"\"Check if STRING is a punctuation marker or a sequence of\n",
    "       punctuation markers.\n",
    "\n",
    "    Arguments:\n",
    "        string (str): a string to check for punctuation markers.\n",
    "\n",
    "    Returns:\n",
    "        bool: True is string is a (sequence of) punctuation marker(s),\n",
    "            False otherwise.\n",
    "\n",
    "    Examples:\n",
    "        >>> is_punct(\"!\")\n",
    "        True\n",
    "        >>> is_punct(\"Bonjour!\")\n",
    "        False\n",
    "        >>> is_punct(\"¿Te gusta el verano?\")\n",
    "        False\n",
    "        >>> is_punct(\"...\")\n",
    "        True\n",
    "        >>> is_punct(\"«»...\")\n",
    "        True\n",
    "\n",
    "    \"\"\"\n",
    "    return PUNCT_RE.match(string) is not None"
   ]
  },
  {
   "cell_type": "markdown",
   "id": "a57a5cb2",
   "metadata": {},
   "source": [
    "The function makes use of the <span class=\"index\">regular expression</span> `[^\\w\\s]+$`. For those with a rusty memory of regular expressions, allow us to briefly explain its components. `\\w` matches Unicode word characters (including digit characters), and `\\s` matches Unicode whitespace characters. By using the set notation `[]` and the negation sign `^`, i.e., `[^\\w\\s]`, the regular expression matches any character that is *not* matched by `\\w` or `\\s`, i.e., is not a word or whitespace character, and thus a punctuation character. The `+` indicates that the expression should match one or more punctuation characters, and the `$` matches the end of the string, which ensures that a string is only matched if it solely consists of punctuation characters.\n",
    "\n",
    "Using the function <span class=\"index\">`is_punct()`</span>, filtering all non-punctuation tokens can be accomplished using a `for` loop or a <span class=\"index\">list comprehension</span>. The following code block demonstrates the use of both looping mechanisms, which are essentially equivalent:"
   ]
  },
  {
   "cell_type": "code",
   "execution_count": 7,
   "id": "dba5a016",
   "metadata": {},
   "outputs": [
    {
     "name": "stdout",
     "output_type": "stream",
     "text": [
      "['Ah', 'Monsieur', \"c'est\", 'donc', 'vous']\n",
      "['Ah', 'Monsieur', \"c'est\", 'donc', 'vous']\n"
     ]
    }
   ],
   "source": [
    "tokens = nltk.tokenize.word_tokenize(corpus[2], language='french')\n",
    "\n",
    "# Loop with a standard for-loop\n",
    "tokenized = []\n",
    "for token in tokens:\n",
    "    if not is_punct(token):\n",
    "        tokenized.append(token)\n",
    "print(tokenized)\n",
    "\n",
    "# Loop with a list comprehension\n",
    "tokenized = [token for token in tokens if not is_punct(token)]\n",
    "print(tokenized)"
   ]
  },
  {
   "cell_type": "markdown",
   "id": "6e1881a3",
   "metadata": {},
   "source": [
    "After tokenizing and removing the punctuation, we are left with a sequence of alphanumeric strings (\"words\" or \"word tokens\"). Ideally, we would wrap these preprocessing steps in a single function, such as <span class=\"index\">`preprocess_text()`</span>, which returns a list of word tokens and removes all isolated punctuation markers. Consider the following implementation:"
   ]
  },
  {
   "cell_type": "code",
   "execution_count": 8,
   "id": "44e46894",
   "metadata": {},
   "outputs": [],
   "source": [
    "def preprocess_text(text, language, lowercase=True):\n",
    "    \"\"\"Preprocess a text.\n",
    "\n",
    "    Perform a text preprocessing procedure, which transforms a string\n",
    "    object into a list of word tokens without punctuation markers.\n",
    "\n",
    "    Arguments:\n",
    "        text (str): a string representing a text.\n",
    "        language (str): a string specifying the language of text.\n",
    "        lowercase (bool, optional): Set to True to lowercase all\n",
    "            word tokens. Defaults to True.\n",
    "\n",
    "    Returns:\n",
    "        list: a list of word tokens extracted from text, excluding\n",
    "            punctuation.\n",
    "\n",
    "    Examples:\n",
    "        >>> preprocess_text(\"Ah! Monsieur, c'est donc vous?\", 'french')\n",
    "        [\"ah\", \"monsieur\", \"c'est\", \"donc\", \"vous\"]\n",
    "\n",
    "    \"\"\"\n",
    "    if lowercase:\n",
    "        text = text.lower()\n",
    "    tokens = nltk.tokenize.word_tokenize(text, language=language)\n",
    "    tokens = [token for token in tokens if not is_punct(token)]\n",
    "    return tokens"
   ]
  },
  {
   "cell_type": "markdown",
   "id": "6a675480",
   "metadata": {},
   "source": [
    "The `lowercase` parameter can be used to transform all word tokens into their lowercased form. To test this new function, we apply it to some of the toy documents in `corpus`:"
   ]
  },
  {
   "cell_type": "code",
   "execution_count": 9,
   "id": "1b35ef4a",
   "metadata": {},
   "outputs": [
    {
     "name": "stdout",
     "output_type": "stream",
     "text": [
      "Original: Ah! Monsieur, c'est donc vous?\n",
      "Tokenized: ['ah', 'monsieur', \"c'est\", 'donc', 'vous']\n",
      "Original: Ami, j'ai beau rêver, toute ma rêverie\n",
      "Tokenized: ['ami', \"j'ai\", 'beau', 'rêver', 'toute', 'ma', 'rêverie']\n"
     ]
    }
   ],
   "source": [
    "for document in corpus[2:4]:\n",
    "    print('Original:', document)\n",
    "    print('Tokenized:', preprocess_text(document, 'french'))"
   ]
  },
  {
   "cell_type": "markdown",
   "id": "8a55157a",
   "metadata": {},
   "source": [
    "Having tackled the problem of preprocessing a corpus of document strings, we can move on to the remaining steps required to create a <span class=\"index\">document-term matrix</span>. By default, the vocabulary of a corpus would comprise the complete set of words in all documents (i.e., all unique <span class=\"index\">word types</span>). However, nothing prevents us from establishing a <span class=\"index\">vocabulary</span> following a different strategy. Here, too, a useful rule of thumb is that we should try to restrict the number of words in the vocabulary as much as possible to arrive at a compact model, while at the same time, not throwing out potentially useful information. Therefore, it is common to apply a threshold or frequency cutoff, with which less informative lexical items can be ignored. We could, for instance, decide to ignore words that only occur once throughout a corpus (so-called \"<span class=\"index\">hapax legomena</span>\", or \"hapaxes\" for short). To establish such a vocabulary, one would typically scan the entire corpus, and count how often each unique word occurs. Subsequently, we remove all words from the vocabulary that occur only once. Given a sequence of items (e.g., a `list` or a `tuple`), counting items is straightforward in Python, especially when using the dedicated <span class=\"index\">`Counter`</span> object, which was discussed in chapter {ref}`chp-getting-data`. In the example below, we compute the frequency for all tokens in `corpus`:"
   ]
  },
  {
   "cell_type": "code",
   "execution_count": 10,
   "id": "461941cf",
   "metadata": {},
   "outputs": [],
   "source": [
    "import collections\n",
    "\n",
    "vocabulary = collections.Counter()\n",
    "for document in corpus:\n",
    "    vocabulary.update(preprocess_text(document, 'french'))"
   ]
  },
  {
   "cell_type": "markdown",
   "id": "5846a276",
   "metadata": {},
   "source": [
    "`Counter` implements a number of methods specialized for convenient and rapid tallies. For instance, the method <span class=\"index\">`Counter.most_common`</span> returns the *n* most frequent items:"
   ]
  },
  {
   "cell_type": "code",
   "execution_count": 11,
   "id": "8ed408a0",
   "metadata": {},
   "outputs": [
    {
     "name": "stdout",
     "output_type": "stream",
     "text": [
      "[('et', 3), ('vous', 3), ('de', 3), ('me', 2), ('que', 2)]\n"
     ]
    }
   ],
   "source": [
    "print(vocabulary.most_common(n=5))"
   ]
  },
  {
   "cell_type": "markdown",
   "id": "c490f217",
   "metadata": {},
   "source": [
    "As can be observed, the most common words in the vocabulary are function words (or \"<span class=\"index\">stop words</span>\" as they are commonly called), such as *me* (personal pronoun), *et* (conjunction), and *de* (preposition). Words residing in lower ranks of the frequency list are typically <span class=\"index\">content words</span> that have a more specific meaning than function words. This fundamental distinction between word types will re-appear at various places in the book (see, e.g., chapter {ref}`chp-stylometry`). Using the `Counter` object constructed above, it is easy to compose a vocabulary which ignores these hapaxes:"
   ]
  },
  {
   "cell_type": "code",
   "execution_count": 12,
   "id": "a91256c0",
   "metadata": {},
   "outputs": [
    {
     "name": "stdout",
     "output_type": "stream",
     "text": [
      "Original vocabulary size: 66\n",
      "{'a', 'est', \"qu'il\", 'il', 'me', 'de', 'vous', 'que', 'et', 'je'}\n",
      "Pruned vocabulary size: 10\n"
     ]
    }
   ],
   "source": [
    "print('Original vocabulary size:', len(vocabulary))\n",
    "pruned_vocabulary = {token for token, count in vocabulary.items() if count > 1}\n",
    "print(pruned_vocabulary)\n",
    "print('Pruned vocabulary size:', len(pruned_vocabulary))"
   ]
  },
  {
   "cell_type": "markdown",
   "id": "8c913204",
   "metadata": {},
   "source": [
    "To refresh your memory, a Python <span class=\"index\">`set`</span> is a data structure which is well-suited for representing a vocabulary. A Python `set`, like its namesake in mathematics, is an unordered sequence of distinct elements. Because a set only records distinct elements, we are guaranteed that all words appearing in it are unique. Similarly, we could construct a vocabulary which excludes the *n* most frequent tokens:"
   ]
  },
  {
   "cell_type": "code",
   "execution_count": 13,
   "id": "fd0b55c5",
   "metadata": {},
   "outputs": [
    {
     "name": "stdout",
     "output_type": "stream",
     "text": [
      "Original vocabulary size: 66\n",
      "Pruned vocabulary size: 61\n"
     ]
    }
   ],
   "source": [
    "n = 5\n",
    "print('Original vocabulary size:', len(vocabulary))\n",
    "pruned_vocabulary = {token for token, _ in vocabulary.most_common()[n:]}\n",
    "print('Pruned vocabulary size:', len(pruned_vocabulary))"
   ]
  },
  {
   "cell_type": "markdown",
   "id": "a5cf3d59",
   "metadata": {},
   "source": [
    "Note how the size of the pruned vocabulary can indeed be aggressively reduced using such simple frequency thresholds. Abstracting over these two concrete routines, we can now implement a function <span class=\"index\">`extract_vocabulary()`</span>, which extracts a vocabulary from a tokenized corpus given a minimum and a maximum frequency count:"
   ]
  },
  {
   "cell_type": "code",
   "execution_count": 14,
   "id": "9bcd38e6",
   "metadata": {},
   "outputs": [],
   "source": [
    "def extract_vocabulary(tokenized_corpus, min_count=1, max_count=float('inf')):\n",
    "    \"\"\"Extract a vocabulary from a tokenized corpus.\n",
    "\n",
    "    Arguments:\n",
    "        tokenized_corpus (list): a tokenized corpus represented, list\n",
    "            of lists of strings.\n",
    "        min_count (int, optional): the minimum occurrence count of a\n",
    "            vocabulary item in the corpus.\n",
    "        max_count (int, optional): the maximum occurrence count of a\n",
    "            vocabulary item in the corpus. Defaults to inf.\n",
    "\n",
    "    Returns:\n",
    "        list: An alphabetically ordered list of unique words in the\n",
    "            corpus, of which the frequencies adhere to the specified\n",
    "            minimum and maximum count.\n",
    "\n",
    "    Examples:\n",
    "        >>> corpus = [['the', 'man', 'love', 'man', 'the'],\n",
    "                      ['the', 'love', 'book', 'wise', 'drama'],\n",
    "                      ['a', 'story', 'book', 'drama']]\n",
    "        >>> extract_vocabulary(corpus, min_count=2)\n",
    "        ['book', 'drama', 'love', 'man', 'the']\n",
    "\n",
    "    \"\"\"\n",
    "    vocabulary = collections.Counter()\n",
    "    for document in tokenized_corpus:\n",
    "        vocabulary.update(document)\n",
    "    vocabulary = {word for word, count in vocabulary.items()\n",
    "                  if count >= min_count and count <= max_count}\n",
    "    return sorted(vocabulary)"
   ]
  },
  {
   "cell_type": "markdown",
   "id": "91cb19cb",
   "metadata": {},
   "source": [
    "Note that the default maximum count is set to infinity (`max_count=float('inf')`). This ensures that none of the high-frequency words are filtered without further specification. The function can be called as follows:"
   ]
  },
  {
   "cell_type": "code",
   "execution_count": 15,
   "id": "49a9227f",
   "metadata": {},
   "outputs": [],
   "source": [
    "tokenized_corpus = [preprocess_text(document, 'french') for document in corpus]\n",
    "vocabulary = extract_vocabulary(tokenized_corpus)"
   ]
  },
  {
   "cell_type": "markdown",
   "id": "5396659b",
   "metadata": {},
   "source": [
    "Once the desired <span class=\"index\">vocabulary</span> has been established, we are ready to proceed to the second step of creating a <span class=\"index\">document-term matrix</span>. Recall that this second step consists of determining for each word in the vocabulary how often it occurs in each document. There are multiple ways to implement this. We will demonstrate two of them. First, we will represent the <span class=\"index\">vector space model</span> as a list of `Counter` objects, one for each document. Using a <span class=\"index\">list comprehension</span>, this can be easily implemented as follows:"
   ]
  },
  {
   "cell_type": "code",
   "execution_count": 16,
   "id": "66f4476d",
   "metadata": {},
   "outputs": [
    {
     "name": "stdout",
     "output_type": "stream",
     "text": [
      "Counter({'ah': 1, 'monsieur': 1, \"c'est\": 1, 'donc': 1, 'vous': 1})\n"
     ]
    }
   ],
   "source": [
    "bags_of_words = []\n",
    "for document in tokenized_corpus:\n",
    "    tokens = [word for word in document if word in vocabulary]\n",
    "    bags_of_words.append(collections.Counter(tokens))\n",
    "\n",
    "print(bags_of_words[2])"
   ]
  },
  {
   "cell_type": "markdown",
   "id": "c3b19ff4",
   "metadata": {},
   "source": [
    "When we print the second document in the dummy corpus above, we can see that `Counter` objects do not store words with zero counts in a document, which is why some counters in our corpus consist of very few elements. This is an efficient data type in terms of memory impact, because no memory has to be reserved for items that do not occur in a text. By contrast, a traditional tabular representation of the <span class=\"index\">document-term matrix</span> uses more memory since it allocates memory to store counts of zeros. Such a more verbose representation is constructed in the next code block, using the function <span class=\"index\">`corpus2dtm()`</span>. So-called \"<span class=\"index\">sparse matrices</span>\" (e.g., from the <span class=\"index\">``scipy.sparse``</span> library) overcome the problem of <span class=\"index\">sparsity</span> in such frequency tables and will figure in some of the next chapters in the book (see, e.g., chapter {ref}`chp-stylometry`)."
   ]
  },
  {
   "cell_type": "code",
   "execution_count": 17,
   "id": "877d3254",
   "metadata": {},
   "outputs": [],
   "source": [
    "def corpus2dtm(tokenized_corpus, vocabulary):\n",
    "    \"\"\"Transform a tokenized corpus into a document-term matrix.\n",
    "\n",
    "    Arguments:\n",
    "        tokenized_corpus (list): a tokenized corpus as a list of\n",
    "        lists of strings. vocabulary (list): A list of unique words.\n",
    "\n",
    "    Returns:\n",
    "        list: A list of lists representing the frequency of each term\n",
    "              in `vocabulary` for each document in the corpus.\n",
    "\n",
    "    Examples:\n",
    "        >>> tokenized_corpus = [['the', 'man', 'man', 'smart'],\n",
    "                                ['a', 'the', 'man' 'love'],\n",
    "                                ['love', 'book', 'journey']]\n",
    "        >>> vocab = ['book', 'journey', 'man', 'love']\n",
    "        >>> corpus2dtm(tokenized_corpus, vocabulary)\n",
    "        [[0, 0, 2, 0], [0, 0, 1, 1], [1, 1, 0, 1]]\n",
    "\n",
    "    \"\"\"\n",
    "    document_term_matrix = []\n",
    "    for document in tokenized_corpus:\n",
    "        document_counts = collections.Counter(document)\n",
    "        row = [document_counts[word] for word in vocabulary]\n",
    "        document_term_matrix.append(row)\n",
    "    return document_term_matrix\n",
    "\n",
    "\n",
    "document_term_matrix = corpus2dtm(tokenized_corpus, vocabulary)"
   ]
  },
  {
   "cell_type": "markdown",
   "id": "d52b8199",
   "metadata": {},
   "source": [
    "The variable ``document_term_matrix`` now holds a tabular representation of the corpus.\n",
    "Each row is associated with a document and each column is associated with an element of\n",
    "the vocabulary. The table below shows the first few rows and several columns of this table."
   ]
  },
  {
   "cell_type": "code",
   "execution_count": 18,
   "id": "1c543099",
   "metadata": {
    "tags": [
     "remove-input"
    ]
   },
   "outputs": [
    {
     "data": {
      "text/html": [
       "<div>\n",
       "<style scoped>\n",
       "    .dataframe tbody tr th:only-of-type {\n",
       "        vertical-align: middle;\n",
       "    }\n",
       "\n",
       "    .dataframe tbody tr th {\n",
       "        vertical-align: top;\n",
       "    }\n",
       "\n",
       "    .dataframe thead th {\n",
       "        text-align: right;\n",
       "    }\n",
       "</style>\n",
       "<table border=\"1\" class=\"dataframe\">\n",
       "  <thead>\n",
       "    <tr style=\"text-align: right;\">\n",
       "      <th></th>\n",
       "      <th>a</th>\n",
       "      <th>ah</th>\n",
       "      <th>ami</th>\n",
       "      <th>amour</th>\n",
       "      <th>aufide</th>\n",
       "      <th>beau</th>\n",
       "      <th>beaucoup</th>\n",
       "      <th>c'est</th>\n",
       "      <th>ce</th>\n",
       "      <th>chacun</th>\n",
       "      <th>chagrin</th>\n",
       "      <th>cléobule</th>\n",
       "      <th>d'accord</th>\n",
       "      <th>d'hyménée</th>\n",
       "      <th>d'où</th>\n",
       "    </tr>\n",
       "  </thead>\n",
       "  <tbody>\n",
       "    <tr>\n",
       "      <th>0</th>\n",
       "      <td>0</td>\n",
       "      <td>0</td>\n",
       "      <td>0</td>\n",
       "      <td>0</td>\n",
       "      <td>1</td>\n",
       "      <td>0</td>\n",
       "      <td>0</td>\n",
       "      <td>0</td>\n",
       "      <td>1</td>\n",
       "      <td>0</td>\n",
       "      <td>0</td>\n",
       "      <td>0</td>\n",
       "      <td>0</td>\n",
       "      <td>0</td>\n",
       "      <td>1</td>\n",
       "    </tr>\n",
       "    <tr>\n",
       "      <th>1</th>\n",
       "      <td>0</td>\n",
       "      <td>0</td>\n",
       "      <td>0</td>\n",
       "      <td>0</td>\n",
       "      <td>0</td>\n",
       "      <td>0</td>\n",
       "      <td>0</td>\n",
       "      <td>0</td>\n",
       "      <td>0</td>\n",
       "      <td>0</td>\n",
       "      <td>0</td>\n",
       "      <td>0</td>\n",
       "      <td>0</td>\n",
       "      <td>0</td>\n",
       "      <td>0</td>\n",
       "    </tr>\n",
       "    <tr>\n",
       "      <th>2</th>\n",
       "      <td>0</td>\n",
       "      <td>1</td>\n",
       "      <td>0</td>\n",
       "      <td>0</td>\n",
       "      <td>0</td>\n",
       "      <td>0</td>\n",
       "      <td>0</td>\n",
       "      <td>1</td>\n",
       "      <td>0</td>\n",
       "      <td>0</td>\n",
       "      <td>0</td>\n",
       "      <td>0</td>\n",
       "      <td>0</td>\n",
       "      <td>0</td>\n",
       "      <td>0</td>\n",
       "    </tr>\n",
       "    <tr>\n",
       "      <th>3</th>\n",
       "      <td>0</td>\n",
       "      <td>0</td>\n",
       "      <td>1</td>\n",
       "      <td>0</td>\n",
       "      <td>0</td>\n",
       "      <td>1</td>\n",
       "      <td>0</td>\n",
       "      <td>0</td>\n",
       "      <td>0</td>\n",
       "      <td>0</td>\n",
       "      <td>0</td>\n",
       "      <td>0</td>\n",
       "      <td>0</td>\n",
       "      <td>0</td>\n",
       "      <td>0</td>\n",
       "    </tr>\n",
       "    <tr>\n",
       "      <th>4</th>\n",
       "      <td>0</td>\n",
       "      <td>0</td>\n",
       "      <td>0</td>\n",
       "      <td>0</td>\n",
       "      <td>0</td>\n",
       "      <td>0</td>\n",
       "      <td>0</td>\n",
       "      <td>0</td>\n",
       "      <td>0</td>\n",
       "      <td>0</td>\n",
       "      <td>0</td>\n",
       "      <td>0</td>\n",
       "      <td>0</td>\n",
       "      <td>1</td>\n",
       "      <td>0</td>\n",
       "    </tr>\n",
       "  </tbody>\n",
       "</table>\n",
       "</div>"
      ],
      "text/plain": [
       "   a  ah  ami  amour  aufide  beau  beaucoup  c'est  ce  chacun  chagrin  \\\n",
       "0  0   0    0      0       1     0         0      0   1       0        0   \n",
       "1  0   0    0      0       0     0         0      0   0       0        0   \n",
       "2  0   1    0      0       0     0         0      1   0       0        0   \n",
       "3  0   0    1      0       0     1         0      0   0       0        0   \n",
       "4  0   0    0      0       0     0         0      0   0       0        0   \n",
       "\n",
       "   cléobule  d'accord  d'hyménée  d'où  \n",
       "0         0         0          0     1  \n",
       "1         0         0          0     0  \n",
       "2         0         0          0     0  \n",
       "3         0         0          0     0  \n",
       "4         0         0          1     0  "
      ]
     },
     "execution_count": 18,
     "metadata": {},
     "output_type": "execute_result"
    }
   ],
   "source": [
    "import pandas as pd\n",
    "pd.DataFrame(document_term_matrix, columns=vocabulary).iloc[0:5, 0:15]"
   ]
  },
  {
   "cell_type": "markdown",
   "id": "b4a6244c",
   "metadata": {},
   "source": [
    "While Python's `list` is a convenient data type for *constructing* a document-term matrix, it is less useful when one is interested in accessing and manipulating the matrix. In what follows, we will use Python's canonical package for scientific computing, <span class=\"index\">NumPy</span>, which enables us to store and analyze document-term matrices using less computational resources and with much less effort on our part. In order not to disrupt the narrative flow of the chapter, we shall not introduce this package in detail here: less experienced readers are referred to the introductory overview at the end of this chapter, which discusses the main features of the package at significant length (section {ref}`sec-vector-space-model-numpy-intro`).\n",
    "\n",
    "(sec-vector-space-model-mapping-genre)=\n",
    "## Mapping Genres\n",
    "\n",
    "#### Loading the corpus\n",
    "\n",
    "In what preceded, we have demonstrated how to construct a document-term matrix and which text preprocessing steps are typically involved in creating this representation of text (e.g., text cleansing and string segmentation). This document-term matrix is now ready to be casted into a two-dimensional <span class=\"index\">NumPy</span> array, allowing it to be more efficiently stored and manipulated. The resulting object's `shape` attribute can be printed to verify whether the table's dimensions still correctly correspond to our original vector space model (i.e., 10 rows, for each documents, and 66 columns, one for each term in the vocabulary)."
   ]
  },
  {
   "cell_type": "code",
   "execution_count": 19,
   "id": "1a85acb1",
   "metadata": {},
   "outputs": [
    {
     "name": "stdout",
     "output_type": "stream",
     "text": [
      "(10, 66)\n"
     ]
    }
   ],
   "source": [
    "import numpy as np\n",
    "\n",
    "document_term_matrix = np.array(document_term_matrix)\n",
    "print(document_term_matrix.shape)"
   ]
  },
  {
   "cell_type": "markdown",
   "id": "2e2508e4",
   "metadata": {},
   "source": [
    "Vector space models have proven to be invaluable for numerous computational approaches to textual data, such as text classification, information retrieval and stylometry (see chapter {ref}`chp-stylometry`). In the remainder of this chapter, we will use a vector space representation of a real-world corpus. The object of study will be a collection of French plays from the Classical and Enlightenment period (seventeenth--eighteenth century), which includes works by well-known figures in the history of French theatre (e.g., Molière and Pierre Corneille). Using a <span class=\"index\">vector space model</span>, we aim to illustrate how a bag-of-words model is useful in studying the lexical differences between three subgenres in the corpus. Before diving into the details of the genre information in the corpus, let us first load the collection of French plays into memory and, subsequently, transform them into a document-term matrix.\n",
    "\n",
    "The collection of dramatic texts under scrutiny is part of the larger <span class=\"index\">*Théâtre Classique*</span> corpus, which is curated by Paul Fièvre at [http://www.theatre-classique.fr/](http://www.theatre-classique.fr/). A distinct feature of this data collection, apart from its scope and quality, is the fact that all texts are available in a meticulously encoded <span class=\"index\">XML</span> format (see section {ref}`sec-getting-data-xml` in the previous chapter). An excerpt, slightly edited for space, of one of these XML files (`504.xml`) is shown below:\n",
    "\n",
    "```xml\n",
    "<div1 type='acte' n='1'>\n",
    "  <head>ACTE I</head>\n",
    "  <stage>Le Théâtre représente un salon où il y a plusieurs issues.</stage>\n",
    "  <div2 type='scene' n='1'>\n",
    "    <head>SCÈNE PREMIÈRE.</head>\n",
    "    <sp who='FABRICE'>\n",
    "      <speaker>FABRICE, seul.</speaker>\n",
    "      <stage>ARIETTE.</stage>\n",
    "      <l id=\"1\">J'aime l'éclat des Françaises,</l>\n",
    "      <l id=\"2\">L'air fripon des Milanaises,</l>\n",
    "      <l id=\"3\">La fraîcheur des Hollandaises,</l>\n",
    "      <l id=\"4\">Le port noble des Anglaises ; </l>\n",
    "      <l id=\"5\">Allemandes, Piémontaises,</l>\n",
    "      <l id=\"6\">Toutes m'enivrent d'amour,</l>\n",
    "      <l id=\"7\">Et m'enflamment tour tour !...</l>\n",
    "      <l id=\"8\">Mais mon aimable Jeanette</l>\n",
    "      <l id=\"9\">Est si belle, si bien faite,</l>\n",
    "      <l id=\"10\">Qu'elle fait tourner la tête ;</l>\n",
    "      <l id=\"11\">Elle enchante tous les yeux,</l>\n",
    "      <l id=\"12\">Elle est l'objet de mes vœux.</l>\n",
    "      <l id=\"13\">J'aime l'éclat, etc.</l>\n",
    "      <stage>Il sort.</stage>\n",
    "    </sp>\n",
    "  </div2>\n",
    "</div1>\n",
    "```\n",
    "\n",
    "The collection contains plays of different dramatic (sub)genres, three of which will be studied in the present chapter: \"<span class=\"index\">Comédie</span>\", \"<span class=\"index\">Tragédie</span>\" and \"<span class=\"index\">Tragi-comédie</span>\". The genre of each play is encoded in the `<genre>` tag, and, as can be observed from the excerpt above, all spoken text in these plays (i.e. direct speech) is enclosed with the `<l>` tag. The remaining texts reside inside `<p>` tags. Both elements can be retrieved using a simple <span class=\"index\">XPath</span> expression (cf. section {ref}`sec-getting-data-xml` in the previous chapter), as shown in the following code block:"
   ]
  },
  {
   "cell_type": "code",
   "execution_count": 20,
   "id": "a840191a",
   "metadata": {},
   "outputs": [],
   "source": [
    "import os\n",
    "import lxml.etree\n",
    "import tarfile\n",
    "\n",
    "tf = tarfile.open('data/theatre-classique.tar.gz', 'r')\n",
    "tf.extractall('data')\n",
    "\n",
    "subgenres = ('Comédie', 'Tragédie', 'Tragi-comédie')\n",
    "\n",
    "plays, titles, genres = [], [], []\n",
    "for fn in os.scandir('data/theatre-classique'):\n",
    "    # Only include XML files\n",
    "    if not fn.name.endswith('.xml'):\n",
    "        continue\n",
    "    tree = lxml.etree.parse(fn.path)\n",
    "    genre = tree.find('.//genre')\n",
    "    title = tree.find('.//title')\n",
    "    if genre is not None and genre.text in subgenres:\n",
    "        lines = []\n",
    "        for line in tree.xpath('//l|//p'):\n",
    "            lines.append(' '.join(line.itertext()))\n",
    "        text = '\\n'.join(lines)\n",
    "        plays.append(text)\n",
    "        genres.append(genre.text)\n",
    "        titles.append(title.text)"
   ]
  },
  {
   "cell_type": "markdown",
   "id": "9ed2c8a5",
   "metadata": {},
   "source": [
    "Let us inspect the distribution of the dramatic subgenres (henceforth simply \"genres\") in\n",
    "this corpus:"
   ]
  },
  {
   "cell_type": "code",
   "execution_count": 21,
   "id": "d2e228b1",
   "metadata": {},
   "outputs": [
    {
     "data": {
      "image/png": "[encoded data removed]",
      "text/plain": [
       "<Figure size 640x480 with 1 Axes>"
      ]
     },
     "metadata": {},
     "output_type": "display_data"
    }
   ],
   "source": [
    "import matplotlib.pyplot as plt\n",
    "\n",
    "counts = collections.Counter(genres)\n",
    "\n",
    "fig, ax = plt.subplots()\n",
    "ax.bar(counts.keys(), counts.values(), width=0.3)\n",
    "ax.set(xlabel=\"genre\", ylabel=\"count\");"
   ]
  },
  {
   "cell_type": "markdown",
   "id": "47d6858f",
   "metadata": {},
   "source": [
    "<!-- Figure: Distribution of dramatic subgenres in *Théâtre Classique*.\\label{fig:vector-space:subgenre-distribution} -->\n",
    "\n",
    "We clearly have a relatively skewed distribution: the most common genre of Comédies outnumbers the runner-up genre of Tragédies almost by two to one. The curious genre of Tragi-Comédies---the oxymoron in its name suggests it to be a curious mix of both Comédies and Tragédies---is much less common as a genre label in the dataset.\n",
    "\n",
    "The apparent straightforwardness with which we have discussed <span class=\"index\">literary genres</span> so far\n",
    "is not entirely justified from the point of view of literary theory (see, e.g., {cite:t}`devitt:1993,stephens2013retelling`), and even cultural theory at large {cite:p}`chandler1997`. Although \"genre\" seems a (misleadingly) intuitive concept when talking about literature, it is also a highly vexed and controversial notion: genres are mere conventional tags that people use to refer to certain \"text varieties\" or \"textual modes\" that are very hard to delineate using explicit, let alone objective criteria. They are certainly not mutually exclusive---a \"detective\" can be a \"romance\" too---and they can overlap in complex hierarchies---a \"detective\" can be considered a hyponym of \"thriller\". Genre properties can moreover be extracted at various levels from texts, including style, themes, settings, and successful authors often like to blend genres (e.g., a \"historical thriller\"). Genre classifications therefore rarely go uncontested and their application can be a highly subjective matter, where personal taste or the paradigm a scholar works in will play a significant role. Because of the (inter)subjectivity that is involved in genre studies, quantitative approaches can offer a valuable second opinion on genetic classifications, like the one offered by Paul Fièvre. Are there any lexical differences between the texts in this corpus that would seem to correlate, or perhaps contradict, the classification proposed? Can the textual properties in a bag-of-words model shed new light on the special status of the Tragi-Comédies? And so on.\n",
    "\n",
    "#### Exploring the corpus\n",
    "\n",
    "After loading the plays into memory, we can transform the collection into a <span class=\"index\">document-term matrix</span>. In the following code block, we first preprocess each play using the `preprocess_text()` function defined earlier, which returns a list of lowercase word tokens for each play. Subsequently, we construct the <span class=\"index\">vocabulary</span> with `extract_vocabulary()`, and <span class=\"index\">prune</span> all words that occur less than two times in the collection. The final step, then, is to assemble the document-term matrix by computing the token counts for all remaining words in the vocabulary for each document in the collection."
   ]
  },
  {
   "cell_type": "code",
   "execution_count": 22,
   "id": "2b859b36",
   "metadata": {},
   "outputs": [
    {
     "name": "stdout",
     "output_type": "stream",
     "text": [
      "document-term matrix with |D| = 498 documents and |V| = 48047 words.\n"
     ]
    }
   ],
   "source": [
    "plays_tok = [preprocess_text(play, 'french') for play in plays]\n",
    "vocabulary = extract_vocabulary(plays_tok, min_count=2)\n",
    "document_term_matrix = np.array(corpus2dtm(plays_tok, vocabulary))\n",
    "\n",
    "print(f\"document-term matrix with \"\n",
    "      f\"|D| = {document_term_matrix.shape[0]} documents and \"\n",
    "      f\"|V| = {document_term_matrix.shape[1]} words.\")"
   ]
  },
  {
   "cell_type": "markdown",
   "id": "82a1c0f6",
   "metadata": {},
   "source": [
    "We are now ready to start our analysis: we have an efficient bag-of-words representation of a corpus in the form of a NumPy matrix (a two-dimensional array) and list of labels that unambiguously encodes the genre for each document vector in that table.\n",
    "\n",
    "Let us start by naively plotting the available documents, as if the frequency counts for two specific words in our bag-of-words model were simple two-dimensional coordinates on a map. In previous work by {cite:t}`schoech:2017`, two words that had considerable discriminative power for these genres were \"monsieur\" (*sir*) and \"sang\" (*blood*), so we will use these as a starting point. We can select the corresponding columns from our <span class=\"index\">document-term matrix</span>, by first retrieving their index in the vocabulary. The index of the words in our vocabulary is aligned with the indices of the corresponding columns in the bag-of-words table: we will therefore always use the index of an item in the vocabulary to retrieve the correct frequency column from the bag-of-words model. (The <span class=\"index\">Pandas</span> library, which is discussed at length in chapter {ref}`chp-working-with-data`, simplifies this process considerably when working with so-called `DataFrame` objects.)"
   ]
  },
  {
   "cell_type": "code",
   "execution_count": 23,
   "id": "f908ccb1",
   "metadata": {},
   "outputs": [],
   "source": [
    "monsieur_idx = vocabulary.index('monsieur')\n",
    "sang_idx = vocabulary.index('sang')\n",
    "\n",
    "monsieur_counts = document_term_matrix[:, monsieur_idx]\n",
    "sang_counts = document_term_matrix[:, sang_idx]"
   ]
  },
  {
   "cell_type": "markdown",
   "id": "32ca4360",
   "metadata": {},
   "source": [
    "While NumPy is optimized for dealing with numeric data, lists of strings can also be\n",
    "casted into <span class=\"index\">array</span>s. This is exactly what we will do to our list\n",
    "of genre labels too, in order to ease the process of retrieving the locations of specific genre labels in the list later on:"
   ]
  },
  {
   "cell_type": "code",
   "execution_count": 24,
   "id": "f7fc3916",
   "metadata": {},
   "outputs": [],
   "source": [
    "genres = np.array(genres)"
   ]
  },
  {
   "cell_type": "markdown",
   "id": "fd92cc3c",
   "metadata": {},
   "source": [
    "The column vectors, `monsieur_counts` and `sang_counts`, both have the same length and\n",
    "include the frequency counts for each of our two words in each document. Using the labels\n",
    "in the corresponding list of genre tags, we can now plot each document as a point in the\n",
    "two-dimensional space defined by the two count vectors. Pay close attention to the first\n",
    "two arguments passed to the `scatter()` function inside the `for` loop in which we iterate\n",
    "over the three genres: using the mechanism of \"<span class=\"index\">boolean\n",
    "indexing</span>\", we select the frequency counts for the relevant documents and we plot\n",
    "those as a group in each iteration. The figure below is generated using the following code block:"
   ]
  },
  {
   "cell_type": "code",
   "execution_count": 25,
   "id": "b2d8b57c",
   "metadata": {},
   "outputs": [
    {
     "data": {
      "image/png": "[encoded data removed]",
      "text/plain": [
       "<Figure size 640x480 with 1 Axes>"
      ]
     },
     "metadata": {},
     "output_type": "display_data"
    }
   ],
   "source": [
    "fig, ax = plt.subplots()\n",
    "\n",
    "for genre in ('Comédie', 'Tragédie', 'Tragi-comédie'):\n",
    "    ax.scatter(monsieur_counts[genres == genre],\n",
    "               sang_counts[genres == genre],\n",
    "               label=genre, alpha=0.7)\n",
    "\n",
    "ax.set(xlabel='monsieur', ylabel='sang')\n",
    "plt.legend();"
   ]
  },
  {
   "cell_type": "markdown",
   "id": "388dc356",
   "metadata": {},
   "source": [
    "<!-- Figure: Absolute frequency of \"monsieur\" and \"sang\" in individual plays.\\label{fig:vector-space-models:monsieur-and-sang} -->\n",
    "\n",
    "What does this initial \"textual map\" tell us? As we can glean from this plot, the usage of these two words appears to be remarkably distinctive. Many Tragédies seem to use the term \"sang\" profusely, whereas the term is almost absent from the Comédies. Conversely, the term \"monsieur\" is clearly favored by the authors of Comédies, where it is perhaps predominantly used as a vocative, because conversations are often said to be more typical of this particular subgenre {cite:p}`schoech:2017`. Interestingly, the Tragi-comédies seem to hold the middle between the other two genres, as these seem to invite much less extreme frequencies for those terms.\n",
    "\n",
    "#### Genre vectors\n",
    "\n",
    "Do we have any more objective methods to verify these impressions? A first option would be\n",
    "to take a more aggregate view and look at the average usage of these term in the three\n",
    "genres. In the code block below, we calculate the <span class=\"index\">arithmetic\n",
    "mean</span> or \"<span class=\"index\">centroid</span>s\" for each genetic subcluster. This is\n",
    "easy to achieve in <span class=\"index\">NumPy</span>, which has a dedicated function for\n",
    "this, <span class=\"index\">`numpy.mean()`</span>, that we can apply to our entire bag-of-words model at once. Through setting the `axis` parameter to zero, we indicate that we are\n",
    "interested in the column-wise mean (as opposed to, e.g., the row-wise mean for which we\n",
    "could need to specify `axis=1`). \n",
    "\n",
    "```{warning} \n",
    "If this is all new to you, please study the materials in section {ref}`sec-vector-space-model-numpy-intro`.\n",
    "```\n",
    "\n",
    "Note how we again make use of the <span class=\"index\">boolean indexing</span> mechanism to retrieve only the vectors accociated with the specific genre in each line below:"
   ]
  },
  {
   "cell_type": "code",
   "execution_count": 26,
   "id": "380d771e",
   "metadata": {},
   "outputs": [],
   "source": [
    "tr_means = document_term_matrix[genres == 'Tragédie'].mean(axis=0)\n",
    "co_means = document_term_matrix[genres == 'Comédie'].mean(axis=0)\n",
    "tc_means = document_term_matrix[genres == 'Tragi-comédie'].mean(axis=0)"
   ]
  },
  {
   "cell_type": "markdown",
   "id": "f7953a38",
   "metadata": {},
   "source": [
    "The resulting mean vectors will hold a one-dimensional list or vector for each term in our vocabulary:"
   ]
  },
  {
   "cell_type": "code",
   "execution_count": 27,
   "id": "cfd3916d",
   "metadata": {},
   "outputs": [
    {
     "name": "stdout",
     "output_type": "stream",
     "text": [
      "(48047,)\n"
     ]
    }
   ],
   "source": [
    "print(tr_means.shape)"
   ]
  },
  {
   "cell_type": "markdown",
   "id": "32783903",
   "metadata": {},
   "source": [
    "We still can use the precomputed indices to retrieve the mean frequency of individual words from these summary vectors:"
   ]
  },
  {
   "cell_type": "code",
   "execution_count": 28,
   "id": "b626d42a",
   "metadata": {},
   "outputs": [
    {
     "name": "stdout",
     "output_type": "stream",
     "text": [
      "Mean absolute frequency of \"monsieur\"\n",
      "   in comédies: 45.46\n",
      "   in tragédies: 1.20\n",
      "   in tragi-comédies: 8.13\n"
     ]
    }
   ],
   "source": [
    "print('Mean absolute frequency of \"monsieur\"')\n",
    "print(f'   in comédies: {co_means[monsieur_idx]:.2f}')\n",
    "print(f'   in tragédies: {tr_means[monsieur_idx]:.2f}')\n",
    "print(f'   in tragi-comédies: {tc_means[monsieur_idx]:.2f}')"
   ]
  },
  {
   "cell_type": "markdown",
   "id": "a848604e",
   "metadata": {},
   "source": [
    "The mean frequencies for these words are again revealing telling differences across our\n",
    "three genres. This also becomes evident by plotting the mean values in a scatter plot:"
   ]
  },
  {
   "cell_type": "code",
   "execution_count": 29,
   "id": "c8d18424",
   "metadata": {},
   "outputs": [
    {
     "data": {
      "image/png": "[encoded data removed]",
      "text/plain": [
       "<Figure size 640x480 with 1 Axes>"
      ]
     },
     "metadata": {},
     "output_type": "display_data"
    }
   ],
   "source": [
    "fig, ax = plt.subplots()\n",
    "\n",
    "ax.scatter(\n",
    "    co_means[monsieur_idx], co_means[sang_idx], label='Comédies')\n",
    "ax.scatter(\n",
    "    tr_means[monsieur_idx], tr_means[sang_idx], label='Tragédie')\n",
    "ax.scatter(\n",
    "    tc_means[monsieur_idx], tc_means[sang_idx], label='Tragi-comédies')\n",
    "\n",
    "ax.set(xlabel='monsieur', ylabel='sang')\n",
    "plt.legend();"
   ]
  },
  {
   "cell_type": "markdown",
   "id": "22ed2189",
   "metadata": {},
   "source": [
    "<!-- Figure: Mean frequencies for *monsieur* and *sang* in Comédies, Tragédies, and Tragi-comédies.\\label{fig:vector-space-model:mean-frequencies} -->\n",
    "\n",
    "(sec-vector-space-model-distance-metrics)=\n",
    "### Computing distances between documents\n",
    "\n",
    "Let us pause for a minute and have a closer look at the simplified representation of our corpus in the form of the three centroids. The chapter set out to explore how we could apply spatial reasoning to texts using a bag-of-words model. In the space defined by this model, we should understand by now why documents with similar vector representations are closer to each other. The wager in the rest of this chapter will be that the <span class=\"index\">geometric distance</span> between vectors can indeed serve as a proxy for human judgments of the dissimilarity of two documents. To put this into practice, a precise definition of distance in a vector space needs to be chosen. Let us review and illustrate a number of established methods to calculate the distance between document vectors and illustrate them on the basis of our three genre vectors. For the sake of simplicity, we define three vectors, one for each genre. We will use the points in this \"mini\" vector space to introduce a number of established distance metrics."
   ]
  },
  {
   "cell_type": "code",
   "execution_count": 30,
   "id": "c7daa768",
   "metadata": {},
   "outputs": [],
   "source": [
    "tragedy = np.array([tr_means[monsieur_idx], tr_means[sang_idx]])\n",
    "comedy = np.array([co_means[monsieur_idx], co_means[sang_idx]])\n",
    "tragedy_comedy = np.array([tc_means[monsieur_idx], tc_means[sang_idx]])"
   ]
  },
  {
   "cell_type": "markdown",
   "id": "73367c02",
   "metadata": {},
   "source": [
    "(sec-vector-space-model-euclidean-distance)=\n",
    "#### Euclidean distance"
   ]
  },
  {
   "cell_type": "code",
   "execution_count": 31,
   "id": "875d9e27",
   "metadata": {
    "tags": [
     "remove-cell"
    ]
   },
   "outputs": [
    {
     "data": {
      "image/png": "[encoded data removed]",
      "text/plain": [
       "<Figure size 640x480 with 1 Axes>"
      ]
     },
     "metadata": {},
     "output_type": "display_data"
    }
   ],
   "source": [
    "fig, ax = plt.subplots()\n",
    "\n",
    "ax.plot([tr_means[monsieur_idx], tc_means[monsieur_idx]],\n",
    "        [tr_means[sang_idx], tc_means[sang_idx]],\n",
    "        'darkgrey', lw=2, ls='--')\n",
    "ax.plot([tr_means[monsieur_idx], co_means[monsieur_idx]],\n",
    "        [tr_means[sang_idx], co_means[sang_idx]],\n",
    "        'darkgrey', lw=2, ls='--')\n",
    "ax.plot([tc_means[monsieur_idx], co_means[monsieur_idx]],\n",
    "        [tc_means[sang_idx], co_means[sang_idx]],\n",
    "        'darkgrey', lw=2, ls='--')\n",
    "\n",
    "ax.scatter(co_means[monsieur_idx], co_means[sang_idx],\n",
    "           label='Comédies', zorder=3)\n",
    "ax.scatter(tr_means[monsieur_idx], tr_means[sang_idx],\n",
    "           label='Tragédie', zorder=3)\n",
    "ax.scatter(tc_means[monsieur_idx], tc_means[sang_idx],\n",
    "           label='Tragi-comédies', zorder=3)\n",
    "\n",
    "ax.set(xlabel='monsieur', ylabel='sang')\n",
    "plt.legend(loc='upper center', bbox_to_anchor=(0.5, 1.1), ncol=3);\n",
    "plt.show()"
   ]
  },
  {
   "cell_type": "markdown",
   "id": "715caab5",
   "metadata": {},
   "source": [
    "```{glue:figure} euclidean_fig\n",
    ":name: fig-vector-space-model-euclidean\n",
    "\n",
    "Illustration for the Euclidean distance metric for the genre vectors.\n",
    "```\n",
    "\n",
    "Let us start with perhaps the most straightforward distance that is imaginable between two\n",
    "points in space, namely, that of \"as the crow flies\". The <span class=\"index\">Euclidean\n",
    "distance</span> intuitively measures the length of the straight line which connects two\n",
    "points. These straight lines are shown in grey in Figure\n",
    "{numref}`fig-vector-space-model-euclidean`. Calculating the exact length of these lines\n",
    "happens through the application of the Euclidean distance. Using mathematical notation, we\n",
    "represent a vector as $\\vec{x}$. Thus, given two vectors $\\vec{a}$ and $\\vec{b}$ with $n$ coordinates, the length of the line connecting two points is computed as follows:\n",
    "\n",
    "\\begin{equation}\\label{eq:euclidean-distance}\n",
    "d_2(\\vec{a}, \\vec{b}) = \\sqrt{\\sum^n_{i=1} (a_i - b_i)^2}\n",
    "\\end{equation}\n",
    "\n",
    "Not everyone is familiar with these mathematical notations, so let us briefly explain how\n",
    "to read the formula. First, $d_2$ is a function which takes two vectors, $\\vec{a}$ and $\\vec{b}$. Second, $\\sum^n_{i=1}$ is a summation or sigma notation, which is a convenient notation for expressing the sum of the values of a variable. Here, the values are the squared differences between the $i$th value in vector $\\vec{a}$ and the $i$th value in vector $\\vec{b}$, i.e., $(a_i - b_i)^2$. We compute these differences for all $n$ coordinates (hence the little $n$ on top of the sigma sign; the expression $i=1$ underneath expresses that we start from the very first element in the series). Finally, we take the square root ($\\sqrt{}$) of this sum. Sometimes, the details of formulas become clearer in the form of code. The formula for the Euclidean distance is relatively easy to translate to the following function in Python (which basically boils down to a single line, thanks to NumPy's conciseness):"
   ]
  },
  {
   "cell_type": "code",
   "execution_count": 32,
   "id": "95647fa0",
   "metadata": {},
   "outputs": [],
   "source": [
    "def euclidean_distance(a, b):\n",
    "    \"\"\"Compute the Euclidean distance between two vectors.\n",
    "\n",
    "    Note: ``numpy.linalg.norm(a - b)`` performs the\n",
    "    same calculation using a slightly faster method.\n",
    "\n",
    "    Arguments:\n",
    "        a (numpy.ndarray): a vector of floats or ints.\n",
    "        b (numpy.ndarray): a vector of floats or ints.\n",
    "\n",
    "    Returns:\n",
    "        float: The euclidean distance between vector a and b.\n",
    "\n",
    "    Examples:\n",
    "        >>> import numpy as np\n",
    "        >>> a = np.array([1, 4, 2, 8])\n",
    "        >>> b = np.array([2, 1, 4, 7])\n",
    "        >>> round(euclidean_distance(a, b), 2)\n",
    "        3.87\n",
    "\n",
    "    \"\"\"\n",
    "    return np.sqrt(np.sum((a - b) ** 2))"
   ]
  },
  {
   "cell_type": "markdown",
   "id": "0a50f159",
   "metadata": {},
   "source": [
    "In the code block below, we apply this <span class=\"index\">distance metric</span> to the three pairwise combinations of our three vectors:"
   ]
  },
  {
   "cell_type": "code",
   "execution_count": 33,
   "id": "7af71b6c",
   "metadata": {},
   "outputs": [
    {
     "name": "stdout",
     "output_type": "stream",
     "text": [
      "tragédies - comédies:       50.84\n",
      "tragédies - tragi-comédies: 12.98\n",
      " comédies - tragi-comédies: 39.89\n"
     ]
    }
   ],
   "source": [
    "tc = euclidean_distance(tragedy, comedy)\n",
    "print(f'tragédies - comédies:       {tc:.2f}')\n",
    "\n",
    "ttc = euclidean_distance(tragedy, tragedy_comedy)\n",
    "print(f'tragédies - tragi-comédies: {ttc:.2f}')\n",
    "\n",
    "ctc = euclidean_distance(comedy, tragedy_comedy)\n",
    "print(f' comédies - tragi-comédies: {ctc:.2f}')"
   ]
  },
  {
   "cell_type": "markdown",
   "id": "ebf6d9f1",
   "metadata": {},
   "source": [
    "The resulting distances clearly confirm our visual impression from the plot: the Tragi-comédies are relatively more similar to Tragédies (than Comédies), because the distance between the corresponding vectors is smaller in our example.\n",
    "\n",
    "(sec-vector-space-model-cosine-distance)=\n",
    "#### Cosine distance"
   ]
  },
  {
   "cell_type": "code",
   "execution_count": 34,
   "id": "06fb9cd2",
   "metadata": {
    "tags": [
     "remove-cell"
    ]
   },
   "outputs": [
    {
     "ename": "TypeError",
     "evalue": "__init__() takes 3 positional arguments but 4 were given",
     "output_type": "error",
     "traceback": [
      "\u001b[0;31m---------------------------------------------------------------------------\u001b[0m",
      "\u001b[0;31mTypeError\u001b[0m                                 Traceback (most recent call last)",
      "Cell \u001b[0;32mIn[34], line 41\u001b[0m\n\u001b[1;32m     37\u001b[0m ax\u001b[38;5;241m.\u001b[39mscatter(tc_means[monsieur_idx], tc_means[sang_idx],\n\u001b[1;32m     38\u001b[0m            label\u001b[38;5;241m=\u001b[39m\u001b[38;5;124m'\u001b[39m\u001b[38;5;124mTragi-comédies\u001b[39m\u001b[38;5;124m'\u001b[39m, zorder\u001b[38;5;241m=\u001b[39m\u001b[38;5;241m3\u001b[39m)\n\u001b[1;32m     40\u001b[0m \u001b[38;5;66;03m# plot vectors\u001b[39;00m\n\u001b[0;32m---> 41\u001b[0m line_1 \u001b[38;5;241m=\u001b[39m \u001b[43mLine2D\u001b[49m\u001b[43m(\u001b[49m\u001b[43m[\u001b[49m\u001b[43mco_means\u001b[49m\u001b[43m[\u001b[49m\u001b[43mmonsieur_idx\u001b[49m\u001b[43m]\u001b[49m\u001b[43m,\u001b[49m\u001b[43m \u001b[49m\u001b[38;5;241;43m0\u001b[39;49m\u001b[43m]\u001b[49m\u001b[43m,\u001b[49m\u001b[43m \u001b[49m\u001b[43m[\u001b[49m\u001b[43mco_means\u001b[49m\u001b[43m[\u001b[49m\u001b[43msang_idx\u001b[49m\u001b[43m]\u001b[49m\u001b[43m,\u001b[49m\u001b[43m \u001b[49m\u001b[38;5;241;43m0\u001b[39;49m\u001b[43m]\u001b[49m\u001b[43m,\u001b[49m\u001b[43m \u001b[49m\u001b[38;5;241;43m2\u001b[39;49m\u001b[43m,\u001b[49m\u001b[43m \u001b[49m\u001b[43mlw\u001b[49m\u001b[38;5;241;43m=\u001b[39;49m\u001b[38;5;241;43m2\u001b[39;49m\u001b[43m,\u001b[49m\u001b[43m \u001b[49m\u001b[43mls\u001b[49m\u001b[38;5;241;43m=\u001b[39;49m\u001b[38;5;124;43m'\u001b[39;49m\u001b[38;5;124;43m--\u001b[39;49m\u001b[38;5;124;43m'\u001b[39;49m\u001b[43m,\u001b[49m\u001b[43m \u001b[49m\u001b[43mc\u001b[49m\u001b[38;5;241;43m=\u001b[39;49m\u001b[38;5;124;43m'\u001b[39;49m\u001b[38;5;124;43mdarkgrey\u001b[39;49m\u001b[38;5;124;43m'\u001b[39;49m\u001b[43m)\u001b[49m\n\u001b[1;32m     42\u001b[0m line_2 \u001b[38;5;241m=\u001b[39m Line2D([tr_means[monsieur_idx], \u001b[38;5;241m0\u001b[39m], [tr_means[sang_idx], \u001b[38;5;241m0\u001b[39m], \u001b[38;5;241m1\u001b[39m, lw\u001b[38;5;241m=\u001b[39m\u001b[38;5;241m2\u001b[39m, ls\u001b[38;5;241m=\u001b[39m\u001b[38;5;124m'\u001b[39m\u001b[38;5;124m--\u001b[39m\u001b[38;5;124m'\u001b[39m, c\u001b[38;5;241m=\u001b[39m\u001b[38;5;124m'\u001b[39m\u001b[38;5;124mdarkgrey\u001b[39m\u001b[38;5;124m'\u001b[39m)\n\u001b[1;32m     43\u001b[0m line_3 \u001b[38;5;241m=\u001b[39m Line2D([tc_means[monsieur_idx], \u001b[38;5;241m0\u001b[39m], [tc_means[sang_idx], \u001b[38;5;241m0\u001b[39m], \u001b[38;5;241m1\u001b[39m, lw\u001b[38;5;241m=\u001b[39m\u001b[38;5;241m2\u001b[39m, ls\u001b[38;5;241m=\u001b[39m\u001b[38;5;124m'\u001b[39m\u001b[38;5;124m--\u001b[39m\u001b[38;5;124m'\u001b[39m, c\u001b[38;5;241m=\u001b[39m\u001b[38;5;124m'\u001b[39m\u001b[38;5;124mdarkgrey\u001b[39m\u001b[38;5;124m'\u001b[39m)\n",
      "\u001b[0;31mTypeError\u001b[0m: __init__() takes 3 positional arguments but 4 were given"
     ]
    },
    {
     "data": {
      "image/png": "[encoded data removed]",
      "text/plain": [
       "<Figure size 640x480 with 1 Axes>"
      ]
     },
     "metadata": {},
     "output_type": "display_data"
    }
   ],
   "source": [
    "# following two blocks with much appreciated help from:\n",
    "# https://stackoverflow.com/questions/25227100/best-way-to-plot-an-angle-between-two-lines-in-matplotlib\n",
    "from matplotlib.lines import Line2D\n",
    "from matplotlib.patches import Arc\n",
    "import math\n",
    "\n",
    "def get_angle_plot(line1, line2, offset = 1, color = None, origin = [0,0], len_x_axis = 1, len_y_axis = 1):\n",
    "\n",
    "    l1xy = line1.get_xydata()\n",
    "\n",
    "    # Angle between line1 and x-axis\n",
    "    slope1 = (l1xy[1][1] - l1xy[0][1]) / float(l1xy[1][0] - l1xy[0][0])\n",
    "    angle1 = abs(math.degrees(math.atan(slope1))) # Taking only the positive angle\n",
    "\n",
    "    l2xy = line2.get_xydata()\n",
    "\n",
    "    # Angle between line2 and x-axis\n",
    "    slope2 = (l2xy[1][1] - l2xy[0][1]) / float(l2xy[1][0] - l2xy[0][0])\n",
    "    angle2 = abs(math.degrees(math.atan(slope2)))\n",
    "\n",
    "    theta1 = min(angle1, angle2)\n",
    "    theta2 = max(angle1, angle2)\n",
    "\n",
    "    angle = theta2 - theta1\n",
    "\n",
    "    if color is None:\n",
    "        color = line1.get_color() # Uses the color of line 1 if color parameter is not passed.\n",
    "\n",
    "    return Arc(origin, len_x_axis*offset, len_y_axis*offset, 0, theta1, theta2, color=color)\n",
    "\n",
    "fig, ax = plt.subplots()\n",
    "\n",
    "ax.scatter(co_means[monsieur_idx], co_means[sang_idx],\n",
    "           label='Comédies', zorder=3)\n",
    "ax.scatter(tr_means[monsieur_idx], tr_means[sang_idx],\n",
    "           label='Tragédie', zorder=3)\n",
    "ax.scatter(tc_means[monsieur_idx], tc_means[sang_idx],\n",
    "           label='Tragi-comédies', zorder=3)\n",
    "\n",
    "# plot vectors\n",
    "line_1 = Line2D([co_means[monsieur_idx], 0], [co_means[sang_idx], 0], 2, lw=2, ls='--', c='darkgrey')\n",
    "line_2 = Line2D([tr_means[monsieur_idx], 0], [tr_means[sang_idx], 0], 1, lw=2, ls='--', c='darkgrey')\n",
    "line_3 = Line2D([tc_means[monsieur_idx], 0], [tc_means[sang_idx], 0], 1, lw=2, ls='--', c='darkgrey')\n",
    "\n",
    "ax = plt.gca()\n",
    "ax.add_line(line_1)\n",
    "ax.add_line(line_2)\n",
    "ax.add_line(line_3)\n",
    "\n",
    "angle_plot = get_angle_plot(line_1, line_2, 50)\n",
    "ax.add_patch(angle_plot) # To display the angle arc\n",
    "\n",
    "angle_plot = get_angle_plot(line_1, line_3, 12)\n",
    "ax.add_patch(angle_plot) # To display the angle arc\n",
    "\n",
    "angle_plot = get_angle_plot(line_2, line_3, 25)\n",
    "ax.add_patch(angle_plot) # To display the angle arc\n",
    "\n",
    "plt.xlabel('monsieur')\n",
    "plt.ylabel('sang')\n",
    "plt.ylim(0, 30)\n",
    "plt.xlim(-2, 50)\n",
    "plt.legend(loc='upper center', bbox_to_anchor=(0.5, 1.1), ncol=3)\n",
    "plt.tight_layout()\n",
    "\n",
    "plt.show()"
   ]
  },
  {
   "cell_type": "markdown",
   "id": "6d253728",
   "metadata": {},
   "source": [
    "```{glue:figure} cosine_fig\n",
    ":name: fig-vector-space-model-cosine\n",
    "\n",
    "Illustration for the cosine distance metric for the genre vectors.\n",
    "```\n",
    "\n",
    "An interesting alternative to the Euclidean distance, is the well-known <span\n",
    "class=\"index\">cosine distance</span> from geometry, which is perhaps the most widely\n",
    "employed metric for computing dissimilarities between document vectors. When calculating\n",
    "the distance between two documents in a space, the Euclidean distance plainly looks at the\n",
    "exact coordinates of the two documents: it connects them with a straight line, so to\n",
    "speak, and returns the length of that line. The cosine distance, however, takes a quite\n",
    "different perspective on things: it is not primarily interested in those two *points* as\n",
    "such, but it will interpret them as arrows or *vectors* that find their offset in the space's origin---these vectors are shown as dashed grey lines in {numref}`fig-vector-space-model-cosine`.\n",
    "\n",
    "To estimate the similarity between two documents, the metric will measure the size of the angle between the two vectors that are defined by them. The similarity between two vectors is measured by the cosine of the angle between the two vectors, as the cosine of an angle increases as the angle decreases. Vectors pointing in the same direction (i.e., having a small angle between them) will, by this measure, be rated close to each other, even if the magnitude of the vectors is radically different and the length of the line connecting them is large.\n",
    "\n",
    "The mathematical formula for calculating the cosine distance between two vectors $\\vec{a}$ and $\\vec{b}$ is slightly more involved:\n",
    "\n",
    "\\begin{equation}\\label{eq:cosine-distance}\n",
    "d_{\\cos}(\\vec a, \\vec b) = 1 - \\frac{\\vec{a} \\cdot \\vec{b}}{|\\vec{a}||\\vec{b}|}\n",
    "\\end{equation}\n",
    "\n",
    "Let us unpack this formula a little. The numerator in the fraction on the right involves a <span class=\"index\">*dot product*</span>. This is the sum of multiplying each item in $\\vec{a}$ with its corresponding item in $\\vec{b}$, i.e.:\n",
    "\n",
    "\\begin{equation}\\label{eq:dot-product}\n",
    "\\vec{a} \\cdot \\vec{b} = \\sum^n_{i=1} a_i b_i = a_1 b_1 + a_2 b_2 + \\ldots + a_n b_n\n",
    "\\end{equation}\n",
    "\n",
    "With NumPy, the dot product can be calculated using <span class=\"index\">`numpy.dot()`</span> (see below). In the denominator of the fraction, we see how the <span class=\"index\">vector norm</span> (also called its length or its magnitude) is calculated for both $\\vec{a}$ and $\\vec{b}$, i.e., $|\\vec{a}|$ and $|\\vec{b}|$, and these numbers are then multiplied. The norm for a vector can be calculated using the following function:"
   ]
  },
  {
   "cell_type": "code",
   "execution_count": null,
   "id": "eebb8cdc",
   "metadata": {},
   "outputs": [],
   "source": [
    "def vector_len(v):\n",
    "    \"\"\"Compute the length (or norm) of a vector.\"\"\"\n",
    "    return np.sqrt(np.sum(v ** 2))"
   ]
  },
  {
   "cell_type": "markdown",
   "id": "f8e81aa5",
   "metadata": {},
   "source": [
    "One aspect remains to be explained: the fraction in the formula gets subtracted from 1. Why is that? The fraction in the formula in fact corresponds to the cosine *similarity* (which will always lie between 0 and 1 for positive vectors). To turn this number into a distance, we take its complement, through subtracting it from 1.\n",
    "\n",
    "With these insights, we are now equipped to implement a function which calculates the cosine distance between vectors:"
   ]
  },
  {
   "cell_type": "code",
   "execution_count": null,
   "id": "3c489346",
   "metadata": {},
   "outputs": [],
   "source": [
    "def cosine_distance(a, b):\n",
    "    \"\"\"Compute the cosine distance between two vectors.\n",
    "\n",
    "    Arguments:\n",
    "        a (numpy.ndarray): a vector of floats or ints.\n",
    "        b (numpy.ndarray): a vector of floats or ints.\n",
    "\n",
    "    Returns:\n",
    "        float: cosine distance between vector a and b.\n",
    "\n",
    "    Note:\n",
    "        See also scipy.spatial.distance.cdist\n",
    "\n",
    "    Examples:\n",
    "        >>> import numpy as np\n",
    "        >>> a = np.array([1, 4, 2, 8])\n",
    "        >>> b = np.array([2, 1, 4, 7])\n",
    "        >>> round(cosine_distance(a, b), 2)\n",
    "        0.09\n",
    "\n",
    "    \"\"\"\n",
    "    return 1 - np.dot(a, b) / (vector_len(a) * vector_len(b))"
   ]
  },
  {
   "cell_type": "markdown",
   "id": "b23ad2c8",
   "metadata": {},
   "source": [
    "We can again compute the distances between our vectors:"
   ]
  },
  {
   "cell_type": "code",
   "execution_count": null,
   "id": "b01873cd",
   "metadata": {},
   "outputs": [
    {
     "name": "stdout",
     "output_type": "stream",
     "text": [
      "tragédies - comédies:       0.93\n",
      "tragédies - tragi-comédies: 0.10\n",
      " comédies - tragi-comédies: 0.51\n"
     ]
    }
   ],
   "source": [
    "tc = cosine_distance(tragedy, comedy)\n",
    "print(f'tragédies - comédies:       {tc:.2f}')\n",
    "\n",
    "ttc = cosine_distance(tragedy, tragedy_comedy)\n",
    "print(f'tragédies - tragi-comédies: {ttc:.2f}')\n",
    "\n",
    "ctc = cosine_distance(comedy, tragedy_comedy)\n",
    "print(f' comédies - tragi-comédies: {ctc:.2f}')"
   ]
  },
  {
   "cell_type": "markdown",
   "id": "c704dbc7",
   "metadata": {},
   "source": [
    "The cosine distances agree with their Euclidean counterparts: the resulting angle is relatively smaller between the Tragédies and the Tragi-comédies.\n",
    "\n",
    "(sec-vector-space-model-cityblock-distance)=\n",
    "#### City block distance\n",
    "\n",
    "The <span class=\"index\">city block distance</span> is a metric which computes the distance between two points in space as the sum of the absolute differences of their coordinates in space. (City block distance is also referred to as <span class=\"index\">Manhattan distance</span> and $L_1$ distance.) To obtain an intuition of what this actually means in practice, consider the region of Manhattan shown in {numref}`fig-manhattan`.\n",
    "\n",
    "```{figure} images/manhattan-turned.png\n",
    ":name: fig-manhattan\n",
    "\n",
    "Route between two locations on a map of Manhattan, NY.\n",
    "```\n",
    "\n",
    "Imagine standing at the intersection of 10th Avenue and 39th Street (location A) and you want to go for lunch somewhere at the intersection of 3rd Avenue and 47th Street (location B). How far is that? Ignoring the possibility of flying for the moment, you should follow the grid-like structure of Manhattan's streets. If you follow the route indicated on the map, you go 4 blocks east, 4 blocks north, another 5 blocks east, and, finally, yet another 5 blocks north. This sums to a total of 18 blocks, and, essentially, the city block distance is just that: the sum of the horizontal and vertical distance between two points. Let us describe this more formally. Given two points in space $a$ and $b$ with coordinates $a_1, a_2$, and $b_1, b_2$, respectively, the city block distance $d$ can be computed using the following equation:\n",
    "\n",
    "\\begin{equation}\\label{eq:manhattan-example}\n",
    "d_1(a, b) = |a_1 - b_1| + |a_2 - b_2|\n",
    "\\end{equation}\n",
    "\n",
    "Plugging in the numbers from the Manhattan example, we obtain: $d_1(A, B) = |0 - 9| + |9 - 0| = 18$. Note that we need to compute the <span class=\"index\">absolute difference</span> between two values (i.e. $|x - y|$), as the distance between two points can never be below zero---this is part of the definition of a <span class=\"index\">*distance function*</span>. Just as with geographical landmarks, we can compute the <span class=\"index\">city block distance</span> between two documents when they are represented as points in space. However, because document vectors usually consist of numerous dimensions, a more general formulation of the city block distance is required. Using the sigma notation ($\\sum$), we can write the following:\n",
    "\n",
    "\\begin{equation}\\label{eq:manhattan-distance}\n",
    "d_1(\\vec{a}, \\vec{b}) = \\sum^n_{i=1} |a_i - b_i|\n",
    "\\end{equation}\n",
    "\n",
    "The formula can be implemented in Python as follows:"
   ]
  },
  {
   "cell_type": "code",
   "execution_count": null,
   "id": "94bc2718",
   "metadata": {},
   "outputs": [],
   "source": [
    "def city_block_distance(a, b):\n",
    "    \"\"\"Compute the city block distance between two vectors.\n",
    "\n",
    "    Arguments:\n",
    "        a (numpy.ndarray): a vector of floats or ints.\n",
    "        b (numpy.ndarray): a vector of floats or ints.\n",
    "\n",
    "    Returns:\n",
    "        {int, float}: The city block distance between vector a and b.\n",
    "\n",
    "    Examples:\n",
    "        >>> import numpy as np\n",
    "        >>> a = np.array([1, 4, 2, 8])\n",
    "        >>> b = np.array([2, 1, 4, 7])\n",
    "        >>> city_block_distance(a, b)\n",
    "        7\n",
    "\n",
    "    \"\"\"\n",
    "    return np.abs(a - b).sum()"
   ]
  },
  {
   "cell_type": "markdown",
   "id": "025fc83e",
   "metadata": {},
   "source": [
    "How does this intuitively relate to our example with the vectors? Like in the case of the Manhattan street plan, we basically also project a grid onto our space, along both axes, and apply the same Manhattan-like reasoning. This is visualized in {numref}`fig-vector-space-model-cityblock`, where we plotted the individual paths between the data points."
   ]
  },
  {
   "cell_type": "code",
   "execution_count": null,
   "id": "e42514ce",
   "metadata": {
    "tags": [
     "remove-cell"
    ]
   },
   "outputs": [
    {
     "data": {
      "image/png": "[encoded data removed]",
      "text/plain": [
       "<Figure size 1600x1200 with 1 Axes>"
      ]
     },
     "metadata": {
      "filenames": {
       "image/png": "/Users/folgert/projects/hda/_build/jupyter_execute/vector-space-model/notebook_76_0.png"
      },
      "scrapbook": {
       "mime_prefix": "application/papermill.record/",
       "name": "cityblock_fig"
      }
     },
     "output_type": "display_data"
    },
    {
     "data": {
      "image/png": "[encoded data removed]",
      "text/plain": [
       "<Figure size 1600x1200 with 1 Axes>"
      ]
     },
     "metadata": {
      "filenames": {
       "image/png": "/Users/folgert/projects/hda/_build/jupyter_execute/vector-space-model/notebook_76_1.png"
      }
     },
     "output_type": "display_data"
    }
   ],
   "source": [
    "fig, ax = plt.subplots()\n",
    "\n",
    "monsieur_trag = tr_means[monsieur_idx]\n",
    "sang_trag = tr_means[sang_idx]\n",
    "monsieur_com = co_means[monsieur_idx]\n",
    "sang_com = co_means[sang_idx]\n",
    "monsieur_tc = tc_means[monsieur_idx]\n",
    "sang_tc = tc_means[sang_idx]\n",
    "\n",
    "\n",
    "# trag-tc\n",
    "ax.plot([monsieur_trag, monsieur_tc], [sang_tc, sang_tc],\n",
    "        'C2', lw=2, ls='--')\n",
    "ax.plot([monsieur_trag, monsieur_trag], [sang_tc, sang_trag],\n",
    "        'C2', lw=2, ls='--')\n",
    "\n",
    "# com-tc\n",
    "ax.plot([monsieur_tc, monsieur_tc], [sang_tc, sang_com],\n",
    "        'C0', lw=2, ls='--')\n",
    "ax.plot([monsieur_tc, monsieur_com], [sang_com, sang_com],\n",
    "        'C0', lw=2, ls='--')\n",
    "\n",
    "# trag-com\n",
    "ax.plot([monsieur_trag, monsieur_com], [sang_trag, sang_trag],\n",
    "        'C1', lw=2, ls='--')\n",
    "ax.plot([monsieur_com, monsieur_com], [sang_trag, sang_com],\n",
    "        'C1', lw=2, ls='--')\n",
    "\n",
    "ax.scatter(co_means[monsieur_idx], co_means[sang_idx],\n",
    "           label='Comédies', zorder=3)\n",
    "ax.scatter(tr_means[monsieur_idx], tr_means[sang_idx],\n",
    "           label='Tragédie', zorder=3)\n",
    "ax.scatter(tc_means[monsieur_idx], tc_means[sang_idx],\n",
    "           label='Tragi-comédies', zorder=3)\n",
    "\n",
    "ax.set(xlabel='monsieur', ylabel='sang')\n",
    "plt.legend(loc='upper center', bbox_to_anchor=(0.5, 1.1), ncol=3);\n",
    "\n",
    "plt.show()"
   ]
  },
  {
   "cell_type": "markdown",
   "id": "d2d7ee7c",
   "metadata": {},
   "source": [
    "```{glue:figure} cityblock_fig\n",
    ":name: fig-vector-space-model-cityblock\n",
    "\n",
    "Illustration for the cityblock distance metric for the genre vectors.\n",
    "```\n",
    "\n",
    "Because the <span class=\"index\">city block distance</span> provides an entirely different view on the notion of distance, it is interesting to compare the intra-centroid distances yielded by this metric to the ones we obtained before:"
   ]
  },
  {
   "cell_type": "code",
   "execution_count": null,
   "id": "cfdb16db",
   "metadata": {},
   "outputs": [
    {
     "name": "stdout",
     "output_type": "stream",
     "text": [
      "tragédies - comédies:       69.28\n",
      "tragédies - tragi-comédies: 17.90\n",
      " comédies - tragi-comédies: 51.38\n"
     ]
    }
   ],
   "source": [
    "tc = city_block_distance(tragedy, comedy)\n",
    "print(f'tragédies - comédies:       {tc:.2f}')\n",
    "\n",
    "ttc = city_block_distance(tragedy, tragedy_comedy)\n",
    "print(f'tragédies - tragi-comédies: {ttc:.2f}')\n",
    "\n",
    "ctc = city_block_distance(comedy, tragedy_comedy)\n",
    "print(f' comédies - tragi-comédies: {ctc:.2f}')"
   ]
  },
  {
   "cell_type": "markdown",
   "id": "2d56bcd5",
   "metadata": {},
   "source": [
    "The city block distance is a well-known distance function whose \"inner workings\" are not\n",
    "too hard to understand. While it tends not to be used that frequently anymore in text\n",
    "analysis, functions with a family resemblance to the city block distance do appear from\n",
    "time to time. In the chapter on stylometry (Chapter {ref}`chp:stylometry`), for instance,\n",
    "we will see that Burrows's popular Delta method is in fact a small variation on the city\n",
    "block distance.\n",
    "\n",
    "#### Comparing metrics\n",
    "\n",
    "For the sake of simplicity, so far we have worked with the very limited example of our three genre vectors. The main issue with this dummy case is that we only considered a bidimensional vector space that consisted of two cherry-picked word variables that we already knew to be an important characteristic for some of the genres considered. For all other words in our vocabulary (that contains tens of thousands of terms), we simply do not know whether they show equally remarkable patterns. Would we see any different patterns if we applied these metrics on the entire vocabulary, also including words that might display less distinct usage across the three genres? Let us find out:"
   ]
  },
  {
   "cell_type": "code",
   "execution_count": null,
   "id": "c932296e",
   "metadata": {},
   "outputs": [
    {
     "name": "stdout",
     "output_type": "stream",
     "text": [
      "cosine\n",
      "   tragédie - comédie: 0.04\n",
      "   tragédie - tragi-comédie: 0.01\n",
      "   comédie - tragi-comédie: 0.03\n",
      "manhattan\n",
      "   tragédie - comédie: 7147.79\n",
      "   tragédie - tragi-comédie: 5169.42\n",
      "   comédie - tragi-comédie: 8153.40\n",
      "euclidean\n",
      "   tragédie - comédie: 356.95\n",
      "   tragédie - tragi-comédie: 250.69\n",
      "   comédie - tragi-comédie: 505.08\n"
     ]
    }
   ],
   "source": [
    "import scipy.spatial.distance as dist\n",
    "\n",
    "genre_vectors = {'tragédie': tr_means, 'comédie': co_means, 'tragi-comédie': tc_means}\n",
    "metrics = {'cosine': dist.cosine, 'manhattan': dist.cityblock, 'euclidean': dist.euclidean}\n",
    "\n",
    "import itertools\n",
    "\n",
    "for metric_name, metric_fn in metrics.items():\n",
    "    print(metric_name)\n",
    "    for v1, v2 in itertools.combinations(genre_vectors, 2):\n",
    "        distance = metric_fn(genre_vectors[v1], genre_vectors[v2])\n",
    "        print(f'   {v1} - {v2}: {distance:.2f}')"
   ]
  },
  {
   "cell_type": "markdown",
   "id": "d5b04bb4",
   "metadata": {},
   "source": [
    "This code block requires some additional explanation. We first import the <span class=\"index\">SciPy</span> versions of the distance metrics which we hand-coded above. SciPy (\"Scientific Python\") is another influential package in the Python ecosystem that is predominantly relevant for scientific uses of the language. This is merely for illustration purposes, since these implementations should run perfectly parallel to our own. Next, we store both our genre vectors and our freshly imported functions in separate dictionaries for easy looping. Finally, we import the <span class=\"index\">`itertools`</span> module from the standard library, which offers the function <span class=\"index\">`itertools.combinations()`</span> for extracting all unique combinations between the elements of an iterable. The main goal of the block is to calculate the distances between all genre pairs in our data. Our earlier observation seems to be confirmed in this comparison: all metrics agree that the distance between the Tragédies and Tragi-comédies is relatively smaller than that between Comédies and Tragi-comédies, if we consider the complete vocabulary. However, there is also some interesting disagreement: for the cosine distance, the distance between Comédies and Tragi-comédies is smaller than the distance between Comédies and Tragédies, which is something that we do not see with the other metrics.\n",
    "\n",
    "As we inspect the actual numbers returned by the distance metrics, we see that the city\n",
    "block and Euclidean distances are huge in comparison to the cosine distance, which is\n",
    "nicely clamped between 0 and 1. This is due to the fact that the cosine calculation\n",
    "automatically normalizes the distance measure, using the magnitude-based denominator in\n",
    "the fraction discussed above. Because the city block and Euclidean distance do not perform such a <span class=\"index\">normalization</span>, they are much more sensitive to document length. Also, this explains why the cosine distance is nowadays commonly preferred in text analysis, since texts typically vary in length.\n",
    "\n",
    "(sec-vector-space-model-nearest-neighbors)=\n",
    "### Nearest neighbors\n",
    "\n",
    "It seems logical that any text in a vector space will be surrounded by highly similar data points. Such clusters of similar data points might inform us about the behavior or characteristics of texts. Such an assumption is often referred to as a \"local\" form of reasoning, since we hypothesize that we can in fact characterize data points through inspecting (only) their immediate neighborhood, rather than the entire space at once. This leads us to an important concept in data analysis, namely that of the \"<span class=\"index\">nearest neighbor</span>\". In the case of the French drama genres, for instance, one might expect that a Tragédie will always have another Tragédie as nearest neighbor -- and whenever this is not the case for a particular text, this might be an indication that this document deserves a closer look, since its behavior is unusual. As such, approaching our corpus with a nearest neighbor method might be an interesting way of performing \"<span class=\"index\">outlier detection</span>\".\n",
    "\n",
    "Below we define a function, `nearest_neighbors()`, that takes a document-term matrix as input. The function makes use of <span class=\"index\">SciPy</span>'s <span class=\"index\">`pdist`</span> function to compute the distances between all vectors. We use this function, because a more naive implementation, in which we iterate over the matrix's document vectors and returns for each item the index of its nearest neighbor, would be terribly slow. `pdist` returns a so-called \"condensed <span class=\"index\">distance matrix</span>\", which we transform into a regular square-form distance matrix using the function <span class=\"index\">`squareform`</span>. In such a square-form distance matrix, cells hold the distance between points $i$ and $j$. All distances at the diagonal (i.e., where $i = j$) of the matrix are zero, since these represent the distance between documents and themselves. To conveniently extract the nearest neighbor of each document, while ignoring the zeros at the diagonal, we first set all diagonal values to infinity. Subsequently, we can use NumPy's convenient <span class=\"index\">`numpy.argmin()`</span> function, which returns the index of the minimal value in an array, i.e., the nearest neighbor."
   ]
  },
  {
   "cell_type": "code",
   "execution_count": null,
   "id": "d4dffdaf",
   "metadata": {},
   "outputs": [],
   "source": [
    "def nearest_neighbors(X, metric='cosine'):\n",
    "    \"\"\"Retrieve the nearest neighbor for each row in a 2D array.\n",
    "\n",
    "    Arguments:\n",
    "        X (numpy.ndarray): a 2D array.\n",
    "        metric (str): the distance metric to be used,\n",
    "            one of: 'cosine', 'manhattan', 'euclidean'\n",
    "\n",
    "    Returns:\n",
    "        neighbors (list): A list of integers, corresponding to\n",
    "            the index of each row's nearest neighbor.\n",
    "\n",
    "    Examples:\n",
    "        >>> X = np.array([[1, 4, 2], [5, 5, 1], [1, 2, 1]])\n",
    "        >>> nearest_neighbors(X, metric='manhattan')\n",
    "        [1, 0, 0]\n",
    "\n",
    "    \"\"\"\n",
    "    distances = dist.pdist(X, metric=metric)\n",
    "    distances = dist.squareform(distances)\n",
    "    np.fill_diagonal(distances, np.inf)\n",
    "    return distances.argmin(1)"
   ]
  },
  {
   "cell_type": "code",
   "execution_count": null,
   "id": "4885c688",
   "metadata": {},
   "outputs": [],
   "source": [
    "neighbor_indices = nearest_neighbors(document_term_matrix)"
   ]
  },
  {
   "cell_type": "markdown",
   "id": "e7a4f568",
   "metadata": {},
   "source": [
    "From the array `genres`, we can retrieve the original genre labels assigned to each\n",
    "document in the dataset. Then, using the indices which were returned by\n",
    "`nearest_neighbors()`, we can look up the genres of each of their <span class=\"index\">nearest neighbor</span>s:"
   ]
  },
  {
   "cell_type": "code",
   "execution_count": null,
   "id": "6a9f9e72",
   "metadata": {},
   "outputs": [
    {
     "name": "stdout",
     "output_type": "stream",
     "text": [
      "['Comédie' 'Tragédie' 'Comédie' 'Comédie' 'Comédie']\n"
     ]
    }
   ],
   "source": [
    "nn_genres = genres[neighbor_indices]\n",
    "print(nn_genres[:5])"
   ]
  },
  {
   "cell_type": "markdown",
   "id": "30e6d5a3",
   "metadata": {},
   "source": [
    "What is the correspondence between the genres that were actually assigned to the items, and the genres of the nearest neighbors which were retrieved? We can quantify this correspondence through summing the number of overlapping label pairs in both arrays and dividing it by the total number of pairs. With NumPy, such operations are a walk through the park:"
   ]
  },
  {
   "cell_type": "code",
   "execution_count": null,
   "id": "f96996d2",
   "metadata": {},
   "outputs": [
    {
     "name": "stdout",
     "output_type": "stream",
     "text": [
      "Matching pairs (normalized): 0.90\n"
     ]
    }
   ],
   "source": [
    "overlap = np.sum(genres == nn_genres)\n",
    "print(f'Matching pairs (normalized): {overlap / len(genres):.2f}')"
   ]
  },
  {
   "cell_type": "markdown",
   "id": "be6990b0",
   "metadata": {},
   "source": [
    "In approximately 90% of the cases, we see that the nearest neighbor of a text is indeed of\n",
    "the same genre. This nearest neighbor approach allows us to reconsider our data set in a\n",
    "variety of ways. With a <span class=\"index\">`Counter`</span>, we can for instance inspect the distribution of genres in the list of nearest neighbors in each genre:"
   ]
  },
  {
   "cell_type": "code",
   "execution_count": null,
   "id": "1664126a",
   "metadata": {},
   "outputs": [
    {
     "name": "stdout",
     "output_type": "stream",
     "text": [
      "[('Tragédie', 130), ('Tragi-comédie', 16), ('Comédie', 4)]\n",
      "[('Comédie', 298), ('Tragédie', 7), ('Tragi-comédie', 5)]\n",
      "[('Tragi-comédie', 20), ('Tragédie', 10), ('Comédie', 8)]\n"
     ]
    }
   ],
   "source": [
    "print(collections.Counter(nn_genres[genres == 'Tragédie']).most_common())\n",
    "print(collections.Counter(nn_genres[genres == 'Comédie']).most_common())\n",
    "print(collections.Counter(nn_genres[genres == 'Tragi-comédie']).most_common())"
   ]
  },
  {
   "cell_type": "markdown",
   "id": "6af6b611",
   "metadata": {},
   "source": [
    "The resulting distributions show which type of nearest neighbor is most commonly associated with each genre. Likewise, we could iterate over the Tragi-comédies, and calculate each text's distance to the mean of the other genre."
   ]
  },
  {
   "cell_type": "code",
   "execution_count": null,
   "id": "6119f728",
   "metadata": {},
   "outputs": [
    {
     "name": "stdout",
     "output_type": "stream",
     "text": [
      "Mean distance to comédie vector: 0.060\n",
      "Mean distance to tragédie vector: 0.042\n"
     ]
    }
   ],
   "source": [
    "t_dists, c_dists = [], []\n",
    "for tc in document_term_matrix[genres == 'Tragi-comédie']:\n",
    "    t_dists.append(cosine_distance(tc, tr_means))\n",
    "    c_dists.append(cosine_distance(tc, co_means))\n",
    "\n",
    "print(f'Mean distance to comédie vector: {np.mean(c_dists):.3f}')\n",
    "print(f'Mean distance to tragédie vector: {np.mean(t_dists):.3f}')"
   ]
  },
  {
   "cell_type": "markdown",
   "id": "cf700ecc",
   "metadata": {},
   "source": [
    "Another option is to plot the resulting distances in a so-called \"<span class=\"index\">box plot</span>\", that shows for each list a number of useful statistics, such as the median:"
   ]
  },
  {
   "cell_type": "code",
   "execution_count": null,
   "id": "80e2e7b4",
   "metadata": {},
   "outputs": [
    {
     "data": {
      "image/png": "[encoded data removed]",
      "text/plain": [
       "<Figure size 1600x1200 with 1 Axes>"
      ]
     },
     "metadata": {
      "filenames": {
       "image/png": "/Users/folgert/projects/hda/_build/jupyter_execute/vector-space-model/notebook_93_0.png"
      }
     },
     "output_type": "display_data"
    }
   ],
   "source": [
    "fig, ax = plt.subplots()\n",
    "ax.boxplot([t_dists, c_dists])\n",
    "ax.set(xticklabels=('Tragédie', 'Comédie'), ylabel='Distances to genre means');"
   ]
  },
  {
   "cell_type": "markdown",
   "id": "c8d17c56",
   "metadata": {},
   "source": [
    "<!-- Figure: Box plot of distances to genre means.\\label{fig:vector-space-model:distance-to-centroids} -->\n",
    "\n",
    "The Tragi-comédies' mean distance in the plot above are again relatively smaller to the\n",
    "tragédies' genre vector in terms of their median distance. Any \"<span\n",
    "class=\"index\">outliers</span>\" in this plot are shown as individual data points that are\n",
    "outside the \"whiskers\" (using empty circles by default). Two Tragi-comédies seem to show\n",
    "an unexpectedly large distance to the tragedy centroid, with distance scores larger than\n",
    "the 0.7. These unexpected outliers therefore invite a closer analysis, using more\n",
    "conventional hermeneutic approaches. Retrieving the original titles of these outliers can\n",
    "be done by first identifying the index of the two most extreme distances:"
   ]
  },
  {
   "cell_type": "code",
   "execution_count": null,
   "id": "5b823bef",
   "metadata": {},
   "outputs": [],
   "source": [
    "t_dists = np.array(t_dists)\n",
    "outliers = t_dists.argsort()[::-1][:2]"
   ]
  },
  {
   "cell_type": "markdown",
   "id": "c9ba6543",
   "metadata": {},
   "source": [
    "Using a <span class=\"index\">negative step index</span> (`[::-1]`), we invert the result of <span class=\"index\">`numpy.argsort()`</span>, which defaults to an ascending order, whereas we are interested in the largest distances. Subsequently, we select the first two indices: our two outliers in the bar plot. Finally, we retrieve the original titles using these indices from the appropriate list of titles, which was extracted at the beginning of this chapter:"
   ]
  },
  {
   "cell_type": "code",
   "execution_count": null,
   "id": "4af1e0d2",
   "metadata": {},
   "outputs": [
    {
     "name": "stdout",
     "output_type": "stream",
     "text": [
      "STRATONICE, TRAGI-COMÉDIE\n",
      "BÉRÉNICE, TRAGI-COMÉDIE EN PROSE.\n"
     ]
    }
   ],
   "source": [
    "tc_titles = np.array(titles)[genres == 'Tragi-comédie']\n",
    "print('\\n'.join(tc_titles[outliers]))"
   ]
  },
  {
   "cell_type": "markdown",
   "id": "31526188",
   "metadata": {},
   "source": [
    "For the second outlier, *Bérénice*, the plain fact that the text is in prose might explain the pronounced distance from the Tragédie centroid: Tragèdies in the corpus are mostly composed in verse -- although prose tragedies do occur, e.g., Voltaire's *Socrates* from 1759. The lack of (stereotypical) rhyme words, amongst other factors, is likely to cause lexical shifts in the vocabulary. For the *Stratonice* (1660) by Philippe Quinault, the first outlier, other explanatory grounds are called for, because this is a clear verse text. In this case, thematic divergence seems to have caused the lexical distance from the average tragedy. The classical material by Plutarch from which Quinault heavily borrowed in this play already possessed little \"dramatic power\" in the eyes of contemporaries {cite:p}`brooks:2009`. In fact, the only significantly dramatic scene which occurred in that material was deleted altogether in the *Stratonice*, which helps explain why it behaves as such an \"un-tragedic\" play in terms of word choice.\n",
    "\n",
    "The fact that the *Stratonice* still received the (contemporary) label of Tragi-comédie illustrates that genre matters were as controversial a notion in seventeenth-century France as they are today. Some works in this period even attracted different genre labels across different editions of the very same text {cite:p}`hammond:2007`. Computational methods can help us model this genetic fluidity and make nuanced generalizations that would otherwise remain out of scope in humanistic research. Abstracting over the outliers discussed in the previous paragraph, all measurements above add (additional) quantitative evidence, for instance, for the existing view that the texts in the hybrid subgenre of Tragi-comédies are generally more similar to the typical tragedy than to the average comedy. As such, our results are congruent with what we know about the subgenre: Tragi-comédies are not comédies with some superficial tragic aspects thrown into the mix; rather at their core, they are tragedies to which some humorous twists were added to soften the dramatic aspects. A quantitative approach, however, does not only provide the means of confirmation regarding established views but also offers new methods to identify outliers which can help challenge and fine-tune existing perspectives in literary history.\n",
    "\n",
    "(sec-vector-space-model-further-reading)=\n",
    "## Further Reading\n",
    "\n",
    "This chapter introduced the vector space model of texts and how representing texts as vectors can be used to quantify similarities between texts. We introduced a number of important text <span class=\"index\">preprocessing</span> techniques and demonstrated the use of NumPy in this context, a library which provides data structures useful for storing and manipulating multidimensional numeric data. As a case study, we investigated a corpus of French plays from the Classical and Enlightenment period in France. Using the concept of distance metrics, we illustrated how the (dis)similarities between documents can be traced in a vector space. Likewise, the concept of a nearest neighbor proved a fruitful strategy to explore the morphology of our corpus -- and even detect outliers in it.\n",
    "\n",
    "This chapter has laid much groundwork for some of the more advanced data analyses that will feature later on in the book. Preprocessing texts is required by almost all quantitative text analysis and subsequent chapters will often contain preprocessing blocks that are reminiscent of what we treated in this chapter. Likewise, the flexible manipulation of (vocabularies represented as) numeric data tables is foundational in data science. Nearest neighbor reasoning, finally, lies at the basis of a number of highly influential machine learning algorithms that can be used to automatically classify documents. In the chapter on stylometry, we will see how Burrows's Delta is in fact a simple variation on the nearest neighbors algorithm.\n",
    "\n",
    "As will be clear by now, we often discuss implementations of certain basic algorithms in significant detail. This might seem superfluous: why recode a distance function from the ground up, if we can readily import a tried-and-tested implementation from a reference package like SciPy or NumPy? We insist on such low-level discussions, mainly because we believe that the black box is the biggest enemy of interpretative research. If we start to use (and accept) distance metrics as proxies for human judgment, it is important to have an understanding of -- and at least an intuition about -- how these distance metrics work internally, and which quantitative biases they come with.\n",
    "\n",
    "A more detailed description of text preprocessing techniques is offered by {cite:t}`birdEA2009`, an updated version of which is available [online](http://www.nltk.org/book/). Thorough coverage of text normalization, including lemmatization and word stemming, can be found in chapter 2 of {cite:t}`jurafskyinpressspeech`. {cite:t}`vanderplas:2016` covers the ins and outs of working with NumPy. chapter 6 of {cite:t}`jurafskyinpressspeech` covers the vector space model and distance metrics. chapter 16 of {cite:t}`manning1999foundations` covers nearest neighbors classification. Those interested in the conceptual underpinnings of the vector space model may wish to consult an introduction to linear algebra such as {cite:t}`axler2004linear`."
   ]
  },
  {
   "cell_type": "markdown",
   "id": "2a6e747f",
   "metadata": {},
   "source": [
    "(sec-vector-space-model-numpy-intro)=\n",
    "## Appendix: Vectorizing Texts with NumPy\n",
    "\n",
    "```{attention} \n",
    "Readers familiar with NumPy may safely skip this section.\n",
    "```\n",
    "\n",
    "<span class=\"index\">NumPy</span> (short for Numerical Python) is the de facto standard library for scientific computing and data analysis in Python. Anyone interested in large-scale data analyses with Python is strongly encouraged to (at least) master the essentials of the library. This section introduces the essentials of constructing arrays (section {ref}`sec-vector-space-model-numpy-constructing-arrays`), manipulating arrays (section {ref}`sec-vector-space-model-indexing-and-slicing`), and computing with arrays (section {ref}`sec-vector-space-model-numpy-aggregating-functions`). A complete account of NumPy's functionalities is available in NumPy's online documentation.\n",
    "\n",
    "(sec-vector-space-model-numpy-constructing-arrays)=\n",
    "### Constructing arrays\n",
    "\n",
    "NumPy's main workhorse is the N-dimensional array object <span class=\"index\">`ndarray`</span>, which has much in common with Python's `list` type, but allows arrays of numerical data to be stored and manipulated much more efficiently. NumPy is conventionally imported using the alias <span class=\"index\">`np`</span>:"
   ]
  },
  {
   "cell_type": "code",
   "execution_count": null,
   "id": "e0fa5f42",
   "metadata": {},
   "outputs": [],
   "source": [
    "import numpy as np"
   ]
  },
  {
   "cell_type": "markdown",
   "id": "c8024db6",
   "metadata": {},
   "source": [
    "NumPy arrays can be constructed either by converting a `list` object into an array or by\n",
    "employing routines provided by NumPy. For example, to initialize an array of floating points on the basis of a `list`, we write:"
   ]
  },
  {
   "cell_type": "code",
   "execution_count": null,
   "id": "d29736a5",
   "metadata": {},
   "outputs": [],
   "source": [
    "a = np.array([1.0, 0.5, 0.33, 0.25, 0.2])"
   ]
  },
  {
   "cell_type": "markdown",
   "id": "0e1371d2",
   "metadata": {},
   "source": [
    "Similarly, an array of integers can be created with:"
   ]
  },
  {
   "cell_type": "code",
   "execution_count": null,
   "id": "01c2c77c",
   "metadata": {},
   "outputs": [],
   "source": [
    "a = np.array([1, 3, 6, 10, 15])"
   ]
  },
  {
   "cell_type": "markdown",
   "id": "8ac04224",
   "metadata": {},
   "source": [
    "A crucial difference between NumPy arrays and Python's built-in `list` is that all items of a NumPy array have a specific and fixed type, whereas Python's `list` allows for mixed types that can be freely changed (e.g., a mixture of `str` and `int` types). While Python's dynamically typed `list` provides programmers with great flexibility, NumPy's fixed-type arrays are much more efficient in terms of both storage and manipulation. The data type of an array can be explicitly controlled for by setting the <span class=\"index\">`dtype`</span> argument during initialization. For example, to explicitly set the data type for array elements to be 32-bit integers (sufficient for counting words in virtually all human-produced texts), we write the following:"
   ]
  },
  {
   "cell_type": "code",
   "execution_count": null,
   "id": "3c1787df",
   "metadata": {},
   "outputs": [
    {
     "name": "stdout",
     "output_type": "stream",
     "text": [
      "int32\n"
     ]
    }
   ],
   "source": [
    "a = np.array([0, 1, 1, 2, 3, 5], dtype='int32')\n",
    "print(a.dtype)"
   ]
  },
  {
   "cell_type": "markdown",
   "id": "fd6c8b8c",
   "metadata": {},
   "source": [
    "The trailing number 32 in `int32` specifies the number of bits available for storing the numbers in an array. An array with type `int8`, for example, is only capable of expressing integers within the range of -128 to 127. `int64` allows integers to fall within the range -9,223,372,036,854,775,807 to 9,223,372,036,854,775,807. (Python's native `int` has no fixed bounds.) The advantage of specifying data type is that doing so saves memory. The memory needed to store an integer of type `int8` amounts to a single byte, whereas those of type `int64` need 8 bytes. Such a difference might seem negligible, but once we start working with arrays which record millions or billions of term frequencies, the difference will be significant. As with integers, we can specify a type for floating numbers, such as `float32` and `float64`. Besides having a smaller memory footprint, numbers of type `float32` have a smaller precision than `float64` numbers. To change the data type of an existing array, we use the method <span class=\"index\">`ndarray.astype()`</span>:"
   ]
  },
  {
   "cell_type": "code",
   "execution_count": null,
   "id": "ae930587",
   "metadata": {},
   "outputs": [
    {
     "name": "stdout",
     "output_type": "stream",
     "text": [
      "float32\n"
     ]
    }
   ],
   "source": [
    "a = a.astype('float32')\n",
    "print(a.dtype)"
   ]
  },
  {
   "cell_type": "markdown",
   "id": "3e50f1d7",
   "metadata": {},
   "source": [
    "NumPy arrays are explicit about their dimensions, which is another important difference between NumPy's `array` and Python's `list` object. The number of dimensions of an array is accessed through the attribute <span class=\"index\">`ndarray.ndim`</span>:"
   ]
  },
  {
   "cell_type": "code",
   "execution_count": null,
   "id": "1291765e",
   "metadata": {},
   "outputs": [
    {
     "name": "stdout",
     "output_type": "stream",
     "text": [
      "1\n"
     ]
    }
   ],
   "source": [
    "a = np.array([0, 1, 1, 2, 3, 5])\n",
    "print(a.ndim)"
   ]
  },
  {
   "cell_type": "markdown",
   "id": "6e8a92eb",
   "metadata": {},
   "source": [
    "To construct a two-dimensional array, we pass a sequence of ordered sequences (i.e., a `list` or a `tuple`) to `np.array`:"
   ]
  },
  {
   "cell_type": "code",
   "execution_count": null,
   "id": "1e157c0f",
   "metadata": {},
   "outputs": [
    {
     "name": "stdout",
     "output_type": "stream",
     "text": [
      "2\n"
     ]
    }
   ],
   "source": [
    "a = np.array([[0, 1, 2], [1, 0, 2], [2, 1, 0]])\n",
    "print(a.ndim)"
   ]
  },
  {
   "cell_type": "markdown",
   "id": "09272b1a",
   "metadata": {},
   "source": [
    "Likewise, a sequence of sequences of sequences produces a three-dimensional array:"
   ]
  },
  {
   "cell_type": "code",
   "execution_count": null,
   "id": "24c3857a",
   "metadata": {},
   "outputs": [
    {
     "name": "stdout",
     "output_type": "stream",
     "text": [
      "3\n"
     ]
    }
   ],
   "source": [
    "a = np.array([[[1, 3, 3], [2, 5, 2]], [[2, 3, 7], [4, 5, 9]]])\n",
    "print(a.ndim)"
   ]
  },
  {
   "cell_type": "markdown",
   "id": "8c6fbada",
   "metadata": {},
   "source": [
    "In addition to an array's number of dimensions, we can retrieve the size of an array in each dimension using the attribute <span class=\"index\">`ndarray.shape`</span>:"
   ]
  },
  {
   "cell_type": "code",
   "execution_count": null,
   "id": "e3a4941e",
   "metadata": {},
   "outputs": [
    {
     "name": "stdout",
     "output_type": "stream",
     "text": [
      "(3, 4)\n"
     ]
    }
   ],
   "source": [
    "a = np.array([[0, 1, 2, 3], [1, 0, 2, 6], [2, 1, 0, 5]])\n",
    "print(a.shape)"
   ]
  },
  {
   "cell_type": "markdown",
   "id": "4cdf5481",
   "metadata": {},
   "source": [
    "As can be observed, for an array with 3 rows and 4 columns, the shape will be `(3, 4)`. Note that the length of the `shape` tuple corresponds to the number of dimensions, `ndim`, of an array. The `shape` of an array can be used to compute the total number of items in an array, by multiplying the elements returned by `shape` (i.e., 3 rows times 4 columns yields 12 items).\n",
    "\n",
    "Having demonstrated how to create NumPy arrays on the basis of Python's `list` objects, let us now illustrate a number of ways in which arrays can be constructed from scratch using procedures provided by NumPy. These procedures are particularly useful when the shape (and type) of an array is already known, but its actual contents are yet unknown. In contrast with Python's `list`, NumPy arrays are not intended to be resized, because growing and shrinking arrays is an expensive operation. Fortunately, NumPy provides a number of functions to construct arrays of a predetermined size with initial placeholder content. First, we will have a look at the function <span class=\"index\">`numpy.zeros()`</span>, which creates arrays filled with zeros (of type `float64` by default):"
   ]
  },
  {
   "cell_type": "code",
   "execution_count": null,
   "id": "7b1bf58b",
   "metadata": {},
   "outputs": [
    {
     "name": "stdout",
     "output_type": "stream",
     "text": [
      "[[0. 0. 0. 0. 0.]\n",
      " [0. 0. 0. 0. 0.]\n",
      " [0. 0. 0. 0. 0.]]\n"
     ]
    }
   ],
   "source": [
    "print(np.zeros((3, 5)))"
   ]
  },
  {
   "cell_type": "markdown",
   "id": "e3e0fb10",
   "metadata": {},
   "source": [
    "The `shape` parameter of `numpy.zeros()` determines the shape of the constructed array. When `shape` is a single integer, a one-dimensional array is constructed:"
   ]
  },
  {
   "cell_type": "code",
   "execution_count": null,
   "id": "fe49dc5f",
   "metadata": {},
   "outputs": [
    {
     "name": "stdout",
     "output_type": "stream",
     "text": [
      "[0. 0. 0. 0. 0. 0. 0. 0. 0. 0.]\n"
     ]
    }
   ],
   "source": [
    "print(np.zeros(10))"
   ]
  },
  {
   "cell_type": "markdown",
   "id": "6c9e88c5",
   "metadata": {},
   "source": [
    "The function <span class=\"index\">`numpy.ones()`</span> and <span class=\"index\">`numpy.empty()`</span> behave in a similar manner, with `numpy.ones()` creating arrays full of ones and `numpy.empty()` creating arrays as quickly as possible with no guarantee about their content."
   ]
  },
  {
   "cell_type": "code",
   "execution_count": null,
   "id": "5e54f3ec",
   "metadata": {},
   "outputs": [
    {
     "name": "stdout",
     "output_type": "stream",
     "text": [
      "[[1 1 1 1]\n",
      " [1 1 1 1]\n",
      " [1 1 1 1]]\n"
     ]
    }
   ],
   "source": [
    "print(np.ones((3, 4), dtype='int64'))"
   ]
  },
  {
   "cell_type": "code",
   "execution_count": null,
   "id": "3a72264f",
   "metadata": {},
   "outputs": [
    {
     "name": "stdout",
     "output_type": "stream",
     "text": [
      "[[0.0e+000 4.9e-324]\n",
      " [4.9e-324 9.9e-324]\n",
      " [1.5e-323 2.5e-323]]\n"
     ]
    }
   ],
   "source": [
    "print(np.empty((3, 2)))"
   ]
  },
  {
   "cell_type": "markdown",
   "id": "3a6a805f",
   "metadata": {},
   "source": [
    "Should an array filled with randomly generated values be desired, NumPy's submodule <span\n",
    "class=\"index\">`numpy.random()`</span> implements a rich variety of functions for producing\n",
    "random contents. Here, we demonstrate a function to sample random floating point numbers\n",
    "in the interval 0 to 1. The function works the same as before, and produces either\n",
    "one-dimensional or multidimensional arrays depending on the size parameter:"
   ]
  },
  {
   "cell_type": "code",
   "execution_count": null,
   "id": "b642acc5",
   "metadata": {},
   "outputs": [
    {
     "name": "stdout",
     "output_type": "stream",
     "text": [
      "[0.04289059 0.11546802 0.40834152 0.33923439 0.2435908 ]\n"
     ]
    }
   ],
   "source": [
    "print(np.random.random_sample(5))"
   ]
  },
  {
   "cell_type": "code",
   "execution_count": null,
   "id": "ef2cb93d",
   "metadata": {},
   "outputs": [
    {
     "name": "stdout",
     "output_type": "stream",
     "text": [
      "[[0.2681808  0.25061548 0.45567564]\n",
      " [0.99833773 0.28882588 0.14021018]]\n"
     ]
    }
   ],
   "source": [
    "print(np.random.random_sample((2, 3)))"
   ]
  },
  {
   "cell_type": "markdown",
   "id": "aebeecb5",
   "metadata": {},
   "source": [
    "NumPy's counterpart of Python's `range` function is <span class=\"index\">`numpy.arange()`</span>, which produces sequences of numbers as array objects. An interesting difference between `range` and `numpy.arange()` is that the latter accepts floats as arguments, which enables us to easily create floating-point sequences like the following:"
   ]
  },
  {
   "cell_type": "code",
   "execution_count": null,
   "id": "6d8222a3",
   "metadata": {},
   "outputs": [
    {
     "name": "stdout",
     "output_type": "stream",
     "text": [
      "[0.   0.25 0.5  0.75 1.   1.25 1.5  1.75]\n"
     ]
    }
   ],
   "source": [
    "a = np.arange(0, 2, 0.25)\n",
    "print(a)"
   ]
  },
  {
   "cell_type": "markdown",
   "id": "b6b326b1",
   "metadata": {},
   "source": [
    "(sec-vector-space-model-indexing-and-slicing)=\n",
    "### Indexing and slicing arrays\n",
    "\n",
    "Indexing and slicing NumPy arrays behaves similarly to accessing elements in Python's `list`. Accessing a single element from a one-dimensional array can be done by specifying its corresponding index within square brackets:"
   ]
  },
  {
   "cell_type": "code",
   "execution_count": null,
   "id": "80148ab4",
   "metadata": {},
   "outputs": [
    {
     "name": "stdout",
     "output_type": "stream",
     "text": [
      "5\n"
     ]
    }
   ],
   "source": [
    "a = np.arange(10)\n",
    "print(a[5])"
   ]
  },
  {
   "cell_type": "markdown",
   "id": "a6f0d696",
   "metadata": {},
   "source": [
    "Similarly, an array can be sliced to retrieve a sub-array, just as with Python's `list`:"
   ]
  },
  {
   "cell_type": "code",
   "execution_count": null,
   "id": "a220dea9",
   "metadata": {},
   "outputs": [
    {
     "name": "stdout",
     "output_type": "stream",
     "text": [
      "[3 4 5 6 7]\n"
     ]
    }
   ],
   "source": [
    "print(a[3:8])"
   ]
  },
  {
   "cell_type": "markdown",
   "id": "f209e921",
   "metadata": {},
   "source": [
    "The strength of NumPy arrays becomes more evident in the context of multidimensional arrays. While Python's `list` and NumPy's 1-dimensional arrays allow for only a single index (or slice), multidimensional arrays allow for a (slice) index per dimension (sometimes called axis), separated by commas. This syntax provides a powerful mechanism to index and manipulate arrays. Let us start with a simple example. In the following code block, we retrieve the frequency of the word *monsieur* (\"sir\") from the third document. This is done by providing two indexes separated by a comma, of which the first corresponds to the row index of the third document, and the second points to the column of the word *monsieur*:\n",
    "\n",
    "```{warning}\n",
    "Here, we assume that you have executed all code in the chapter above up until (and\n",
    "including) the code blocks in section {ref}`(sec-vector-space-model-mapping-genre)=`, so that you have\n",
    "the object `document_term_matrix` available. \n",
    "```"
   ]
  },
  {
   "cell_type": "code",
   "execution_count": null,
   "id": "903fc45a",
   "metadata": {},
   "outputs": [
    {
     "name": "stdout",
     "output_type": "stream",
     "text": [
      "17\n"
     ]
    }
   ],
   "source": [
    "word_index = vocabulary.index('monsieur')\n",
    "document_term_matrix = np.array(document_term_matrix)\n",
    "print(document_term_matrix[2, word_index])"
   ]
  },
  {
   "cell_type": "markdown",
   "id": "a29bc47b",
   "metadata": {},
   "source": [
    "Note that the order of these indexes corresponds to the shape of the `document_term_matrix`, in which the value at the first index indicates the number of documents, and the value in the second position counts the size of the vocabulary.\n",
    "\n",
    "To retrieve the frequency of a given word for a sequence of documents, we use the Python slice convention in the first position. The following line retrieves an array consisting of the frequencies of *monsieur* in the first five documents of the document-term matrix:"
   ]
  },
  {
   "cell_type": "code",
   "execution_count": null,
   "id": "b904c6df",
   "metadata": {},
   "outputs": [
    {
     "name": "stdout",
     "output_type": "stream",
     "text": [
      "[ 9  0 17  9 11]\n"
     ]
    }
   ],
   "source": [
    "print(document_term_matrix[:5, word_index])"
   ]
  },
  {
   "cell_type": "markdown",
   "id": "340971f0",
   "metadata": {},
   "source": [
    "Here, the left-hand side of the comma specifies a slice (i.e., the first five rows), and the index to the right of the comma indicates the column index (corresponding to *monsieur*). Similarly, to construct an array with frequencies for a number of specific columns, we can also use a slice index. Consider the following indexing operation, which constructs an array with counts corresponding to the words in columns 10 to 40 for the sixth document:"
   ]
  },
  {
   "cell_type": "code",
   "execution_count": null,
   "id": "e358ed41",
   "metadata": {},
   "outputs": [
    {
     "name": "stdout",
     "output_type": "stream",
     "text": [
      "[0 0 0 0 0 0 0 0 0 0 0 0 0 0 0 0 0 0 0 0 0 0 0 0 0 0 0 0 0 0]\n"
     ]
    }
   ],
   "source": [
    "print(document_term_matrix[5, 10:40])"
   ]
  },
  {
   "cell_type": "markdown",
   "id": "7de3a64b",
   "metadata": {},
   "source": [
    "To access all rows of a particular column (or collection of columns), we write the following:"
   ]
  },
  {
   "cell_type": "code",
   "execution_count": null,
   "id": "86119bde",
   "metadata": {},
   "outputs": [],
   "source": [
    "column_values = document_term_matrix[:, word_index]"
   ]
  },
  {
   "cell_type": "markdown",
   "id": "02da9bfc",
   "metadata": {},
   "source": [
    "The same mechanism can be used to access all columns of a particular row (or collection of rows), as shown by the following:"
   ]
  },
  {
   "cell_type": "code",
   "execution_count": null,
   "id": "84db86f8",
   "metadata": {},
   "outputs": [
    {
     "name": "stdout",
     "output_type": "stream",
     "text": [
      "[0 0 0 ... 0 0 0]\n"
     ]
    }
   ],
   "source": [
    "print(document_term_matrix[5, :])"
   ]
  },
  {
   "cell_type": "markdown",
   "id": "94f600ee",
   "metadata": {},
   "source": [
    "When an array is indexed with less indexes than the array has dimensions, NumPy assumes the missing indexes to be complete. This is why the following less verbose (and common) notation is equivalent to the previous example:"
   ]
  },
  {
   "cell_type": "code",
   "execution_count": null,
   "id": "2615fca3",
   "metadata": {},
   "outputs": [
    {
     "name": "stdout",
     "output_type": "stream",
     "text": [
      "[0 0 0 ... 0 0 0]\n"
     ]
    }
   ],
   "source": [
    "print(document_term_matrix[5])"
   ]
  },
  {
   "cell_type": "markdown",
   "id": "1d6d6b7a",
   "metadata": {},
   "source": [
    "In addition to indexing by integers and slices, NumPy offers a number of \"fancy\" indexing\n",
    "techniques (\"fancy\" is, indeed, the common term for this form of indexing). We will\n",
    "demonstrate two of them: (i) sequence indexing, and (ii) boolean indexing. Sequence\n",
    "indexing is particularly useful when accessing discontinuous elements from an array. For\n",
    "example, to construct an array with word counts for a few discontinuous documents, a\n",
    "sequence of integers is given as a row index:"
   ]
  },
  {
   "cell_type": "code",
   "execution_count": null,
   "id": "e98eb8e8",
   "metadata": {},
   "outputs": [
    {
     "name": "stdout",
     "output_type": "stream",
     "text": [
      "[[0 0 0 ... 0 0 0]\n",
      " [0 0 0 ... 0 0 0]\n",
      " [0 0 0 ... 0 0 0]]\n"
     ]
    }
   ],
   "source": [
    "print(document_term_matrix[(1, 8, 3), :])"
   ]
  },
  {
   "cell_type": "markdown",
   "id": "5de2100c",
   "metadata": {},
   "source": [
    "In a similar vein as the previous example, we can create a reduced array consisting of only a few columns. The following example shows how to construct a reduced array with word counts for the words *monsieur*, *madame*, and *amour*:"
   ]
  },
  {
   "cell_type": "code",
   "execution_count": null,
   "id": "136dd7e7",
   "metadata": {},
   "outputs": [
    {
     "name": "stdout",
     "output_type": "stream",
     "text": [
      "[[ 9  3  1]\n",
      " [ 0  0  3]\n",
      " [17  4  0]\n",
      " ...\n",
      " [ 4 35  7]\n",
      " [ 0  1 11]\n",
      " [ 0 31 15]]\n"
     ]
    }
   ],
   "source": [
    "words = 'monsieur', 'madame', 'amour'\n",
    "word_indexes = [vocabulary.index(word) for word in words]\n",
    "print(document_term_matrix[:, word_indexes])"
   ]
  },
  {
   "cell_type": "markdown",
   "id": "d928f5e2",
   "metadata": {},
   "source": [
    "We conclude this section with one final fancy indexing technique, <span class=\"index\">*boolean indexing*</span>. Say we are interested in all plays in which the word *de* occurs. Using pure Python, we could solve this problem by iterating over all rows in `document_term_matrix` (see above) using a `for` loop, and check for each row if the column corresponding to *de* has a frequency higher than zero. Unfortunately, this strategy is rather inefficient and slow, especially for large lists of numbers. NumPy provides a much more efficient solution through its use of so-called \"<span class=\"index\">vectorized operation</span>s\". But before we explain this solution, we first need to discuss the concept of vectorized operations. Consider the following list of numbers:"
   ]
  },
  {
   "cell_type": "code",
   "execution_count": null,
   "id": "41aeb3b0",
   "metadata": {},
   "outputs": [],
   "source": [
    "numbers = [0, 1, 1, 2, 3, 5, 8, 13, 21, 34, 55]"
   ]
  },
  {
   "cell_type": "markdown",
   "id": "99069882",
   "metadata": {},
   "source": [
    "Imagine we want to update this list by multiplying each number by 10. In pure Python, a simple way to accomplish this is by means of a list comprehension, as shown in the following code block:"
   ]
  },
  {
   "cell_type": "code",
   "execution_count": null,
   "id": "e046e5c3",
   "metadata": {},
   "outputs": [
    {
     "name": "stdout",
     "output_type": "stream",
     "text": [
      "[0, 10, 10, 20, 30, 50, 80, 130, 210, 340, 550]\n"
     ]
    }
   ],
   "source": [
    "print([number * 10 for number in numbers])"
   ]
  },
  {
   "cell_type": "markdown",
   "id": "2c114ce0",
   "metadata": {},
   "source": [
    "Using NumPy's optimized vectorization mechanism, this can be rewritten to:"
   ]
  },
  {
   "cell_type": "code",
   "execution_count": null,
   "id": "20f681ea",
   "metadata": {},
   "outputs": [
    {
     "name": "stdout",
     "output_type": "stream",
     "text": [
      "[  0  10  10  20  30  50  80 130 210 340 550]\n"
     ]
    }
   ],
   "source": [
    "numbers = np.array(numbers)\n",
    "print(numbers * 10)"
   ]
  },
  {
   "cell_type": "markdown",
   "id": "7118a5cb",
   "metadata": {},
   "source": [
    "With this notation, Python's `for`-loop is replaced with an optimized operation written\n",
    "using a lower-level programming language such as C. The performance difference between\n",
    "pure Python and NumPy for this specific example may be barely noticeable. However, the\n",
    "performance difference becomes increasingly important for larger lists of numbers.\n",
    "IPython's \"magic command\" <span class=\"index\">`%timeit`</span> enables us to conveniently time the speed of execution of a particular piece of code. Let us time the execution of multiplying a list of a million numbers by 10:"
   ]
  },
  {
   "cell_type": "code",
   "execution_count": null,
   "id": "3006d5d3",
   "metadata": {},
   "outputs": [
    {
     "name": "stdout",
     "output_type": "stream",
     "text": [
      "62.5 ms ± 720 µs per loop (mean ± std. dev. of 7 runs, 10 loops each)\n"
     ]
    }
   ],
   "source": [
    "numbers = list(range(1000000))\n",
    "%timeit [number * 10 for number in numbers]"
   ]
  },
  {
   "cell_type": "markdown",
   "id": "3f029f71",
   "metadata": {},
   "source": [
    "The exact execution times may fluctuate from machine to machine, but execution times of the above example typically fall in the range of milliseconds. The timing for the same computation with NumPy's <span class=\"index\">vectorized operation</span>s returns a much smaller number best described using *micro*seconds:"
   ]
  },
  {
   "cell_type": "code",
   "execution_count": null,
   "id": "1a39e73b",
   "metadata": {},
   "outputs": [
    {
     "name": "stdout",
     "output_type": "stream",
     "text": [
      "1.37 ms ± 18 µs per loop (mean ± std. dev. of 7 runs, 1000 loops each)\n"
     ]
    }
   ],
   "source": [
    "numbers = np.arange(1000000)\n",
    "%timeit numbers * 10"
   ]
  },
  {
   "cell_type": "markdown",
   "id": "e123dd83",
   "metadata": {},
   "source": [
    "Number comparisons (e.g., `5 < 10`) can also be vectorized. Say we have a list of numbers, and we want to filter all numbers smaller than 10. In Python, a solution to this problem could be implemented as follows:"
   ]
  },
  {
   "cell_type": "code",
   "execution_count": null,
   "id": "6e6682ad",
   "metadata": {},
   "outputs": [
    {
     "name": "stdout",
     "output_type": "stream",
     "text": [
      "[0, 1, 1, 2, 3, 5, 8]\n"
     ]
    }
   ],
   "source": [
    "numbers = [0, 1, 1, 2, 3, 5, 8, 13, 21, 34, 55]\n",
    "print([number for number in numbers if number < 10])"
   ]
  },
  {
   "cell_type": "markdown",
   "id": "e7fe052c",
   "metadata": {},
   "source": [
    "Employing NumPy's vectorized number comparison operation, we can rewrite this to the following:"
   ]
  },
  {
   "cell_type": "code",
   "execution_count": null,
   "id": "70c16a82",
   "metadata": {},
   "outputs": [
    {
     "name": "stdout",
     "output_type": "stream",
     "text": [
      "[0 1 1 2 3 5 8]\n"
     ]
    }
   ],
   "source": [
    "numbers = np.array(numbers)\n",
    "print(numbers[numbers < 10])"
   ]
  },
  {
   "cell_type": "markdown",
   "id": "f74f40a5",
   "metadata": {},
   "source": [
    "How does this work? The part within square brackets (`numbers < 10`) performs a vectorized comparison operation, which returns a new array with boolean values representing the outcome (i.e., `True` or `False`) of the number comparison:"
   ]
  },
  {
   "cell_type": "code",
   "execution_count": null,
   "id": "d198fb4e",
   "metadata": {},
   "outputs": [
    {
     "name": "stdout",
     "output_type": "stream",
     "text": [
      "[ True  True  True  True  True  True  True False False False False]\n"
     ]
    }
   ],
   "source": [
    "print(numbers < 10)"
   ]
  },
  {
   "cell_type": "markdown",
   "id": "98ed7c41",
   "metadata": {},
   "source": [
    "We can use such a boolean array (a <span class=\"index\">*mask*</span>) to select from the original array of numbers all elements associated with a `True` value. In other words, using a boolean array, we filter all numbers that pass the conditional expression. Let us now return to the problem of filtering the document-term matrix to include only texts in which the word *de* occurs at least once. The boolean indexing mechanism can be employed to retrieve these texts as follows:"
   ]
  },
  {
   "cell_type": "code",
   "execution_count": null,
   "id": "7881877e",
   "metadata": {},
   "outputs": [
    {
     "name": "stdout",
     "output_type": "stream",
     "text": [
      "[[0 0 0 ... 0 0 0]\n",
      " [0 0 0 ... 0 0 0]\n",
      " [0 0 0 ... 0 0 0]\n",
      " ...\n",
      " [0 0 0 ... 0 0 0]\n",
      " [0 0 0 ... 0 0 0]\n",
      " [0 0 0 ... 0 0 0]]\n"
     ]
    }
   ],
   "source": [
    "print(document_term_matrix[document_term_matrix[:, vocabulary.index('de')] > 0])"
   ]
  },
  {
   "cell_type": "markdown",
   "id": "286407be",
   "metadata": {},
   "source": [
    "(sec-vector-space-model-numpy-aggregating-functions)=\n",
    "### Aggregating functions\n",
    "\n",
    "We now proceed with a brief overview of some of the most important functions in NumPy used to\n",
    "aggregate data, including functions for summing over values and finding the maxumum value in an array. Many of these are also provided as built-in functions in Python. However, just as with the vectorized operations discussed above, their NumPy counterparts are highly optimized and executed in compiled code, which allows for fast aggregating computations. To illustrate the performance gain of utilizing NumPy's optimized aggregation functions, let us start by computing the sum of all numbers in an array. This can be achieved in Python by means of the built-in function `sum()`:"
   ]
  },
  {
   "cell_type": "code",
   "execution_count": null,
   "id": "368122cc",
   "metadata": {},
   "outputs": [
    {
     "name": "stdout",
     "output_type": "stream",
     "text": [
      "50193.84079530211\n"
     ]
    }
   ],
   "source": [
    "numbers = np.random.random_sample(100000)\n",
    "print(sum(numbers))"
   ]
  },
  {
   "cell_type": "markdown",
   "id": "09f11132",
   "metadata": {},
   "source": [
    "Summing over the values in `numbers` using NumPy is done using the function <span class=\"index\">`numpy.sum()`</span> or the method `ndarray.sum()`:"
   ]
  },
  {
   "cell_type": "code",
   "execution_count": null,
   "id": "85db4c4d",
   "metadata": {},
   "outputs": [
    {
     "name": "stdout",
     "output_type": "stream",
     "text": [
      "50193.840795301425\n"
     ]
    }
   ],
   "source": [
    "print(numbers.sum())  # equivalent to np.sum(numbers)"
   ]
  },
  {
   "cell_type": "markdown",
   "id": "a9bd8898",
   "metadata": {},
   "source": [
    "While syntactically similar, NumPy's summing function is orders of magnitude faster than Python's built-in function:"
   ]
  },
  {
   "cell_type": "code",
   "execution_count": null,
   "id": "fc1c87b6",
   "metadata": {},
   "outputs": [
    {
     "name": "stdout",
     "output_type": "stream",
     "text": [
      "6.1 ms ± 234 µs per loop (mean ± std. dev. of 7 runs, 100 loops each)\n"
     ]
    },
    {
     "name": "stdout",
     "output_type": "stream",
     "text": [
      "23 µs ± 602 ns per loop (mean ± std. dev. of 7 runs, 10000 loops each)\n"
     ]
    }
   ],
   "source": [
    "%timeit sum(numbers)\n",
    "%timeit numbers.sum()"
   ]
  },
  {
   "cell_type": "markdown",
   "id": "ba1b561b",
   "metadata": {},
   "source": [
    "In addition to being faster, <span class=\"index\">`numpy.sum()`</span> is designed to work with multidimensional arrays, and, as such, provides a convenient and flexible mechanism to compute sums along a given axis. First, we need to explain the concept of \"<span class=\"index\">axis</span>\". A two-dimensional array, such as the document-term matrix, has two axes: the first axis (`axis=0`) runs vertically down the rows, and the second axis (`axis=1`) runs horizontally across the columns of an array. This is illustrated by {numref}`fig-vector-space-model-numpy-axis`.\n",
    "\n",
    "```{figure} images/axis-hq.png\n",
    "---\n",
    "name: fig-vector-space-model-numpy-axis\n",
    "width: 50%\n",
    "---\n",
    "\n",
    "Visualization of the axis ordering in two-dimensional NumPy arrays.\n",
    "```\n",
    "\n",
    "Under this definition, computing the sum of each row happens along the second axis: for each row we take the sum across its columns. Likewise, computing the sum of each column happens along the first axis, which involves running down its rows. Let us illustrate this with an example. To compute the sum of each row in the document-term matrix, or, in others words, the document lengths, we sum along the column axis (`axis=1`):"
   ]
  },
  {
   "cell_type": "code",
   "execution_count": null,
   "id": "d9acaa0a",
   "metadata": {},
   "outputs": [],
   "source": [
    "sums = document_term_matrix.sum(axis=1)"
   ]
  },
  {
   "cell_type": "markdown",
   "id": "d03d28df",
   "metadata": {},
   "source": [
    "Similarly, computing the corpus-wide frequency of each word (i.e., the sum of each column) is done by setting the parameter `axis` to 0:"
   ]
  },
  {
   "cell_type": "code",
   "execution_count": null,
   "id": "2e3cffc1",
   "metadata": {},
   "outputs": [
    {
     "name": "stdout",
     "output_type": "stream",
     "text": [
      "[2 2 2 ... 4 3 2]\n"
     ]
    }
   ],
   "source": [
    "print(document_term_matrix.sum(axis=0))"
   ]
  },
  {
   "cell_type": "markdown",
   "id": "8b906890",
   "metadata": {},
   "source": [
    "Finally, if no value to `axis` is specified, `numpy.sum()` will sum over all elements in an array. Thus, to compute to total word count in the document-term matrix, we write:"
   ]
  },
  {
   "cell_type": "code",
   "execution_count": null,
   "id": "9ddd9b3a",
   "metadata": {},
   "outputs": [
    {
     "name": "stdout",
     "output_type": "stream",
     "text": [
      "5356125\n"
     ]
    }
   ],
   "source": [
    "print(document_term_matrix.sum())"
   ]
  },
  {
   "cell_type": "markdown",
   "id": "088b5b99",
   "metadata": {},
   "source": [
    "NumPy provides many other aggregating functions, such as <span class=\"index\">`numpy.min()`</span> and <span class=\"index\">`numpy.max()`</span> to compute the minimum/maximum of an array or along an axis, or <span class=\"index\">`numpy.mean()`</span> to compute the arithmetic mean (cf. chapter {ref}`chp-statistics-essentials`). However, it is beyond the scope of this brief introduction into NumPy to discuss any of these functions in more detail, and for information we refer the reader to NumPy's excellent online documentation.\n",
    "\n",
    "(sec-vector-space-model-array-broadcasting)=\n",
    "### Array Broadcasting\n",
    "\n",
    "In what preceded, we have briefly touched upon the concept of array arithmetic. We conclude this introduction into NumPy with a slightly more detailed account of this concept, and introduce the more advanced concept of \"<span class=\"index\">array broadcasting</span>\", which refers to the way NumPy handles arrays with different shapes during arithmetic operations. Without broadcasting, array arithmetic would only be allowed when two arrays, for example $a$ and $b$, have exactly the same shape. This is required, because arithmetic operators are evaluated \"element-wise\", meaning that the operation is performed on each item in array $a$ and its corresponding item (i.e., with the same positional index) in array $b$. An example is given in the following code block, in which we multiply the numbers in array `a` with the numbers in array `b`:"
   ]
  },
  {
   "cell_type": "code",
   "execution_count": null,
   "id": "0695bb25",
   "metadata": {},
   "outputs": [
    {
     "name": "stdout",
     "output_type": "stream",
     "text": [
      "[ 2  8 18]\n"
     ]
    }
   ],
   "source": [
    "a = np.array([1, 2, 3])\n",
    "b = np.array([2, 4, 6])\n",
    "print(a * b)"
   ]
  },
  {
   "cell_type": "markdown",
   "id": "ce1efbf7",
   "metadata": {},
   "source": [
    "Essentially, array broadcasting provides the means to perform array arithmetic on arrays with different shapes by \"stretching\" the smaller array to match the shape of the larger array, thus making their shapes compatible. The observant reader might have noticed that we already encountered an example of array broadcasting when the concept of vectorized arithmetic operations was explained. A similar example is given by:"
   ]
  },
  {
   "cell_type": "code",
   "execution_count": null,
   "id": "051910f2",
   "metadata": {},
   "outputs": [
    {
     "name": "stdout",
     "output_type": "stream",
     "text": [
      "[2 4 6]\n"
     ]
    }
   ],
   "source": [
    "a = np.array([1, 2, 3])\n",
    "print(a * 2)"
   ]
  },
  {
   "cell_type": "markdown",
   "id": "377ddf8f",
   "metadata": {},
   "source": [
    "In this example, the numbers in array `a` are multiplied by the scalar `2`, which, strictly speaking, breaks the \"rule\" of two arrays having exactly the same shape. Yet, the computation proceeds correctly, working as if we had multiplied ``a`` by ``np.array([2, 2, 2])``. NumPy's <span class=\"index\">broadcasting</span> mechanism stretches the number `2` into an array with the same shape as array `a`. This stretching process is illustrated by {numref}`fig-vector-space-model-numpy-broadcasting`:\n",
    "\n",
    "```{figure} images/broadcasting-simple-hq.png\n",
    "---\n",
    "name: fig-vector-space-model-numpy-broadcasting\n",
    "width: 50%\n",
    "---\n",
    "\n",
    "Visualization of NumPy's broadcasting mechanism. Here the scalar 2 is stretched into an array with size 3.\n",
    "```\n",
    "\n",
    "Broadcasting operations are parsimonious, and avoid allocating intermediate arrays (e.g., `np.array([2, 2, 2])`) to perform the computation. However, conceptualizing array broadcasting as a stretching operation helps to better understand when broadcasting is applied, and when it cannot be applied. To determine whether or not array arithmetic can be applied to two arrays, NumPy assesses the compatibility of the dimensions of two arrays. Two dimensions are compatible if and only if (i) they have the same size, or (ii) one dimension equals 1. NumPy compares the shapes of two arrays element-wise, starting with the innermost dimensions, and then working outwards. Consider {numref}`fig-vector-space-model-broadcasting-matrix`, in which the upper half visualizes the multiplication of a $4 \\times 3$ array by a one-dimensional array with 3 items.\n",
    "\n",
    "```{figure} images/broadcasting-matrix-hq.png\n",
    "---\n",
    "name: fig-vector-space-model-broadcasting-matrix\n",
    "width: 50%\n",
    "---\n",
    "\n",
    "Visualization of NumPy's broadcasting mechanism in the context of multiplying a two-dimensional array with a one-dimensional array. Here the one-dimensional array `[1, 2, 3]` is stretched vertically to fit the dimensions of the other array.\n",
    "```\n",
    "\n",
    "Because the number of items of the one-dimensional array matches the size of the innermost\n",
    "dimension of the larger array (i.e., 3 and 3), the smaller 1 x 3 array can be broadcast\n",
    "across the larger $4 \\times 3$ array so that their shapes match (cf. the lower half of the\n",
    "figure). Another example would be to multiply a $4 \\times 3$ array by a $1 \\times 4$\n",
    "array. However, as visualized by {numref}`fig-vector-space-model-broadcasting-error`, <span class=\"index\">array broadcasting</span> cannot be applied for this combination of arrays, because the innermost dimension of the left array (i.e., 3) is incompatible with the number of items of the one-dimensional array (i.e., 4). As a rule of thumb, one should remember that in order to multiply a two-dimensional array with a one-dimensional array, the number of items in the latter should match the outermost dimension of the former.\n",
    "\n",
    "```{figure} images/broadcasting-error-hq.png\n",
    "---\n",
    "name: fig-vector-space-model-broadcasting-error\n",
    "width: 50%\n",
    "---\n",
    "\n",
    "Visualization of the inapplicability of NumPy's broadcasting mechanism in the context of multiplying a one-dimensional array whose size mismatches the outermost dimension of a two-dimensional array.\n",
    "```"
   ]
  }
 ],
 "metadata": {
  "jupytext": {
   "cell_metadata_filter": "-all",
   "formats": "md:myst",
   "text_representation": {
    "extension": ".md",
    "format_name": "myst",
    "format_version": 0.13,
    "jupytext_version": "1.10.3"
   }
  },
  "kernelspec": {
   "display_name": "Python 3 (ipykernel)",
   "language": "python",
   "name": "python3"
  },
  "language_info": {
   "codemirror_mode": {
    "name": "ipython",
    "version": 3
   },
   "file_extension": ".py",
   "mimetype": "text/x-python",
   "name": "python",
   "nbconvert_exporter": "python",
   "pygments_lexer": "ipython3",
   "version": "3.9.19"
  },
  "source_map": [
   16,
   20,
   81,
   100,
   127,
   138,
   142,
   145,
   153,
   162,
   168,
   200,
   206,
   219,
   223,
   250,
   254,
   258,
   262,
   268,
   272,
   274,
   278,
   283,
   287,
   292,
   296,
   327,
   331,
   334,
   338,
   345,
   349,
   379,
   385,
   389,
   400,
   405,
   441,
   467,
   472,
   480,
   493,
   501,
   507,
   513,
   519,
   521,
   532,
   542,
   565,
   569,
   573,
   575,
   579,
   584,
   589,
   601,
   610,
   614,
   619,
   644,
   667,
   690,
   694,
   703,
   710,
   779,
   812,
   816,
   822,
   845,
   849,
   858,
   887,
   907,
   911,
   953,
   963,
   972,
   985,
   998,
   1015,
   1040,
   1042,
   1048,
   1051,
   1055,
   1058,
   1064,
   1068,
   1072,
   1080,
   1084,
   1088,
   1101,
   1104,
   1108,
   1111,
   1138,
   1147,
   1208,
   1210,
   1215,
   1217,
   1221,
   1223,
   1227,
   1230,
   1234,
   1237,
   1241,
   1244,
   1248,
   1251,
   1255,
   1258,
   1262,
   1265,
   1271,
   1273,
   1277,
   1279,
   1283,
   1287,
   1289,
   1297,
   1301,
   1303,
   1307,
   1310,
   1317,
   1320,
   1324,
   1326,
   1336,
   1340,
   1346,
   1348,
   1352,
   1354,
   1358,
   1360,
   1364,
   1366,
   1370,
   1372,
   1381,
   1383,
   1387,
   1391,
   1395,
   1397,
   1401,
   1403,
   1407,
   1410,
   1418,
   1421,
   1425,
   1428,
   1432,
   1435,
   1439,
   1442,
   1446,
   1448,
   1452,
   1454,
   1462,
   1465,
   1469,
   1471,
   1475,
   1478,
   1493,
   1495,
   1499,
   1501,
   1505,
   1507,
   1516,
   1520,
   1524,
   1527
  ]
 },
 "nbformat": 4,
 "nbformat_minor": 5
}
